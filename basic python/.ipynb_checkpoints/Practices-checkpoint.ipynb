{
 "cells": [
  {
   "cell_type": "code",
   "execution_count": 15,
   "id": "d22e5fad",
   "metadata": {},
   "outputs": [
    {
     "name": "stdout",
     "output_type": "stream",
     "text": [
      "Python  Helloprogeaming\n"
     ]
    }
   ],
   "source": [
    "print(\"Python\",end=\"  \")\n",
    "print(\"Hello\",end='')\n",
    "print(\"progeaming\")"
   ]
  },
  {
   "cell_type": "code",
   "execution_count": 12,
   "id": "4a5e036e",
   "metadata": {},
   "outputs": [
    {
     "name": "stdout",
     "output_type": "stream",
     "text": [
      "java--python--C--programing\n"
     ]
    }
   ],
   "source": [
    "\n",
    "print(\"java\",\"python\",\"C\",\"programing\",sep='--')"
   ]
  },
  {
   "cell_type": "code",
   "execution_count": 13,
   "id": "7d62c005",
   "metadata": {},
   "outputs": [
    {
     "name": "stdout",
     "output_type": "stream",
     "text": [
      "22\n"
     ]
    }
   ],
   "source": [
    "print(45//2)"
   ]
  },
  {
   "cell_type": "code",
   "execution_count": 27,
   "id": "eaa9400c",
   "metadata": {},
   "outputs": [
    {
     "name": "stdout",
     "output_type": "stream",
     "text": [
      "1\n"
     ]
    }
   ],
   "source": [
    "a=37\n",
    "b=2\n",
    "a%=b\n",
    "print(a)"
   ]
  },
  {
   "cell_type": "code",
   "execution_count": 59,
   "id": "1d250f3f",
   "metadata": {},
   "outputs": [
    {
     "name": "stdout",
     "output_type": "stream",
     "text": [
      "False\n"
     ]
    }
   ],
   "source": [
    "print(12<12)\n",
    "\n",
    "\n"
   ]
  },
  {
   "cell_type": "code",
   "execution_count": 72,
   "id": "a465bce5",
   "metadata": {},
   "outputs": [
    {
     "name": "stdout",
     "output_type": "stream",
     "text": [
      "{False}\n"
     ]
    }
   ],
   "source": [
    "a={12,45,56}\n",
    "b={12  not in a}\n",
    "print(b)"
   ]
  },
  {
   "cell_type": "code",
   "execution_count": 79,
   "id": "6d1f91e1",
   "metadata": {},
   "outputs": [
    {
     "name": "stdout",
     "output_type": "stream",
     "text": [
      "False\n",
      "140737238661256\n",
      "2495105297040\n"
     ]
    }
   ],
   "source": [
    "a=12\n",
    "b=12\n",
    "a=c\n",
    "print(a is b)\n",
    "print(id(a))\n",
    "print(id(b))\n"
   ]
  },
  {
   "cell_type": "code",
   "execution_count": 80,
   "id": "aaf70b2b",
   "metadata": {},
   "outputs": [
    {
     "name": "stdout",
     "output_type": "stream",
     "text": [
      "12\n"
     ]
    }
   ],
   "source": [
    "print(3<<2)"
   ]
  },
  {
   "cell_type": "code",
   "execution_count": 81,
   "id": "229c8fd2",
   "metadata": {},
   "outputs": [
    {
     "name": "stdout",
     "output_type": "stream",
     "text": [
      "[1, 2, 3, 4, 5]\n",
      "['Apple', 'Mango', 'Banana', 'Orange']\n",
      "[1, 2, 3, 4, 5, 'Apple', 'Mango', 'Banana', 'Orange']\n",
      "2 Is Not Avaialable In List1\n",
      "apple Is Avaialable In List2\n",
      "Length Of List1 Is :  5\n",
      "Length Of List2 Is :  4\n",
      "Length Of List1 And List2 Is :  9\n",
      "[1, 2, 3, 4.1, 5.1, 6.1]\n",
      "['Hi', 'Hi', 'Hi', 'Hi']\n",
      "1 2 3 4 5 "
     ]
    }
   ],
   "source": [
    "list1=[1,2,3,4,5]\n",
    "print(list1)\n",
    "\n",
    "list2=['Apple','Mango','Banana','Orange']\n",
    "print(list2)\n",
    "\n",
    "print(list1+list2)\n",
    "\n",
    "if 7 in list1:\n",
    "    print(\"2 Is Avaialable In List1\")\n",
    "else:\n",
    "    print(\"2 Is Not Avaialable In List1\")\n",
    "    \n",
    "if 'Apple' not in list2:\n",
    "    print(\"apple Is Not Avaialable In List2\")\n",
    "else:\n",
    "    print(\"apple Is Avaialable In List2\")\n",
    "    \n",
    "print(\"Length Of List1 Is : \",len(list1))\n",
    "print(\"Length Of List2 Is : \",len(list2))\n",
    "print(\"Length Of List1 And List2 Is : \",len(list1+list2))\n",
    "print([1,2,3]+[4.1,5.1,6.1])\n",
    "print(['Hi']*4)\n",
    "\n",
    "for x in list1:\n",
    "    print(x,end=\" \")"
   ]
  },
  {
   "cell_type": "code",
   "execution_count": 82,
   "id": "710fcc3c",
   "metadata": {},
   "outputs": [
    {
     "name": "stdout",
     "output_type": "stream",
     "text": [
      "[0, 1, 4, 9, 16, 25, 36, 49, 64, 81]\n",
      "81\n",
      "0\n",
      "[0, 1, 4, 9, 16, 25, 36, 49, 64, 81, 10, 20, 30, 40, 50]\n",
      "[0, 1, 4, 10, 9, 16, 25, 36, 49, 64, 81, 10, 20, 30, 40, 50]\n",
      "2\n"
     ]
    }
   ],
   "source": [
    "\n",
    "a=[]\n",
    "for x in range(10):\n",
    "    a.append(x**2)\n",
    "        \n",
    "print(a)\n",
    "print(max(a))\n",
    "print(min(a))\n",
    "\n",
    "b=[10,20,30,40,50]\n",
    "a.extend(b)\n",
    "print(a)\n",
    "a.insert(3, 10)\n",
    "print(a)\n",
    "print(a.count(10))"
   ]
  },
  {
   "cell_type": "code",
   "execution_count": 93,
   "id": "834b8a4c",
   "metadata": {},
   "outputs": [
    {
     "name": "stdout",
     "output_type": "stream",
     "text": [
      "\n",
      "p\n",
      "pp\n",
      "ppp\n",
      "pppp\n",
      "ppppp\n",
      "pppppp\n",
      "ppppppp\n",
      "pppppppp\n",
      "ppppppppp\n"
     ]
    }
   ],
   "source": [
    "for i in range(0,10):\n",
    "    print('p'* i)"
   ]
  },
  {
   "cell_type": "code",
   "execution_count": 99,
   "id": "5c3e83b8",
   "metadata": {},
   "outputs": [
    {
     "name": "stdout",
     "output_type": "stream",
     "text": [
      "(1, 2, 3, 'hello', 'pinjal')\n",
      "[1, 2, 3, 'hello', 'pinjal']\n"
     ]
    }
   ],
   "source": [
    "a=(1,2,3,'hello', 'pinjal')\n",
    "print(a)\n",
    "print(list(a))"
   ]
  },
  {
   "cell_type": "code",
   "execution_count": 100,
   "id": "fdbf284d",
   "metadata": {},
   "outputs": [
    {
     "name": "stdout",
     "output_type": "stream",
     "text": [
      "[5, 10, 7, 4, 15, 3]\n",
      "(5, 10, 7, 4, 15, 3)\n"
     ]
    }
   ],
   "source": [
    "listx = [5, 10, 7, 4, 15, 3]\n",
    "print(listx)\n",
    "#use the tuple() function built-in Python, passing as parameter the list\n",
    "tuplex = tuple(listx)\n",
    "print(tuplex)"
   ]
  },
  {
   "cell_type": "code",
   "execution_count": 101,
   "id": "60aa02a2",
   "metadata": {},
   "outputs": [
    {
     "name": "stdout",
     "output_type": "stream",
     "text": [
      "(4, 6, 2, 8, 3, 1)\n",
      "(4, 6, 2, 8, 3, 1, 9)\n",
      "(4, 6, 2, 8, 3, 15, 20, 25, 4, 6, 2, 8, 3)\n",
      "(4, 6, 2, 8, 3, 15, 20, 25, 4, 6, 2, 8, 3, 30)\n"
     ]
    }
   ],
   "source": [
    "tuplex = (4, 6, 2, 8, 3, 1) \n",
    "print(tuplex)\n",
    "#tuples are immutable, so you can not add new elements\n",
    "#using merge of tuples with the + operator you can add an element and it will create a new tuple\n",
    "tuplex = tuplex + (9,)\n",
    "print(tuplex)\n",
    "#adding items in a specific index\n",
    "tuplex = tuplex[:5] + (15, 20, 25) + tuplex[:5]\n",
    "print(tuplex)\n",
    "#converting the tuple to list\n",
    "listx = list(tuplex) \n",
    "#use different ways to add items in list\n",
    "listx.append(30)\n",
    "tuplex = tuple(listx)\n",
    "print(tuplex)"
   ]
  }
 ],
 "metadata": {
  "kernelspec": {
   "display_name": "Python 3 (ipykernel)",
   "language": "python",
   "name": "python3"
  },
  "language_info": {
   "codemirror_mode": {
    "name": "ipython",
    "version": 3
   },
   "file_extension": ".py",
   "mimetype": "text/x-python",
   "name": "python",
   "nbconvert_exporter": "python",
   "pygments_lexer": "ipython3",
   "version": "3.9.13"
  }
 },
 "nbformat": 4,
 "nbformat_minor": 5
}
