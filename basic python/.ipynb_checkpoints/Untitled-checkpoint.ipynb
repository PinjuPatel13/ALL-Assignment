{
 "cells": [
  {
   "cell_type": "code",
   "execution_count": 20,
   "id": "075ffde8",
   "metadata": {},
   "outputs": [
    {
     "name": "stdout",
     "output_type": "stream",
     "text": [
      "34\n",
      "{6, 7, 89, 76, 45}\n"
     ]
    }
   ],
   "source": [
    "set1={34,45,6,7,89,76,76}\n",
    "print(set1.pop())\n",
    "print(set1)"
   ]
  },
  {
   "cell_type": "code",
   "execution_count": 23,
   "id": "a9947cd4",
   "metadata": {},
   "outputs": [
    {
     "name": "stdout",
     "output_type": "stream",
     "text": [
      "{34, 2, 3, 4, 6, 7, 5, 76, 45, 89}\n"
     ]
    }
   ],
   "source": [
    "set1={34,45,6,7,89,76,76}\n",
    "set2={2,3,4,5,6}\n",
    "set3=set1.union(set2)\n",
    "print(set3)"
   ]
  },
  {
   "cell_type": "code",
   "execution_count": 28,
   "id": "55e7ae2a",
   "metadata": {},
   "outputs": [
    {
     "name": "stdout",
     "output_type": "stream",
     "text": [
      "{89, 34, 76}\n"
     ]
    }
   ],
   "source": [
    "set1={34,45,6,7,89,76,76}\n",
    "set2={2,3,45,7,5,6}\n",
    "set3=set1.difference(set2)\n",
    "print(set3)"
   ]
  },
  {
   "cell_type": "code",
   "execution_count": 35,
   "id": "2441c3bf",
   "metadata": {},
   "outputs": [
    {
     "name": "stdout",
     "output_type": "stream",
     "text": [
      "{34, 89, 76} {2, 3, 5, 6, 7, 45}\n"
     ]
    }
   ],
   "source": [
    "set1={34,45,6,7,89,76,76}\n",
    "set2={2,3,45,7,5,6}\n",
    "set1.difference_update(set2)\n",
    "print(set1,set2)"
   ]
  },
  {
   "cell_type": "code",
   "execution_count": 33,
   "id": "de605f2a",
   "metadata": {},
   "outputs": [
    {
     "name": "stdout",
     "output_type": "stream",
     "text": [
      "{4, 5, 6} {4, 5, 6, 7, 8, 9, 10}\n"
     ]
    }
   ],
   "source": [
    "set1={1,2,3,4,5,6}\n",
    "set2={4,5,6,7,8,9,10}\n",
    "set1.intersection_update(set2)\n",
    "print(set1,set2)"
   ]
  },
  {
   "cell_type": "code",
   "execution_count": 48,
   "id": "82c80958",
   "metadata": {},
   "outputs": [
    {
     "name": "stdout",
     "output_type": "stream",
     "text": [
      "{1, 34, 3, 2, 4, 23}\n"
     ]
    }
   ],
   "source": [
    "set1=set()\n",
    "tup1=(23,34,45,34,23,46,89,23,34,1,2,3,4,1,2,3,4)\n",
    "for i in tup1:\n",
    "    if tup1.count(i)>1:\n",
    "        set1.add(i)\n",
    "print(set1)\n",
    "        \n",
    "\n"
   ]
  },
  {
   "cell_type": "code",
   "execution_count": 1,
   "id": "7f6433eb",
   "metadata": {},
   "outputs": [
    {
     "name": "stdout",
     "output_type": "stream",
     "text": [
      "<class 'list'>\n"
     ]
    }
   ],
   "source": [
    "list1=[]\n",
    "print(type(list1))"
   ]
  },
  {
   "cell_type": "code",
   "execution_count": 3,
   "id": "84d1415e",
   "metadata": {},
   "outputs": [
    {
     "name": "stdout",
     "output_type": "stream",
     "text": [
      "[1, 3, 4, 5]\n"
     ]
    }
   ],
   "source": [
    "list1=[1,2,3,4,5]\n",
    "list1.pop(1)\n",
    "print(list1)"
   ]
  },
  {
   "cell_type": "code",
   "execution_count": 6,
   "id": "29a5658f",
   "metadata": {},
   "outputs": [
    {
     "name": "stdout",
     "output_type": "stream",
     "text": [
      "ABC\n"
     ]
    }
   ],
   "source": [
    "#get\n",
    "dict1={1:23,2:34,3:56}\n",
    "print(dict1.get(145,\"ABC\"))\n"
   ]
  },
  {
   "cell_type": "code",
   "execution_count": 7,
   "id": "1bfe2e2d",
   "metadata": {},
   "outputs": [
    {
     "name": "stdout",
     "output_type": "stream",
     "text": [
      "23\n"
     ]
    }
   ],
   "source": [
    "#get\n",
    "dict1={1:23,2:34,3:56}\n",
    "print(dict1.get(1))\n"
   ]
  },
  {
   "cell_type": "code",
   "execution_count": 8,
   "id": "67fad8ec",
   "metadata": {},
   "outputs": [
    {
     "name": "stdout",
     "output_type": "stream",
     "text": [
      "None\n"
     ]
    }
   ],
   "source": [
    "#get\n",
    "dict1={1:23,2:34,3:56}\n",
    "print(dict1.get(145))\n",
    "print(dict1)\n"
   ]
  },
  {
   "cell_type": "code",
   "execution_count": 9,
   "id": "defd97b2",
   "metadata": {},
   "outputs": [
    {
     "name": "stdout",
     "output_type": "stream",
     "text": [
      "None\n",
      "{1: 23, 2: 34, 3: 56, 145: None}\n"
     ]
    }
   ],
   "source": [
    "dict1={1:23,2:34,3:56}\n",
    "print(dict1.setdefault(145))\n",
    "print(dict1)"
   ]
  },
  {
   "cell_type": "code",
   "execution_count": 2,
   "id": "761099ee",
   "metadata": {},
   "outputs": [
    {
     "ename": "AttributeError",
     "evalue": "'dict' object has no attribute 'join'",
     "output_type": "error",
     "traceback": [
      "\u001b[1;31m---------------------------------------------------------------------------\u001b[0m",
      "\u001b[1;31mAttributeError\u001b[0m                            Traceback (most recent call last)",
      "\u001b[1;32m~\\AppData\\Local\\Temp\\ipykernel_15028\\1216605104.py\u001b[0m in \u001b[0;36m<module>\u001b[1;34m\u001b[0m\n\u001b[0;32m      1\u001b[0m \u001b[0mdict1\u001b[0m\u001b[1;33m=\u001b[0m\u001b[1;33m{\u001b[0m\u001b[1;36m1\u001b[0m\u001b[1;33m:\u001b[0m\u001b[1;36m23\u001b[0m\u001b[1;33m,\u001b[0m\u001b[1;36m2\u001b[0m\u001b[1;33m:\u001b[0m\u001b[1;36m34\u001b[0m\u001b[1;33m,\u001b[0m\u001b[1;36m3\u001b[0m\u001b[1;33m:\u001b[0m\u001b[1;36m56\u001b[0m\u001b[1;33m}\u001b[0m\u001b[1;33m\u001b[0m\u001b[1;33m\u001b[0m\u001b[0m\n\u001b[0;32m      2\u001b[0m \u001b[0mdict2\u001b[0m\u001b[1;33m=\u001b[0m\u001b[1;33m{\u001b[0m\u001b[1;36m2\u001b[0m\u001b[1;33m:\u001b[0m\u001b[1;34m\"hello\"\u001b[0m\u001b[1;33m,\u001b[0m\u001b[1;36m1\u001b[0m\u001b[1;33m:\u001b[0m\u001b[1;34m\"34\"\u001b[0m\u001b[1;33m}\u001b[0m\u001b[1;33m\u001b[0m\u001b[1;33m\u001b[0m\u001b[0m\n\u001b[1;32m----> 3\u001b[1;33m \u001b[0mprint\u001b[0m\u001b[1;33m(\u001b[0m\u001b[0mdict1\u001b[0m\u001b[1;33m.\u001b[0m\u001b[0mjoin\u001b[0m\u001b[1;33m(\u001b[0m\u001b[0mdict2\u001b[0m\u001b[1;33m)\u001b[0m\u001b[1;33m)\u001b[0m\u001b[1;33m\u001b[0m\u001b[1;33m\u001b[0m\u001b[0m\n\u001b[0m\u001b[0;32m      4\u001b[0m \u001b[1;31m#print(dict1)\u001b[0m\u001b[1;33m\u001b[0m\u001b[1;33m\u001b[0m\u001b[0m\n",
      "\u001b[1;31mAttributeError\u001b[0m: 'dict' object has no attribute 'join'"
     ]
    }
   ],
   "source": [
    "dict1={1:23,2:34,3:56}\n",
    "dict2={2:\"hello\",1:\"34\"}\n",
    "print(dict1.join(dict2))\n",
    "#print(dict1)"
   ]
  },
  {
   "cell_type": "code",
   "execution_count": 10,
   "id": "3ba53a40",
   "metadata": {},
   "outputs": [
    {
     "name": "stdout",
     "output_type": "stream",
     "text": [
      "ABC\n",
      "{1: 23, 2: 34, 3: 56, 145: 'ABC'}\n"
     ]
    }
   ],
   "source": [
    "dict1={1:23,2:34,3:56}\n",
    "print(dict1.setdefault(145,\"ABC\"))\n",
    "print(dict1)"
   ]
  },
  {
   "cell_type": "code",
   "execution_count": 12,
   "id": "e6a0d9b3",
   "metadata": {
    "scrolled": false
   },
   "outputs": [
    {
     "name": "stdout",
     "output_type": "stream",
     "text": [
      "34\n",
      "{1: 23, 2: 34, 3: 56}\n"
     ]
    }
   ],
   "source": [
    "#setdefault\n",
    "dict1={1:23,2:34,3:56}\n",
    "print(dict1.setdefault(2))\n",
    "print(dict1)"
   ]
  },
  {
   "cell_type": "code",
   "execution_count": 15,
   "id": "cc9f64d0",
   "metadata": {},
   "outputs": [
    {
     "name": "stdout",
     "output_type": "stream",
     "text": [
      "None\n",
      "{1: 23, 2: 'ABC', 3: 56}\n"
     ]
    }
   ],
   "source": [
    "#update(dictonary)\n",
    "dict1={1:23,2:34,3:56}\n",
    "print(dict1.update({2 :\"ABC\"}))\n",
    "print(dict1)"
   ]
  },
  {
   "cell_type": "code",
   "execution_count": 21,
   "id": "b73242f9",
   "metadata": {},
   "outputs": [
    {
     "name": "stdout",
     "output_type": "stream",
     "text": [
      "{1: [1, 2, 3], 2: [1, 2, 3], 3: [1, 2, 3], 4: [1, 2, 3], 5: [1, 2, 3], 6: [1, 2, 3]}\n"
     ]
    }
   ],
   "source": [
    "#fromkey(iterable,value)\n",
    "list1=[1,2,3,4,5,6]\n",
    "val=[1,2,3]\n",
    "dict1=dict.fromkeys(list1,val)\n",
    "print(dict1)"
   ]
  },
  {
   "cell_type": "markdown",
   "id": "9ba5244e",
   "metadata": {},
   "source": [
    "# function "
   ]
  },
  {
   "cell_type": "code",
   "execution_count": 28,
   "id": "57227c7a",
   "metadata": {},
   "outputs": [],
   "source": [
    "def checknum(x):\n",
    "    if x%2==0:\n",
    "        print(\"even\")\n",
    "    else:\n",
    "        print(\"odd\")"
   ]
  },
  {
   "cell_type": "code",
   "execution_count": 30,
   "id": "25181efc",
   "metadata": {},
   "outputs": [
    {
     "name": "stdout",
     "output_type": "stream",
     "text": [
      "odd\n"
     ]
    }
   ],
   "source": [
    "checknum(5)"
   ]
  },
  {
   "cell_type": "code",
   "execution_count": 37,
   "id": "04d52e95",
   "metadata": {},
   "outputs": [],
   "source": [
    "def palindom(x):\n",
    "    if x==x[::-1]:\n",
    "        print(\"palindom\")\n",
    "    else:\n",
    "        print(\"not a palindom\")"
   ]
  },
  {
   "cell_type": "code",
   "execution_count": 39,
   "id": "2343b302",
   "metadata": {},
   "outputs": [
    {
     "name": "stdout",
     "output_type": "stream",
     "text": [
      "not a palindom\n"
     ]
    }
   ],
   "source": [
    "palindom(\"Hello\")"
   ]
  },
  {
   "cell_type": "code",
   "execution_count": 41,
   "id": "99feb96f",
   "metadata": {},
   "outputs": [],
   "source": [
    "def palindom(y):\n",
    "    if y==y.revese():\n",
    "        print(\"palindom\")\n",
    "    else:\n",
    "        print(\"not a palindom\")"
   ]
  },
  {
   "cell_type": "code",
   "execution_count": 42,
   "id": "5fa3c6e1",
   "metadata": {},
   "outputs": [
    {
     "ename": "AttributeError",
     "evalue": "'str' object has no attribute 'revese'",
     "output_type": "error",
     "traceback": [
      "\u001b[1;31m---------------------------------------------------------------------------\u001b[0m",
      "\u001b[1;31mAttributeError\u001b[0m                            Traceback (most recent call last)",
      "\u001b[1;32m~\\AppData\\Local\\Temp\\ipykernel_9340\\921263831.py\u001b[0m in \u001b[0;36m<module>\u001b[1;34m\u001b[0m\n\u001b[1;32m----> 1\u001b[1;33m \u001b[0mpalindom\u001b[0m\u001b[1;33m(\u001b[0m\u001b[1;34m\"hello\"\u001b[0m\u001b[1;33m)\u001b[0m\u001b[1;33m\u001b[0m\u001b[1;33m\u001b[0m\u001b[0m\n\u001b[0m",
      "\u001b[1;32m~\\AppData\\Local\\Temp\\ipykernel_9340\\53573468.py\u001b[0m in \u001b[0;36mpalindom\u001b[1;34m(y)\u001b[0m\n\u001b[0;32m      1\u001b[0m \u001b[1;32mdef\u001b[0m \u001b[0mpalindom\u001b[0m\u001b[1;33m(\u001b[0m\u001b[0my\u001b[0m\u001b[1;33m)\u001b[0m\u001b[1;33m:\u001b[0m\u001b[1;33m\u001b[0m\u001b[1;33m\u001b[0m\u001b[0m\n\u001b[1;32m----> 2\u001b[1;33m     \u001b[1;32mif\u001b[0m \u001b[0my\u001b[0m\u001b[1;33m==\u001b[0m\u001b[0my\u001b[0m\u001b[1;33m.\u001b[0m\u001b[0mrevese\u001b[0m\u001b[1;33m(\u001b[0m\u001b[1;33m)\u001b[0m\u001b[1;33m:\u001b[0m\u001b[1;33m\u001b[0m\u001b[1;33m\u001b[0m\u001b[0m\n\u001b[0m\u001b[0;32m      3\u001b[0m         \u001b[0mprint\u001b[0m\u001b[1;33m(\u001b[0m\u001b[1;34m\"palindom\"\u001b[0m\u001b[1;33m)\u001b[0m\u001b[1;33m\u001b[0m\u001b[1;33m\u001b[0m\u001b[0m\n\u001b[0;32m      4\u001b[0m     \u001b[1;32melse\u001b[0m\u001b[1;33m:\u001b[0m\u001b[1;33m\u001b[0m\u001b[1;33m\u001b[0m\u001b[0m\n\u001b[0;32m      5\u001b[0m         \u001b[0mprint\u001b[0m\u001b[1;33m(\u001b[0m\u001b[1;34m\"not a palindom\"\u001b[0m\u001b[1;33m)\u001b[0m\u001b[1;33m\u001b[0m\u001b[1;33m\u001b[0m\u001b[0m\n",
      "\u001b[1;31mAttributeError\u001b[0m: 'str' object has no attribute 'revese'"
     ]
    }
   ],
   "source": [
    "palindom(\"hello\")"
   ]
  },
  {
   "cell_type": "markdown",
   "id": "242d7dac",
   "metadata": {},
   "source": [
    "# types of Argument"
   ]
  },
  {
   "cell_type": "code",
   "execution_count": null,
   "id": "2fbbbc11",
   "metadata": {},
   "outputs": [],
   "source": [
    "#posional argument\n",
    "#default argument\n",
    "#arbitray argument\n",
    "#arbitrary keyword argument"
   ]
  },
  {
   "cell_type": "code",
   "execution_count": 46,
   "id": "df501a38",
   "metadata": {},
   "outputs": [],
   "source": [
    "def fun1(x,y):\n",
    "    print(x,y)"
   ]
  },
  {
   "cell_type": "code",
   "execution_count": 47,
   "id": "4a787369",
   "metadata": {},
   "outputs": [
    {
     "name": "stdout",
     "output_type": "stream",
     "text": [
      "23 HII\n"
     ]
    }
   ],
   "source": [
    "fun1(23,\"HII\")"
   ]
  },
  {
   "cell_type": "code",
   "execution_count": 48,
   "id": "a0c8cf26",
   "metadata": {},
   "outputs": [
    {
     "ename": "TypeError",
     "evalue": "fun1() takes 2 positional arguments but 3 were given",
     "output_type": "error",
     "traceback": [
      "\u001b[1;31m---------------------------------------------------------------------------\u001b[0m",
      "\u001b[1;31mTypeError\u001b[0m                                 Traceback (most recent call last)",
      "\u001b[1;32m~\\AppData\\Local\\Temp\\ipykernel_9340\\3057086737.py\u001b[0m in \u001b[0;36m<module>\u001b[1;34m\u001b[0m\n\u001b[1;32m----> 1\u001b[1;33m \u001b[0mfun1\u001b[0m\u001b[1;33m(\u001b[0m\u001b[1;36m23\u001b[0m\u001b[1;33m,\u001b[0m\u001b[1;34m\"HII\"\u001b[0m\u001b[1;33m,\u001b[0m\u001b[1;36m23\u001b[0m\u001b[1;33m)\u001b[0m\u001b[1;33m\u001b[0m\u001b[1;33m\u001b[0m\u001b[0m\n\u001b[0m",
      "\u001b[1;31mTypeError\u001b[0m: fun1() takes 2 positional arguments but 3 were given"
     ]
    }
   ],
   "source": [
    "fun1(23,\"HII\",23)"
   ]
  },
  {
   "cell_type": "markdown",
   "id": "76a7d255",
   "metadata": {},
   "source": [
    "# Dictionary MEthods\n"
   ]
  },
  {
   "cell_type": "code",
   "execution_count": 1,
   "id": "2bdf1722",
   "metadata": {},
   "outputs": [
    {
     "name": "stdout",
     "output_type": "stream",
     "text": [
      "dict_values([2, 48, 125, 45])\n"
     ]
    }
   ],
   "source": [
    "# Values() ---give list of values from the dictionary\n",
    "dict1={1:2,56:48,89:125,36:45}\n",
    "print(dict1.values())"
   ]
  },
  {
   "cell_type": "code",
   "execution_count": 2,
   "id": "74eba7a6",
   "metadata": {},
   "outputs": [
    {
     "name": "stdout",
     "output_type": "stream",
     "text": [
      "dict_keys([1, 56, 89, 36])\n"
     ]
    }
   ],
   "source": [
    "# Keys()--give list of keys from the dictionary\n",
    "dict1={1:2,56:48,89:125,36:45}\n",
    "print(dict1.keys())"
   ]
  },
  {
   "cell_type": "code",
   "execution_count": 3,
   "id": "2780aa82",
   "metadata": {},
   "outputs": [
    {
     "name": "stdout",
     "output_type": "stream",
     "text": [
      "dict_items([(1, 2), (56, 48), (89, 125), (36, 45)])\n"
     ]
    }
   ],
   "source": [
    "# Items()---gives list of tuples and one tuple have only two values one is key\n",
    "# another is value\n",
    "dict1={1:2,56:48,89:125,36:45}\n",
    "print(dict1.items())"
   ]
  },
  {
   "cell_type": "code",
   "execution_count": 5,
   "id": "53919fba",
   "metadata": {},
   "outputs": [
    {
     "name": "stdout",
     "output_type": "stream",
     "text": [
      "{1: 2, 56: 48, 89: 125}\n"
     ]
    }
   ],
   "source": [
    "# pop(key)---remove the element of specified key\n",
    "# popitem()---remove last pair which has been inserted\n",
    "\n",
    "dict1={1:2,56:48,89:125,36:45}\n",
    "# dict1.pop(89)\n",
    "dict1.popitem()\n",
    "print(dict1)"
   ]
  },
  {
   "cell_type": "code",
   "execution_count": 11,
   "id": "55c90219",
   "metadata": {},
   "outputs": [
    {
     "name": "stdout",
     "output_type": "stream",
     "text": [
      "value not found\n",
      "{1: 2, 56: 48, 89: 125, 36: 45}\n"
     ]
    }
   ],
   "source": [
    "# get(key[,value])--it gives the vlaue of the key but if the key is not in \n",
    "# dictionary then it returns none when thers is no second argument of value\n",
    "# and if key is not found and second values is given then that value will be \n",
    "# given\n",
    "\n",
    "dict1={1:2,56:48,89:125,36:45}\n",
    "print(dict1.get(145,\"value not found\"))\n",
    "print(dict1)"
   ]
  },
  {
   "cell_type": "code",
   "execution_count": 14,
   "id": "d9545d25",
   "metadata": {},
   "outputs": [
    {
     "name": "stdout",
     "output_type": "stream",
     "text": [
      "None\n",
      "{1: 2, 56: 48, 89: 125, 36: 45, 125: None}\n"
     ]
    }
   ],
   "source": [
    "# setdefault(key,value)--it gives the vlaue of the key but if the key is not in \n",
    "# dictionary then it returns none when thers is no second argument of value \n",
    "# and also add that key and value in the dictionary \n",
    "# and if key is not found and second values is given then that value will be \n",
    "# given\n",
    "dict1={1:2,56:48,89:125,36:45}\n",
    "print(dict1.setdefault(125))\n",
    "print(dict1)"
   ]
  },
  {
   "cell_type": "code",
   "execution_count": 17,
   "id": "f18f96da",
   "metadata": {},
   "outputs": [
    {
     "name": "stdout",
     "output_type": "stream",
     "text": [
      "{1: 2, 56: 48, 89: 125, 36: 45, 698: 'hello', 45: 'wow'}\n"
     ]
    }
   ],
   "source": [
    "# update(dictionary)--it update the dictiionary\n",
    "dict1={1:2,56:48,89:125,36:45}\n",
    "dict1.update({698:\"hello\",45:\"wow\"})\n",
    "print(dict1)"
   ]
  },
  {
   "cell_type": "code",
   "execution_count": null,
   "id": "0d6815f8",
   "metadata": {},
   "outputs": [],
   "source": [
    "# fromkeys(iterable,value)\n",
    "list1=[1,2,3,4,5,6]\n",
    "val=[1,2]\n",
    "dict1=dict.fromkeys(list1,val)\n",
    "print(dict1)"
   ]
  },
  {
   "cell_type": "markdown",
   "id": "4697d37b",
   "metadata": {},
   "source": [
    "# function in python"
   ]
  },
  {
   "cell_type": "code",
   "execution_count": null,
   "id": "f08f8bc7",
   "metadata": {},
   "outputs": [],
   "source": [
    "def functionanme([parameters]):\n",
    "    body of the function\n",
    "    [return value]"
   ]
  },
  {
   "cell_type": "code",
   "execution_count": 47,
   "id": "99063ffb",
   "metadata": {},
   "outputs": [],
   "source": [
    "def greeting():\n",
    "    a=58\n",
    "    for i in range(1,11):\n",
    "        print(\"good Morning\")"
   ]
  },
  {
   "cell_type": "code",
   "execution_count": 50,
   "id": "6581bd2c",
   "metadata": {},
   "outputs": [
    {
     "ename": "NameError",
     "evalue": "name 'a' is not defined",
     "output_type": "error",
     "traceback": [
      "\u001b[1;31m---------------------------------------------------------------------------\u001b[0m",
      "\u001b[1;31mNameError\u001b[0m                                 Traceback (most recent call last)",
      "Input \u001b[1;32mIn [50]\u001b[0m, in \u001b[0;36m<cell line: 1>\u001b[1;34m()\u001b[0m\n\u001b[1;32m----> 1\u001b[0m \u001b[38;5;28mprint\u001b[39m(\u001b[43ma\u001b[49m)\n",
      "\u001b[1;31mNameError\u001b[0m: name 'a' is not defined"
     ]
    }
   ],
   "source": [
    "print(a)"
   ]
  },
  {
   "cell_type": "code",
   "execution_count": 62,
   "id": "59ba808b",
   "metadata": {},
   "outputs": [],
   "source": [
    "def addition(x,y):\n",
    "    answer=x+y\n",
    "    print(answer)"
   ]
  },
  {
   "cell_type": "code",
   "execution_count": 64,
   "id": "8a73ae81",
   "metadata": {},
   "outputs": [
    {
     "name": "stdout",
     "output_type": "stream",
     "text": [
      "60\n",
      "73\n"
     ]
    }
   ],
   "source": [
    "addition(45,15)\n",
    "addition(48,25)"
   ]
  },
  {
   "cell_type": "code",
   "execution_count": null,
   "id": "c4449859",
   "metadata": {},
   "outputs": [],
   "source": [
    "hello  olleh  not palindrome\n",
    "wow wow --palindrome"
   ]
  },
  {
   "cell_type": "code",
   "execution_count": null,
   "id": "6460efb8",
   "metadata": {},
   "outputs": [],
   "source": [
    "# types of arguments\n",
    "positional argument\n",
    "keyword argument\n",
    "default argument\n",
    "arbitrary agrument\n",
    "arbirary keyword argument"
   ]
  },
  {
   "cell_type": "code",
   "execution_count": 68,
   "id": "e7ebf48d",
   "metadata": {},
   "outputs": [],
   "source": [
    "def fun1(x,y,z):\n",
    "    print(x,y,z)\n",
    "    "
   ]
  },
  {
   "cell_type": "code",
   "execution_count": 73,
   "id": "401243f7",
   "metadata": {},
   "outputs": [
    {
     "name": "stdout",
     "output_type": "stream",
     "text": [
      "14 Hello 33\n"
     ]
    }
   ],
   "source": [
    "fun1(14,\"Hello\",33)"
   ]
  },
  {
   "cell_type": "markdown",
   "id": "2fc28d58",
   "metadata": {},
   "source": [
    "# Keyword\n",
    "def fun1(x,y,z):\n",
    "    print(x,y,z)\n",
    "\n",
    "fun1(z=45,x=89,y=90)\n",
    "    "
   ]
  },
  {
   "cell_type": "code",
   "execution_count": 2,
   "id": "228dd838",
   "metadata": {},
   "outputs": [
    {
     "ename": "TypeError",
     "evalue": "fun1() got multiple values for argument 'x'",
     "output_type": "error",
     "traceback": [
      "\u001b[1;31m---------------------------------------------------------------------------\u001b[0m",
      "\u001b[1;31mTypeError\u001b[0m                                 Traceback (most recent call last)",
      "\u001b[1;32m~\\AppData\\Local\\Temp\\ipykernel_11848\\2966504729.py\u001b[0m in \u001b[0;36m<module>\u001b[1;34m\u001b[0m\n\u001b[0;32m      2\u001b[0m     \u001b[0mprint\u001b[0m\u001b[1;33m(\u001b[0m\u001b[0mx\u001b[0m\u001b[1;33m,\u001b[0m\u001b[0my\u001b[0m\u001b[1;33m,\u001b[0m\u001b[0mz\u001b[0m\u001b[1;33m)\u001b[0m\u001b[1;33m\u001b[0m\u001b[1;33m\u001b[0m\u001b[0m\n\u001b[0;32m      3\u001b[0m \u001b[1;33m\u001b[0m\u001b[0m\n\u001b[1;32m----> 4\u001b[1;33m \u001b[0mfun1\u001b[0m\u001b[1;33m(\u001b[0m\u001b[1;36m34\u001b[0m\u001b[1;33m,\u001b[0m\u001b[0mx\u001b[0m\u001b[1;33m=\u001b[0m\u001b[1;36m56\u001b[0m\u001b[1;33m,\u001b[0m\u001b[0mz\u001b[0m\u001b[1;33m=\u001b[0m\u001b[1;36m56\u001b[0m\u001b[1;33m)\u001b[0m\u001b[1;33m\u001b[0m\u001b[1;33m\u001b[0m\u001b[0m\n\u001b[0m",
      "\u001b[1;31mTypeError\u001b[0m: fun1() got multiple values for argument 'x'"
     ]
    }
   ],
   "source": [
    "def fun1(x,y,z):\n",
    "    print(x,y,z)\n",
    "    \n",
    "fun1(34,x=56,z=56)"
   ]
  },
  {
   "cell_type": "code",
   "execution_count": 3,
   "id": "02a82301",
   "metadata": {},
   "outputs": [
    {
     "name": "stdout",
     "output_type": "stream",
     "text": [
      "23 67 89\n"
     ]
    }
   ],
   "source": [
    "#keyword\n",
    "def fun1(x,y,z):\n",
    "    print(x,y,z)\n",
    "\n",
    "fun1(23,z=89,y=67)"
   ]
  },
  {
   "cell_type": "code",
   "execution_count": 4,
   "id": "79c45a15",
   "metadata": {},
   "outputs": [
    {
     "name": "stdout",
     "output_type": "stream",
     "text": [
      "34 45 56\n"
     ]
    }
   ],
   "source": [
    "#defualt\n",
    "def fun1(x,y,z=78):\n",
    "    print(x,y,z)\n",
    "fun1(34,45,56)\n",
    "    "
   ]
  },
  {
   "cell_type": "code",
   "execution_count": 5,
   "id": "22568f77",
   "metadata": {},
   "outputs": [
    {
     "name": "stdout",
     "output_type": "stream",
     "text": [
      "34 45 78\n"
     ]
    }
   ],
   "source": [
    "#default\n",
    "def fun1(x,y,z=78):\n",
    "    print(x,y,z)\n",
    "fun1(34,45)\n",
    "    "
   ]
  },
  {
   "cell_type": "code",
   "execution_count": 25,
   "id": "f5fe4694",
   "metadata": {},
   "outputs": [
    {
     "ename": "SyntaxError",
     "evalue": "invalid syntax (2748137686.py, line 1)",
     "output_type": "error",
     "traceback": [
      "\u001b[1;36m  File \u001b[1;32m\"C:\\Users\\PINJAL\\AppData\\Local\\Temp\\ipykernel_11848\\2748137686.py\"\u001b[1;36m, line \u001b[1;32m1\u001b[0m\n\u001b[1;33m    def palindom(int(num)):\u001b[0m\n\u001b[1;37m                    ^\u001b[0m\n\u001b[1;31mSyntaxError\u001b[0m\u001b[1;31m:\u001b[0m invalid syntax\n"
     ]
    }
   ],
   "source": [
    "def palindom(num):\n",
    "    if num==num[::-1]:\n",
    "        print(\"palindom\")\n",
    "    else:\n",
    "        print(\"not a palindom\")"
   ]
  },
  {
   "cell_type": "code",
   "execution_count": 24,
   "id": "f9c19faa",
   "metadata": {},
   "outputs": [
    {
     "ename": "TypeError",
     "evalue": "'int' object is not subscriptable",
     "output_type": "error",
     "traceback": [
      "\u001b[1;31m---------------------------------------------------------------------------\u001b[0m",
      "\u001b[1;31mTypeError\u001b[0m                                 Traceback (most recent call last)",
      "\u001b[1;32m~\\AppData\\Local\\Temp\\ipykernel_11848\\761059523.py\u001b[0m in \u001b[0;36m<module>\u001b[1;34m\u001b[0m\n\u001b[1;32m----> 1\u001b[1;33m \u001b[0mpalindom\u001b[0m\u001b[1;33m(\u001b[0m\u001b[1;36m121\u001b[0m\u001b[1;33m)\u001b[0m\u001b[1;33m\u001b[0m\u001b[1;33m\u001b[0m\u001b[0m\n\u001b[0m",
      "\u001b[1;32m~\\AppData\\Local\\Temp\\ipykernel_11848\\3424609272.py\u001b[0m in \u001b[0;36mpalindom\u001b[1;34m(num)\u001b[0m\n\u001b[0;32m      1\u001b[0m \u001b[1;32mdef\u001b[0m \u001b[0mpalindom\u001b[0m\u001b[1;33m(\u001b[0m\u001b[0mnum\u001b[0m\u001b[1;33m)\u001b[0m\u001b[1;33m:\u001b[0m\u001b[1;33m\u001b[0m\u001b[1;33m\u001b[0m\u001b[0m\n\u001b[1;32m----> 2\u001b[1;33m     \u001b[1;32mif\u001b[0m \u001b[0mnum\u001b[0m\u001b[1;33m==\u001b[0m\u001b[0mnum\u001b[0m\u001b[1;33m[\u001b[0m\u001b[1;33m:\u001b[0m\u001b[1;33m:\u001b[0m\u001b[1;33m-\u001b[0m\u001b[1;36m1\u001b[0m\u001b[1;33m]\u001b[0m\u001b[1;33m:\u001b[0m\u001b[1;33m\u001b[0m\u001b[1;33m\u001b[0m\u001b[0m\n\u001b[0m\u001b[0;32m      3\u001b[0m         \u001b[0mprint\u001b[0m\u001b[1;33m(\u001b[0m\u001b[1;34m\"palindom\"\u001b[0m\u001b[1;33m)\u001b[0m\u001b[1;33m\u001b[0m\u001b[1;33m\u001b[0m\u001b[0m\n\u001b[0;32m      4\u001b[0m     \u001b[1;32melse\u001b[0m\u001b[1;33m:\u001b[0m\u001b[1;33m\u001b[0m\u001b[1;33m\u001b[0m\u001b[0m\n\u001b[0;32m      5\u001b[0m         \u001b[0mprint\u001b[0m\u001b[1;33m(\u001b[0m\u001b[1;34m\"not a palindom\"\u001b[0m\u001b[1;33m)\u001b[0m\u001b[1;33m\u001b[0m\u001b[1;33m\u001b[0m\u001b[0m\n",
      "\u001b[1;31mTypeError\u001b[0m: 'int' object is not subscriptable"
     ]
    }
   ],
   "source": [
    "palindom(121)"
   ]
  },
  {
   "cell_type": "code",
   "execution_count": 44,
   "id": "e2fdf902",
   "metadata": {},
   "outputs": [],
   "source": [
    "#palindorm in number program\n",
    "def palindrom(num):\n",
    "    temp=num\n",
    "    rev=0\n",
    "    while num!=0:\n",
    "        rem=num%10\n",
    "        rev=rev*10+rem\n",
    "        num=num//10\n",
    "    if temp==rev:\n",
    "        print(\"palindrom\")\n",
    "    else:\n",
    "        print(\"Not Palindrom\")\n",
    "    "
   ]
  },
  {
   "cell_type": "code",
   "execution_count": 46,
   "id": "38fc090e",
   "metadata": {},
   "outputs": [
    {
     "name": "stdout",
     "output_type": "stream",
     "text": [
      "palindrom\n"
     ]
    }
   ],
   "source": [
    "palindrom(121)"
   ]
  },
  {
   "cell_type": "code",
   "execution_count": null,
   "id": "75e9b35e",
   "metadata": {},
   "outputs": [],
   "source": [
    "#---itreable=set count...\n",
    "#---sequence=set not count...\n",
    "# random.random()----0to1 betew\n",
    "\n"
   ]
  },
  {
   "cell_type": "code",
   "execution_count": 66,
   "id": "6e2efb27",
   "metadata": {},
   "outputs": [
    {
     "name": "stdout",
     "output_type": "stream",
     "text": [
      "(1, 2)\n",
      "(3, 4)\n",
      "(4, 5, 6)\n",
      "()\n",
      "[(1, 2), (3, 4), (4, 5, 6), (87, 90, 78)]\n"
     ]
    }
   ],
   "source": [
    "#Write a Python program to remove an empty tuple(s) from a list of tuples. \n",
    "\n",
    "list1=[(1,2),(3,4),(4,5,6),(),(87,90,78)]\n",
    "for i in list1:\n",
    "    print(i)\n",
    "    if(len(i)==0):\n",
    "        list1.remove(i)\n",
    "print(list1)\n",
    "\n"
   ]
  },
  {
   "cell_type": "code",
   "execution_count": 57,
   "id": "c4cc5aca",
   "metadata": {},
   "outputs": [
    {
     "name": "stdout",
     "output_type": "stream",
     "text": [
      "[(1, 2), (3, 4), (4, 5, 6), 6, 67]\n"
     ]
    }
   ],
   "source": [
    "list1=[(1,2),(3,4),(4,5,6),(),6,67]\n",
    "list1.remove(())\n",
    "print(list1)"
   ]
  },
  {
   "cell_type": "markdown",
   "id": "da815203",
   "metadata": {},
   "source": [
    "# file handling"
   ]
  },
  {
   "cell_type": "code",
   "execution_count": null,
   "id": "d7a572f5",
   "metadata": {},
   "outputs": [],
   "source": [
    "#file open\n",
    "#file working\n",
    "#file close"
   ]
  },
  {
   "cell_type": "code",
   "execution_count": null,
   "id": "8996e83e",
   "metadata": {},
   "outputs": [],
   "source": [
    "# read mode--file not found then error ---filenotfoundError"
   ]
  },
  {
   "cell_type": "code",
   "execution_count": 1,
   "id": "4d3355c0",
   "metadata": {},
   "outputs": [
    {
     "ename": "FileNotFoundError",
     "evalue": "[Errno 2] No such file or directory: 'Demo.txt'",
     "output_type": "error",
     "traceback": [
      "\u001b[1;31m---------------------------------------------------------------------------\u001b[0m",
      "\u001b[1;31mFileNotFoundError\u001b[0m                         Traceback (most recent call last)",
      "\u001b[1;32m~\\AppData\\Local\\Temp\\ipykernel_17140\\3436259882.py\u001b[0m in \u001b[0;36m<module>\u001b[1;34m\u001b[0m\n\u001b[1;32m----> 1\u001b[1;33m \u001b[0mfile1\u001b[0m\u001b[1;33m=\u001b[0m\u001b[0mopen\u001b[0m\u001b[1;33m(\u001b[0m\u001b[1;34m\"Demo.txt\"\u001b[0m\u001b[1;33m,\u001b[0m\u001b[1;34m\"r\"\u001b[0m\u001b[1;33m)\u001b[0m\u001b[1;33m\u001b[0m\u001b[1;33m\u001b[0m\u001b[0m\n\u001b[0m",
      "\u001b[1;31mFileNotFoundError\u001b[0m: [Errno 2] No such file or directory: 'Demo.txt'"
     ]
    }
   ],
   "source": [
    "file1=open(\"Demo.txt\",\"r\")\n"
   ]
  },
  {
   "cell_type": "code",
   "execution_count": 2,
   "id": "68fd3e21",
   "metadata": {},
   "outputs": [],
   "source": [
    "file1=open(\"Demo.txt\",\"w\")"
   ]
  },
  {
   "cell_type": "code",
   "execution_count": null,
   "id": "88730666",
   "metadata": {},
   "outputs": [],
   "source": [
    "file1=open(\"Demo1.txt\",\"w\")\n",
    "#a=input(\"name:-\")\n",
    "#b=int(input(\"moblie num:-\"))\n",
    "#c=input(\"gmail-id\")\n",
    "#d=int(input(\"moblie num:-\"))\n",
    "print(file1.write())\n"
   ]
  }
 ],
 "metadata": {
  "kernelspec": {
   "display_name": "Python 3 (ipykernel)",
   "language": "python",
   "name": "python3"
  },
  "language_info": {
   "codemirror_mode": {
    "name": "ipython",
    "version": 3
   },
   "file_extension": ".py",
   "mimetype": "text/x-python",
   "name": "python",
   "nbconvert_exporter": "python",
   "pygments_lexer": "ipython3",
   "version": "3.9.13"
  }
 },
 "nbformat": 4,
 "nbformat_minor": 5
}
