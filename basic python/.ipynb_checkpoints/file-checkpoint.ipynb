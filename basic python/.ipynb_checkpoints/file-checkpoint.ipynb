{
 "cells": [
  {
   "cell_type": "code",
   "execution_count": 3,
   "id": "0081561e",
   "metadata": {},
   "outputs": [
    {
     "name": "stdout",
     "output_type": "stream",
     "text": [
      "name:-pinjal\n",
      "moblie num:-9726098240\n",
      "gmail-idpusadadiya@gmail.com\n",
      "age20\n"
     ]
    }
   ],
   "source": [
    "file1=open(\"pinjal.txt\",\"w\")\n",
    "a=input(\"name:-\")\n",
    "b=int(input(\"moblie num:-\"))\n",
    "c=input(\"gmail-id\")\n",
    "d=int(input(\"age\"))\n",
    "file1.write(f\" name:-{a}\\n\")\n",
    "file1.write(f\"mobile num:-  {b}\\n\")\n",
    "file1.write(f\"gmail id :- {c}\\n\")\n",
    "file1.write(f\"age :- {b}\\n\")\n",
    "file1.close()"
   ]
  },
  {
   "cell_type": "code",
   "execution_count": 3,
   "id": "d43424d8",
   "metadata": {},
   "outputs": [
    {
     "name": "stdout",
     "output_type": "stream",
     "text": [
      "Enter number of student:2\n",
      "Enter name:raj\n",
      "Enter age:21\n",
      "Enter number:78945621\n",
      "Enter name:shyam\n",
      "Enter age:12\n",
      "Enter number:4569874\n"
     ]
    }
   ],
   "source": [
    "num=int(input(\"Enter number of student:\"))\n",
    "for i in range(1,num+1):\n",
    "    fname=input(\"Enter name:\")\n",
    "    age=int(input(\"Enter age:\"))\n",
    "    mobile=int(input(\"Enter number:\"))\n",
    "    file1=open(\"demo.txt\",\"a\")\n",
    "    file1.write(\"****************************************************\\n\")\n",
    "    file1.write(f\"\\t\\t{fname}\\t\\t|\\t{age}\\t\\t|\\t{mobile}\\n\")\n",
    "    file1.close()"
   ]
  },
  {
   "cell_type": "code",
   "execution_count": null,
   "id": "ffdf2886",
   "metadata": {},
   "outputs": [],
   "source": [
    " "
   ]
  }
 ],
 "metadata": {
  "kernelspec": {
   "display_name": "Python 3 (ipykernel)",
   "language": "python",
   "name": "python3"
  },
  "language_info": {
   "codemirror_mode": {
    "name": "ipython",
    "version": 3
   },
   "file_extension": ".py",
   "mimetype": "text/x-python",
   "name": "python",
   "nbconvert_exporter": "python",
   "pygments_lexer": "ipython3",
   "version": "3.9.13"
  }
 },
 "nbformat": 4,
 "nbformat_minor": 5
}
