{
 "cells": [
  {
   "cell_type": "code",
   "execution_count": 3,
   "id": "69695353",
   "metadata": {},
   "outputs": [
    {
     "name": "stdout",
     "output_type": "stream",
     "text": [
      "name:-pinjal\n",
      "moblie num:-9726098240\n",
      "gmail-idpusadadiya@gmail.com\n",
      "age20\n"
     ]
    }
   ],
   "source": [
    "file1=open(\"pinjal.txt\",\"w\")\n",
    "a=input(\"name:-\")\n",
    "b=int(input(\"moblie num:-\"))\n",
    "c=input(\"gmail-id\")\n",
    "d=int(input(\"age\"))\n",
    "file1.write(f\" name:-{a}\\n\")\n",
    "file1.write(f\"mobile num:-  {b}\\n\")\n",
    "file1.write(f\"gmail id :- {c}\\n\")\n",
    "file1.write(f\"age :- {b}\\n\")\n",
    "file1.close()"
   ]
  },
  {
   "cell_type": "code",
   "execution_count": 3,
   "id": "362ed872",
   "metadata": {},
   "outputs": [
    {
     "name": "stdout",
     "output_type": "stream",
     "text": [
      "Enter number of student:2\n",
      "Enter name:raj\n",
      "Enter age:21\n",
      "Enter number:78945621\n",
      "Enter name:shyam\n",
      "Enter age:12\n",
      "Enter number:4569874\n"
     ]
    }
   ],
   "source": [
    "num=int(input(\"Enter number of student:\"))\n",
    "for i in range(1,num+1):\n",
    "    fname=input(\"Enter name:\")\n",
    "    age=int(input(\"Enter age:\"))\n",
    "    mobile=int(input(\"Enter number:\"))\n",
    "    file1=open(\"demo.txt\",\"a\")\n",
    "    file1.write(\"****************************************************\\n\")\n",
    "    file1.write(f\"\\t\\t{fname}\\t\\t|\\t{age}\\t\\t|\\t{mobile}\\n\")\n",
    "    file1.close()"
   ]
  },
  {
   "cell_type": "code",
   "execution_count": 3,
   "id": "98746fd4",
   "metadata": {},
   "outputs": [
    {
     "name": "stdout",
     "output_type": "stream",
     "text": [
      "Enter number of student:5\n",
      "Enter name:raj\n",
      "Enter age:12\n",
      "Enter number:789456123\n",
      "Enter sub1 marks45\n",
      "Enter sub2 marks45\n",
      "Enter name:shyam\n",
      "Enter age:23\n",
      "Enter number:789446123\n",
      "Enter sub1 marks34\n",
      "Enter sub2 marks56\n",
      "Enter name:pal\n",
      "Enter age:23\n",
      "Enter number:7896541231\n",
      "Enter sub1 marks45\n",
      "Enter sub2 marks56\n",
      "Enter name:ram\n",
      "Enter age:45\n",
      "Enter number:1234567899\n",
      "Enter sub1 marks34\n",
      "Enter sub2 marks45\n",
      "Enter name:magan\n",
      "Enter age:45\n",
      "Enter number:9925147856\n",
      "Enter sub1 marks45\n",
      "Enter sub2 marks12\n"
     ]
    }
   ],
   "source": [
    "num=int(input(\"Enter number of student:\"))\n",
    "for i in range(1,num+1):\n",
    "    fname=input(\"Enter name:\")\n",
    "    age=int(input(\"Enter age:\"))\n",
    "    mobile=int(input(\"Enter number:\"))\n",
    "    Marks1=int(input(\"Enter sub1 marks\"))\n",
    "    Marks2=int(input(\"Enter sub2 marks\"))\n",
    "\n"
   ]
  },
  {
   "cell_type": "code",
   "execution_count": 7,
   "id": "51d252e7",
   "metadata": {},
   "outputs": [
    {
     "name": "stdout",
     "output_type": "stream",
     "text": [
      "Enter number of student:3\n",
      "Enter name:qw\n",
      "Enter age:21\n",
      "Enter number:455478908\n",
      "Enter sub1 marks23\n",
      "Enter sub2 marks45\n"
     ]
    },
    {
     "ename": "NameError",
     "evalue": "name 'marks1' is not defined",
     "output_type": "error",
     "traceback": [
      "\u001b[1;31m---------------------------------------------------------------------------\u001b[0m",
      "\u001b[1;31mNameError\u001b[0m                                 Traceback (most recent call last)",
      "\u001b[1;32m~\\AppData\\Local\\Temp\\ipykernel_13864\\1510554491.py\u001b[0m in \u001b[0;36m<module>\u001b[1;34m\u001b[0m\n\u001b[0;32m      7\u001b[0m     \u001b[0mMarks2\u001b[0m\u001b[1;33m=\u001b[0m\u001b[0mint\u001b[0m\u001b[1;33m(\u001b[0m\u001b[0minput\u001b[0m\u001b[1;33m(\u001b[0m\u001b[1;34m\"Enter sub2 marks\"\u001b[0m\u001b[1;33m)\u001b[0m\u001b[1;33m)\u001b[0m\u001b[1;33m\u001b[0m\u001b[1;33m\u001b[0m\u001b[0m\n\u001b[0;32m      8\u001b[0m     \u001b[1;32mif\u001b[0m \u001b[0mnum\u001b[0m\u001b[1;33m==\u001b[0m\u001b[1;36m3\u001b[0m\u001b[1;33m:\u001b[0m\u001b[1;33m\u001b[0m\u001b[1;33m\u001b[0m\u001b[0m\n\u001b[1;32m----> 9\u001b[1;33m         \u001b[0mprint\u001b[0m\u001b[1;33m(\u001b[0m\u001b[0mmarks1\u001b[0m\u001b[1;33m+\u001b[0m\u001b[0mmarks2\u001b[0m\u001b[1;33m)\u001b[0m\u001b[1;33m\u001b[0m\u001b[1;33m\u001b[0m\u001b[0m\n\u001b[0m\u001b[0;32m     10\u001b[0m     \u001b[1;32melse\u001b[0m\u001b[1;33m:\u001b[0m\u001b[1;33m\u001b[0m\u001b[1;33m\u001b[0m\u001b[0m\n\u001b[0;32m     11\u001b[0m         \u001b[1;32mpass\u001b[0m\u001b[1;33m\u001b[0m\u001b[1;33m\u001b[0m\u001b[0m\n",
      "\u001b[1;31mNameError\u001b[0m: name 'marks1' is not defined"
     ]
    }
   ],
   "source": [
    "num=int(input(\"Enter number of student:\"))\n",
    "for i in range(1,num+1):\n",
    "    fname=input(\"Enter name:\")\n",
    "    age=int(input(\"Enter age:\"))\n",
    "    mobile=int(input(\"Enter number:\"))\n",
    "    Marks1=int(input(\"Enter sub1 marks\"))\n",
    "    Marks2=int(input(\"Enter sub2 marks\"))\n",
    "    if num==3:\n",
    "        print(marks1+marks2)\n",
    "    else:\n",
    "        pass\n",
    "   "
   ]
  },
  {
   "cell_type": "code",
   "execution_count": 1,
   "id": "2b364751",
   "metadata": {},
   "outputs": [
    {
     "name": "stdout",
     "output_type": "stream",
     "text": [
      "Enter name:qw\n",
      "Enter age:12\n",
      "Enter marks1:23\n",
      "Enter marks2:34\n",
      "Enter name:gtrg\n",
      "Enter age:23\n",
      "Enter marks1:3\n",
      "Enter marks2:44\n",
      "Enter name:err\n",
      "Enter age:34\n",
      "Enter marks1:34\n",
      "Enter marks2:34\n",
      "68\n",
      "Enter name:gbf\n",
      "Enter age:45\n",
      "Enter marks1:45\n",
      "Enter marks2:45\n"
     ]
    }
   ],
   "source": [
    "class student:\n",
    "    \n",
    "    def __init__(self):\n",
    "        self.name=\"\"\n",
    "        self.age=\"\"\n",
    "        self.marks1=\"\"\n",
    "        self.marks2=\"\"\n",
    "\n",
    "        \n",
    "    def getdata(self):\n",
    "        self.name=input(\"Enter name:\")\n",
    "        self.age=int(input(\"Enter age:\"))\n",
    "        self.marks1=int(input(\"Enter marks1:\"))\n",
    "        self.marks2=int(input(\"Enter marks2:\"))\n",
    "        \n",
    "        \n",
    "        \n",
    "s1=student()\n",
    "s1.getdata()\n",
    "s2=student()\n",
    "s2.getdata()\n",
    "s3=student()\n",
    "s3.getdata()\n",
    "print(s3.marks1+s3.marks2)\n",
    "s4=student()\n",
    "s4.getdata()\n"
   ]
  },
  {
   "cell_type": "code",
   "execution_count": null,
   "id": "10a4d9d9",
   "metadata": {},
   "outputs": [],
   "source": [
    "kinter\n",
    "reject"
   ]
  }
 ],
 "metadata": {
  "kernelspec": {
   "display_name": "Python 3 (ipykernel)",
   "language": "python",
   "name": "python3"
  },
  "language_info": {
   "codemirror_mode": {
    "name": "ipython",
    "version": 3
   },
   "file_extension": ".py",
   "mimetype": "text/x-python",
   "name": "python",
   "nbconvert_exporter": "python",
   "pygments_lexer": "ipython3",
   "version": "3.9.13"
  }
 },
 "nbformat": 4,
 "nbformat_minor": 5
}
