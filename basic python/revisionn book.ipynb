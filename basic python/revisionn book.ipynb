{
 "cells": [
  {
   "cell_type": "code",
   "execution_count": 15,
   "id": "d22e5fad",
   "metadata": {},
   "outputs": [
    {
     "name": "stdout",
     "output_type": "stream",
     "text": [
      "Python  Helloprogeaming\n"
     ]
    }
   ],
   "source": [
    "print(\"Python\",end=\"  \")\n",
    "print(\"Hello\",end='')\n",
    "print(\"progeaming\")"
   ]
  },
  {
   "cell_type": "code",
   "execution_count": 12,
   "id": "4a5e036e",
   "metadata": {},
   "outputs": [
    {
     "name": "stdout",
     "output_type": "stream",
     "text": [
      "java--python--C--programing\n"
     ]
    }
   ],
   "source": [
    "\n",
    "print(\"java\",\"python\",\"C\",\"programing\",sep='--')"
   ]
  },
  {
   "cell_type": "code",
   "execution_count": 13,
   "id": "0513b75e",
   "metadata": {},
   "outputs": [
    {
     "name": "stdout",
     "output_type": "stream",
     "text": [
      "22\n"
     ]
    }
   ],
   "source": [
    "print(45//2)"
   ]
  },
  {
   "cell_type": "code",
   "execution_count": 27,
   "id": "a208c820",
   "metadata": {},
   "outputs": [
    {
     "name": "stdout",
     "output_type": "stream",
     "text": [
      "1\n"
     ]
    }
   ],
   "source": [
    "a=37\n",
    "b=2\n",
    "a%=b\n",
    "print(a)"
   ]
  },
  {
   "cell_type": "code",
   "execution_count": 59,
   "id": "8067bad8",
   "metadata": {},
   "outputs": [
    {
     "name": "stdout",
     "output_type": "stream",
     "text": [
      "False\n"
     ]
    }
   ],
   "source": [
    "print(12<12)\n",
    "\n",
    "\n"
   ]
  },
  {
   "cell_type": "code",
   "execution_count": 72,
   "id": "531d47a4",
   "metadata": {},
   "outputs": [
    {
     "name": "stdout",
     "output_type": "stream",
     "text": [
      "{False}\n"
     ]
    }
   ],
   "source": [
    "a={12,45,56}\n",
    "b={12  not in a}\n",
    "print(b)"
   ]
  },
  {
   "cell_type": "code",
   "execution_count": 79,
   "id": "2e406def",
   "metadata": {},
   "outputs": [
    {
     "name": "stdout",
     "output_type": "stream",
     "text": [
      "False\n",
      "140737238661256\n",
      "2495105297040\n"
     ]
    }
   ],
   "source": [
    "a=12\n",
    "b=12\n",
    "a=c\n",
    "print(a is b)\n",
    "print(id(a))\n",
    "print(id(b))\n"
   ]
  },
  {
   "cell_type": "code",
   "execution_count": 80,
   "id": "cca0be73",
   "metadata": {},
   "outputs": [
    {
     "name": "stdout",
     "output_type": "stream",
     "text": [
      "12\n"
     ]
    }
   ],
   "source": [
    "print(3<<2)"
   ]
  },
  {
   "cell_type": "code",
   "execution_count": 81,
   "id": "c48fd072",
   "metadata": {},
   "outputs": [
    {
     "name": "stdout",
     "output_type": "stream",
     "text": [
      "[1, 2, 3, 4, 5]\n",
      "['Apple', 'Mango', 'Banana', 'Orange']\n",
      "[1, 2, 3, 4, 5, 'Apple', 'Mango', 'Banana', 'Orange']\n",
      "2 Is Not Avaialable In List1\n",
      "apple Is Avaialable In List2\n",
      "Length Of List1 Is :  5\n",
      "Length Of List2 Is :  4\n",
      "Length Of List1 And List2 Is :  9\n",
      "[1, 2, 3, 4.1, 5.1, 6.1]\n",
      "['Hi', 'Hi', 'Hi', 'Hi']\n",
      "1 2 3 4 5 "
     ]
    }
   ],
   "source": [
    "list1=[1,2,3,4,5]\n",
    "print(list1)\n",
    "\n",
    "list2=['Apple','Mango','Banana','Orange']\n",
    "print(list2)\n",
    "\n",
    "print(list1+list2)\n",
    "\n",
    "if 7 in list1:\n",
    "    print(\"2 Is Avaialable In List1\")\n",
    "else:\n",
    "    print(\"2 Is Not Avaialable In List1\")\n",
    "    \n",
    "if 'Apple' not in list2:\n",
    "    print(\"apple Is Not Avaialable In List2\")\n",
    "else:\n",
    "    print(\"apple Is Avaialable In List2\")\n",
    "    \n",
    "print(\"Length Of List1 Is : \",len(list1))\n",
    "print(\"Length Of List2 Is : \",len(list2))\n",
    "print(\"Length Of List1 And List2 Is : \",len(list1+list2))\n",
    "print([1,2,3]+[4.1,5.1,6.1])\n",
    "print(['Hi']*4)\n",
    "\n",
    "for x in list1:\n",
    "    print(x,end=\" \")"
   ]
  },
  {
   "cell_type": "code",
   "execution_count": 82,
   "id": "ce33703c",
   "metadata": {},
   "outputs": [
    {
     "name": "stdout",
     "output_type": "stream",
     "text": [
      "[0, 1, 4, 9, 16, 25, 36, 49, 64, 81]\n",
      "81\n",
      "0\n",
      "[0, 1, 4, 9, 16, 25, 36, 49, 64, 81, 10, 20, 30, 40, 50]\n",
      "[0, 1, 4, 10, 9, 16, 25, 36, 49, 64, 81, 10, 20, 30, 40, 50]\n",
      "2\n"
     ]
    }
   ],
   "source": [
    "\n",
    "a=[]\n",
    "for x in range(10):\n",
    "    a.append(x**2)\n",
    "        \n",
    "print(a)\n",
    "print(max(a))\n",
    "print(min(a))\n",
    "\n",
    "b=[10,20,30,40,50]\n",
    "a.extend(b)\n",
    "print(a)\n",
    "a.insert(3, 10)\n",
    "print(a)\n",
    "print(a.count(10))"
   ]
  },
  {
   "cell_type": "code",
   "execution_count": 93,
   "id": "a94d35e1",
   "metadata": {},
   "outputs": [
    {
     "name": "stdout",
     "output_type": "stream",
     "text": [
      "\n",
      "p\n",
      "pp\n",
      "ppp\n",
      "pppp\n",
      "ppppp\n",
      "pppppp\n",
      "ppppppp\n",
      "pppppppp\n",
      "ppppppppp\n"
     ]
    }
   ],
   "source": [
    "for i in range(0,10):\n",
    "    print('p'* i)"
   ]
  },
  {
   "cell_type": "code",
   "execution_count": 99,
   "id": "e3c9e0a6",
   "metadata": {},
   "outputs": [
    {
     "name": "stdout",
     "output_type": "stream",
     "text": [
      "(1, 2, 3, 'hello', 'pinjal')\n",
      "[1, 2, 3, 'hello', 'pinjal']\n"
     ]
    }
   ],
   "source": [
    "a=(1,2,3,'hello', 'pinjal')\n",
    "print(a)\n",
    "print(list(a))"
   ]
  },
  {
   "cell_type": "code",
   "execution_count": 100,
   "id": "84d8fced",
   "metadata": {},
   "outputs": [
    {
     "name": "stdout",
     "output_type": "stream",
     "text": [
      "[5, 10, 7, 4, 15, 3]\n",
      "(5, 10, 7, 4, 15, 3)\n"
     ]
    }
   ],
   "source": [
    "listx = [5, 10, 7, 4, 15, 3]\n",
    "print(listx)\n",
    "#use the tuple() function built-in Python, passing as parameter the list\n",
    "tuplex = tuple(listx)\n",
    "print(tuplex)"
   ]
  },
  {
   "cell_type": "code",
   "execution_count": 101,
   "id": "efa66f9c",
   "metadata": {},
   "outputs": [
    {
     "name": "stdout",
     "output_type": "stream",
     "text": [
      "(4, 6, 2, 8, 3, 1)\n",
      "(4, 6, 2, 8, 3, 1, 9)\n",
      "(4, 6, 2, 8, 3, 15, 20, 25, 4, 6, 2, 8, 3)\n",
      "(4, 6, 2, 8, 3, 15, 20, 25, 4, 6, 2, 8, 3, 30)\n"
     ]
    }
   ],
   "source": [
    "tuplex = (4, 6, 2, 8, 3, 1) \n",
    "print(tuplex)\n",
    "#tuples are immutable, so you can not add new elements\n",
    "#using merge of tuples with the + operator you can add an element and it will create a new tuple\n",
    "tuplex = tuplex + (9,)\n",
    "print(tuplex)\n",
    "#adding items in a specific index\n",
    "tuplex = tuplex[:5] + (15, 20, 25) + tuplex[:5]\n",
    "print(tuplex)\n",
    "#converting the tuple to list\n",
    "listx = list(tuplex) \n",
    "#use different ways to add items in list\n",
    "listx.append(30)\n",
    "tuplex = tuple(listx)\n",
    "print(tuplex)"
   ]
  },
  {
   "cell_type": "code",
   "execution_count": 102,
   "id": "7c5820a9",
   "metadata": {},
   "outputs": [
    {
     "name": "stdout",
     "output_type": "stream",
     "text": [
      "exercises\n"
     ]
    }
   ],
   "source": [
    "# convert tuple string\n",
    "tup = ('e', 'x', 'e', 'r', 'c', 'i', 's', 'e', 's')\n",
    "str =  ''.join(tup)\n",
    "print(str)\n"
   ]
  },
  {
   "cell_type": "code",
   "execution_count": 104,
   "id": "b9e41d10",
   "metadata": {},
   "outputs": [
    {
     "data": {
      "text/plain": [
       "(1, 2, 3, 4, 5, 6)"
      ]
     },
     "execution_count": 104,
     "metadata": {},
     "output_type": "execute_result"
    }
   ],
   "source": [
    "a={1:23,2:'Hello'}\n",
    "b=[1,2,3,4,5,6]\n",
    "tuple(b)"
   ]
  },
  {
   "cell_type": "code",
   "execution_count": 105,
   "id": "5e470ba5",
   "metadata": {},
   "outputs": [
    {
     "name": "stdout",
     "output_type": "stream",
     "text": [
      "()\n",
      "()\n"
     ]
    }
   ],
   "source": [
    "x = ()\n",
    "print(x)\n",
    "#Create an empty tuple with tuple() function built-in Python\n",
    "tuplex = tuple()\n",
    "print(tuplex)"
   ]
  },
  {
   "cell_type": "code",
   "execution_count": 106,
   "id": "8a08a997",
   "metadata": {},
   "outputs": [
    {
     "name": "stdout",
     "output_type": "stream",
     "text": [
      "(2, 4, 5, 6, 2, 3, 4, 4, 7)\n",
      "3\n"
     ]
    }
   ],
   "source": [
    "#create a tuple\n",
    "tuplex = 2, 4, 5, 6, 2, 3, 4, 4, 7 \n",
    "print(tuplex)\n",
    "#return the number of times it appears in the tuple.\n",
    "count = tuplex.count(4)\n",
    "print(count)"
   ]
  },
  {
   "cell_type": "code",
   "execution_count": 109,
   "id": "61eb8db5",
   "metadata": {},
   "outputs": [
    {
     "ename": "IndentationError",
     "evalue": "unexpected indent (1693707259.py, line 30)",
     "output_type": "error",
     "traceback": [
      "\u001b[1;36m  File \u001b[1;32m\"C:\\Users\\PINJAL\\AppData\\Local\\Temp\\ipykernel_12604\\1693707259.py\"\u001b[1;36m, line \u001b[1;32m30\u001b[0m\n\u001b[1;33m    slice = tuplex[9:2:-4]\u001b[0m\n\u001b[1;37m    ^\u001b[0m\n\u001b[1;31mIndentationError\u001b[0m\u001b[1;31m:\u001b[0m unexpected indent\n"
     ]
    }
   ],
   "source": [
    "#create a tuple\n",
    "tuplex = (2, 4, 3, 5, 4, 6, 7, 8, 6, 1)\n",
    "#used tuple[start:stop] the start index is inclusive and the stop index\n",
    "slice = tuplex[3:5]\n",
    "#is exclusive\n",
    "print(slice)\n",
    "#if the start index isn't defined, is taken from the beg inning of the tuple\n",
    "slice = tuplex[:6]\n",
    "print(slice)\n",
    "#if the end index isn't defined, is taken until the end of the tuple\n",
    "slice = tuplex[5:]\n",
    "print(slice)\n",
    "#if neither is defined, returns the full tuple\n",
    "slice = tuplex[:]\n",
    "print(slice)\n",
    "#The indexes can be defined with negative values\n",
    "slice = tuplex[-8:-4]\n",
    "print(slice)\n",
    "#create another tuple\n",
    "tuplex = tuple(\"HELLO WORLD\")\n",
    "print(tuplex)\n",
    "#step specify an increment between the elements to cut of the tuple\n",
    "#tuple[start:stop:step]\n",
    "slice = tuplex[2:9:2]\n",
    "print(slice)\n",
    "#returns a tuple with a jump every 3 items\n",
    "slice = tuplex[::4]\n",
    "print(slice)\n",
    "#when step is negative the jump is made back\n",
    " slice = tuplex[9:2:-4]\n",
    "print(slice)"
   ]
  },
  {
   "cell_type": "code",
   "execution_count": 112,
   "id": "652044d3",
   "metadata": {},
   "outputs": [
    {
     "name": "stdout",
     "output_type": "stream",
     "text": [
      "{'Ahmedabad': 79, 'Mumbai': 22, 'Pune': 20, 'Delhi': 11}\n",
      "Ahmedabad  | 79\n",
      "Mumbai  | 22\n",
      "Pune  | 20\n",
      "Delhi  | 11\n"
     ]
    }
   ],
   "source": [
    "cityCode={'Ahmedabad':79,'Mumbai':22,'Pune':20,'Delhi':11}\n",
    "\n",
    "print(cityCode)\n",
    "\n",
    "for key in cityCode:\n",
    "     print(key,\" |\",cityCode[key])"
   ]
  },
  {
   "cell_type": "code",
   "execution_count": 113,
   "id": "e452090c",
   "metadata": {},
   "outputs": [
    {
     "name": "stdout",
     "output_type": "stream",
     "text": [
      "CityFamousCopy {'Ahmedabad': 'IIM', 'Delhi': 'Metro', 'Mumbai': 'Bollywood'}\n",
      "Before Update {'Ahmedabad': 79, 'Mumbai': 22, 'Pune': 20, 'Delhi': 11}\n",
      "After Update {'Ahmedabad': 'IIM', 'Mumbai': 'Bollywood', 'Pune': 20, 'Delhi': 'Metro'}\n"
     ]
    }
   ],
   "source": [
    "\n",
    "cityCode={'Ahmedabad':79,'Mumbai':22,'Pune':20,'Delhi':11}\n",
    "cityFamousPlace={\"Ahmedabad\":\"IIM\",\"Delhi\":\"Metro\",\"Mumbai\":\"Bollywood\"}\n",
    "\n",
    "\n",
    "cityFamousPlaceCopy = cityFamousPlace.copy()\n",
    "print(\"CityFamousCopy\",cityFamousPlaceCopy)\n",
    "\n",
    "\n",
    "print(\"Before Update\",cityCode)\n",
    "cityCode.update(cityFamousPlace)\n",
    "print(\"After Update\",cityCode)"
   ]
  },
  {
   "cell_type": "code",
   "execution_count": 115,
   "id": "3f6135b7",
   "metadata": {},
   "outputs": [
    {
     "name": "stdout",
     "output_type": "stream",
     "text": [
      "p\n",
      "y\n",
      "t\n",
      "h\n",
      "o\n",
      "n\n",
      "programing"
     ]
    }
   ],
   "source": [
    "for name in \"python\":\n",
    "    print(name)\n",
    "\n",
    "for name in \"programing\":\n",
    "    print(name,end=\"\")\n",
    "    "
   ]
  },
  {
   "cell_type": "code",
   "execution_count": 116,
   "id": "b3196897",
   "metadata": {},
   "outputs": [
    {
     "name": "stdout",
     "output_type": "stream",
     "text": [
      "C\n",
      "C++\n",
      "JAVA\n"
     ]
    }
   ],
   "source": [
    "\n",
    "lang=['C','C++','JAVA']\n",
    "\n",
    "for item in lang:\n",
    "   print(item)"
   ]
  },
  {
   "cell_type": "code",
   "execution_count": 117,
   "id": "890b5572",
   "metadata": {},
   "outputs": [
    {
     "name": "stdout",
     "output_type": "stream",
     "text": [
      "python Advance\n",
      "python Popular\n",
      "Java Advance\n",
      "Java Popular\n"
     ]
    }
   ],
   "source": [
    "\n",
    "lang=[\"python\",\"Java\"]\n",
    "feature=[\"Advance\",\"Popular\"]\n",
    "\n",
    "for a in lang:\n",
    "   for b in feature:\n",
    "       print(a,b)"
   ]
  },
  {
   "cell_type": "code",
   "execution_count": 118,
   "id": "44f00aa0",
   "metadata": {},
   "outputs": [
    {
     "name": "stdout",
     "output_type": "stream",
     "text": [
      " *   *   *   *   *  \n",
      " *   *   *   *   *  \n",
      " *   *   *   *   *  \n",
      " *   *   *   *   *  \n",
      " *   *   *   *   *  \n"
     ]
    }
   ],
   "source": [
    "\n",
    "for a in range(1,6):\n",
    "    for b in range(1,6):\n",
    "        print(\" * \",end=\" \")\n",
    "    print()"
   ]
  },
  {
   "cell_type": "code",
   "execution_count": 123,
   "id": "8eac3356",
   "metadata": {},
   "outputs": [
    {
     "name": "stdout",
     "output_type": "stream",
     "text": [
      "1 \n",
      "2 2 \n",
      "3 3 3 \n",
      "4 4 4 4 \n",
      "5 5 5 5 5 \n"
     ]
    }
   ],
   "source": [
    "\n",
    "for i in range(1, 6):\n",
    "   for j in range(i):\n",
    "        print( i,end=' ')\n",
    "   print()"
   ]
  },
  {
   "cell_type": "code",
   "execution_count": 125,
   "id": "1cf2416e",
   "metadata": {},
   "outputs": [
    {
     "name": "stdout",
     "output_type": "stream",
     "text": [
      "1 2 3 4 5 6 7 8 9 10 \n",
      "0 1 2 3 4 5 \n",
      "1 3 5 7 9 "
     ]
    }
   ],
   "source": [
    "\n",
    "for i in range(1,11):\n",
    "    print(i,end=\" \")\n",
    "\n",
    "print()\n",
    "\n",
    "# range function with specified number\n",
    "# start from default 0 \n",
    "\n",
    "for i in range(6):\n",
    "    print(i,end=\" \")\n",
    "\n",
    "print()\n",
    "\n",
    "# range function with specified increment number\n",
    "\n",
    "for i in range(1,11,2):\n",
    "    print(i,end=\" \")\n"
   ]
  },
  {
   "cell_type": "code",
   "execution_count": 126,
   "id": "50e6b6ea",
   "metadata": {},
   "outputs": [
    {
     "name": "stdout",
     "output_type": "stream",
     "text": [
      "1 2 3 4 5 6 7 8 9 10 "
     ]
    }
   ],
   "source": [
    "i = 1\n",
    "while i < 11:\n",
    "   print(i,end=\" \")\n",
    "   i += 1"
   ]
  },
  {
   "cell_type": "code",
   "execution_count": 131,
   "id": "2013bdf1",
   "metadata": {},
   "outputs": [
    {
     "name": "stdout",
     "output_type": "stream",
     "text": [
      "hello\n",
      "12\n",
      "bhut\n"
     ]
    }
   ],
   "source": [
    "def myfun():\n",
    "   print(\"hello\")\n",
    "\n",
    "def sum():\n",
    "    print(10+2)\n",
    "    \n",
    "def pinjal(name):\n",
    "    print(name)\n",
    "\n",
    "myfun()\n",
    "sum()\n",
    "pinjal(\"bhut\")"
   ]
  },
  {
   "cell_type": "code",
   "execution_count": 132,
   "id": "2fe7d59f",
   "metadata": {},
   "outputs": [
    {
     "name": "stdout",
     "output_type": "stream",
     "text": [
      "Enter id : 1\n",
      "Enter your name : pinju\n",
      "student id is :  1\n",
      "student name is :  pinju\n"
     ]
    }
   ],
   "source": [
    "def student(id,name):\n",
    "   print(\"student id is : \",id)\n",
    "   print(\"student name is : \",name)\n",
    "\n",
    "id=int(input(\"Enter id : \"))   \n",
    "name=input(\"Enter your name : \")\n",
    "\n",
    "student(id,name)"
   ]
  },
  {
   "cell_type": "code",
   "execution_count": 134,
   "id": "b6fc7c64",
   "metadata": {},
   "outputs": [
    {
     "name": "stdout",
     "output_type": "stream",
     "text": [
      "Enter id : 4\n",
      "Enter your name : khg\n",
      "student id is :  4\n",
      "student name is :  -1\n"
     ]
    }
   ],
   "source": [
    "def  student(id,name=\"-1\"):\n",
    "   print(\"student id is : \",id)\n",
    "   print(\"student name is : \",name)\n",
    "\n",
    "id=int(input(\"Enter id : \"))   \n",
    "name=input(\"Enter your name : \")\n",
    "\n",
    "student(id)"
   ]
  },
  {
   "cell_type": "code",
   "execution_count": 137,
   "id": "e3e92396",
   "metadata": {},
   "outputs": [
    {
     "name": "stdout",
     "output_type": "stream",
     "text": [
      "5\n",
      "85\n",
      "66\n"
     ]
    }
   ],
   "source": [
    "def tuplelist(a,*tup):\n",
    "\n",
    "   for a in tup:\n",
    "       print(a)\n",
    "\n",
    "\n",
    "tuplelist(1,5,85,66)"
   ]
  },
  {
   "cell_type": "code",
   "execution_count": 138,
   "id": "1aa64af2",
   "metadata": {},
   "outputs": [
    {
     "name": "stdout",
     "output_type": "stream",
     "text": [
      "name Anjali\n",
      "marks 99\n"
     ]
    }
   ],
   "source": [
    "# dict as parameter\n",
    "def student(**dict):\n",
    "\n",
    "   for key,value in dict.items():\n",
    "       print(key,value)\n",
    "\n",
    "student(name=\"Anjali\",marks=99)"
   ]
  },
  {
   "cell_type": "code",
   "execution_count": 139,
   "id": "14041c12",
   "metadata": {},
   "outputs": [
    {
     "name": "stdout",
     "output_type": "stream",
     "text": [
      "25\n",
      "50\n"
     ]
    }
   ],
   "source": [
    "\n",
    "x = lambda a : a + 20\n",
    "print(x(5))\n",
    "\n",
    "mul = lambda a,b: a*b\n",
    "print(mul(5,10))"
   ]
  },
  {
   "cell_type": "code",
   "execution_count": 140,
   "id": "32da68d1",
   "metadata": {},
   "outputs": [
    {
     "name": "stdout",
     "output_type": "stream",
     "text": [
      "Python\n"
     ]
    }
   ],
   "source": [
    "#gloable variable\n",
    "def myfun():\n",
    "       print(name)\n",
    "\n",
    "name=\"Python\"\n",
    "\n",
    "myfun()"
   ]
  },
  {
   "cell_type": "code",
   "execution_count": 141,
   "id": "32a6cb80",
   "metadata": {},
   "outputs": [
    {
     "name": "stdout",
     "output_type": "stream",
     "text": [
      "Python Language\n"
     ]
    }
   ],
   "source": [
    "#local variable\n",
    "def myfun():\n",
    "       name=\"Python Language\"\n",
    "       print(name)\n",
    "\n",
    "name=\"Python\"\n",
    "\n",
    "myfun()\n"
   ]
  },
  {
   "cell_type": "code",
   "execution_count": 142,
   "id": "f7bff466",
   "metadata": {},
   "outputs": [
    {
     "name": "stdout",
     "output_type": "stream",
     "text": [
      "1st  Python\n",
      "2nd  Python Language\n",
      "3rd  Python Language\n"
     ]
    }
   ],
   "source": [
    "\n",
    "\"\"\"\n",
    "def myfun():\n",
    "       print(name)\n",
    "       name=\"Python Language\"\n",
    "       print(name)\n",
    "name=\"Python\"\n",
    "myfun()\n",
    "print(name)\n",
    "\"\"\"\n",
    "\n",
    "# with global keyword\n",
    "def myfun():\n",
    "       global name\n",
    "       print(\"1st \",name)\n",
    "       name=\"Python Language\"\n",
    "       print(\"2nd \",name)\n",
    "\n",
    "name=\"Python\"\n",
    "\n",
    "myfun()\n",
    "\n",
    "print(\"3rd \",name)"
   ]
  },
  {
   "cell_type": "code",
   "execution_count": 146,
   "id": "9921c67b",
   "metadata": {},
   "outputs": [
    {
     "ename": "ModuleNotFoundError",
     "evalue": "No module named 'Mymodule'",
     "output_type": "error",
     "traceback": [
      "\u001b[1;31m---------------------------------------------------------------------------\u001b[0m",
      "\u001b[1;31mModuleNotFoundError\u001b[0m                       Traceback (most recent call last)",
      "\u001b[1;32m~\\AppData\\Local\\Temp\\ipykernel_12604\\1085832676.py\u001b[0m in \u001b[0;36m<module>\u001b[1;34m\u001b[0m\n\u001b[0;32m      5\u001b[0m \u001b[1;33m\u001b[0m\u001b[0m\n\u001b[0;32m      6\u001b[0m \u001b[1;33m\u001b[0m\u001b[0m\n\u001b[1;32m----> 7\u001b[1;33m \u001b[1;32mimport\u001b[0m \u001b[0mMymodule\u001b[0m\u001b[1;33m\u001b[0m\u001b[1;33m\u001b[0m\u001b[0m\n\u001b[0m\u001b[0;32m      8\u001b[0m \u001b[0mMymodule\u001b[0m\u001b[1;33m.\u001b[0m\u001b[0msum\u001b[0m\u001b[1;33m(\u001b[0m\u001b[1;36m12\u001b[0m\u001b[1;33m,\u001b[0m\u001b[1;36m5\u001b[0m\u001b[1;33m)\u001b[0m\u001b[1;33m\u001b[0m\u001b[1;33m\u001b[0m\u001b[0m\n\u001b[0;32m      9\u001b[0m \u001b[1;33m\u001b[0m\u001b[0m\n",
      "\u001b[1;31mModuleNotFoundError\u001b[0m: No module named 'Mymodule'"
     ]
    }
   ],
   "source": [
    "def sum(a,b):\n",
    "    print(a+b)\n",
    "\n",
    "product_price=150.50\n",
    "\n",
    "\n",
    "import Mymodule\n",
    "Mymodule.sum(12,5)\n",
    "\n",
    "\n",
    "print(mymodule.product_price)"
   ]
  },
  {
   "cell_type": "code",
   "execution_count": 147,
   "id": "7348bed7",
   "metadata": {},
   "outputs": [
    {
     "name": "stdout",
     "output_type": "stream",
     "text": [
      "13\n",
      "3.141592653589793\n",
      "2.718281828459045\n",
      "0.49688013784373675\n",
      "0.8678191796776499\n",
      "0.5725618302516684\n",
      "-0.6539264674066639\n"
     ]
    }
   ],
   "source": [
    "import math\n",
    "print(math.ceil(12.34))\n",
    "\n",
    "print(math.pi)\n",
    "print(math.e)\n",
    "print(math.sin(0.52))\n",
    "print(math.cos(0.52))\n",
    "print(math.tan(0.52))\n",
    "print(math.log(0.52))"
   ]
  },
  {
   "cell_type": "code",
   "execution_count": 148,
   "id": "9cb39c48",
   "metadata": {},
   "outputs": [
    {
     "ename": "ModuleNotFoundError",
     "evalue": "No module named 'mypackage'",
     "output_type": "error",
     "traceback": [
      "\u001b[1;31m---------------------------------------------------------------------------\u001b[0m",
      "\u001b[1;31mModuleNotFoundError\u001b[0m                       Traceback (most recent call last)",
      "\u001b[1;32m~\\AppData\\Local\\Temp\\ipykernel_12604\\1707645136.py\u001b[0m in \u001b[0;36m<module>\u001b[1;34m\u001b[0m\n\u001b[1;32m----> 1\u001b[1;33m \u001b[1;32mfrom\u001b[0m \u001b[0mmypackage\u001b[0m \u001b[1;32mimport\u001b[0m \u001b[0mfirst\u001b[0m\u001b[1;33m,\u001b[0m\u001b[0msecond\u001b[0m\u001b[1;33m\u001b[0m\u001b[1;33m\u001b[0m\u001b[0m\n\u001b[0m\u001b[0;32m      2\u001b[0m \u001b[1;33m\u001b[0m\u001b[0m\n\u001b[0;32m      3\u001b[0m \u001b[0mfirst\u001b[0m\u001b[1;33m.\u001b[0m\u001b[0mmyfirst\u001b[0m\u001b[1;33m(\u001b[0m\u001b[1;33m)\u001b[0m\u001b[1;33m\u001b[0m\u001b[1;33m\u001b[0m\u001b[0m\n\u001b[0;32m      4\u001b[0m \u001b[0msecond\u001b[0m\u001b[1;33m.\u001b[0m\u001b[0mmysecond\u001b[0m\u001b[1;33m(\u001b[0m\u001b[1;33m)\u001b[0m\u001b[1;33m\u001b[0m\u001b[1;33m\u001b[0m\u001b[0m\n",
      "\u001b[1;31mModuleNotFoundError\u001b[0m: No module named 'mypackage'"
     ]
    }
   ],
   "source": [
    "from mypackage import first,second\n",
    "\n",
    "first.myfirst()\n",
    "second.mysecond()"
   ]
  },
  {
   "cell_type": "code",
   "execution_count": 167,
   "id": "d2e31b2b",
   "metadata": {},
   "outputs": [
    {
     "name": "stdout",
     "output_type": "stream",
     "text": [
      "Hello\n",
      "\n",
      "7\n",
      "Welcome to file management program\n"
     ]
    }
   ],
   "source": [
    "file = open(\"test.txt\",\"w\")\n",
    "file.write(\"Hello\\n\")\n",
    "file.write(\"Welcome to file management program\")\n",
    "file.close()\n",
    "file = open(\"test.txt\",\"r\")\n",
    "str=file.readline()\n",
    "print(str)\n",
    "a=file.tell()\n",
    "print(a)\n",
    "str=file.read()\n",
    "print(str)"
   ]
  },
  {
   "cell_type": "code",
   "execution_count": 153,
   "id": "1ae15eea",
   "metadata": {},
   "outputs": [],
   "source": [
    "import os\n",
    "os.chdir(r'E:/')\n",
    "if not os.path.exists(\"MYFOLDER\"):\n",
    "   os.makedirs(\"MYFOLDER\")\n",
    "else:\n",
    "   print(\"Already exists\")"
   ]
  },
  {
   "cell_type": "code",
   "execution_count": 154,
   "id": "7c11fa6b",
   "metadata": {},
   "outputs": [],
   "source": [
    "import os\n",
    "os.chdir(r'E:/')\n",
    "if os.path.exists(\"MYFOLDER\"):\n",
    "  os.rmdir(\"MYFOLDER\")\n"
   ]
  },
  {
   "cell_type": "code",
   "execution_count": 169,
   "id": "1f07e748",
   "metadata": {},
   "outputs": [
    {
     "name": "stdout",
     "output_type": "stream",
     "text": [
      "Enter the value of A :12\n",
      "Enter the value of B :0\n",
      "Execption Caught\n",
      "Bye\n"
     ]
    }
   ],
   "source": [
    "a= int(input(\"Enter the value of A :\"))\n",
    "b= int(input(\"Enter the value of B :\"))\n",
    "\n",
    "try:\n",
    "    c=a/b \n",
    "    print(\"Division : \",c)\n",
    "except Exception:\n",
    "    print(\"Execption Caught\")\n",
    "    \n",
    "    \n",
    "print(\"Bye\")"
   ]
  },
  {
   "cell_type": "code",
   "execution_count": 171,
   "id": "aa7d67ac",
   "metadata": {},
   "outputs": [
    {
     "name": "stdout",
     "output_type": "stream",
     "text": [
      "Enter the value : gdrh\n",
      "Invalid Input\n",
      "Finally Called\n",
      "Enter the value : cgf\n",
      "Invalid Input\n",
      "Finally Called\n",
      "Enter the value : 34\n",
      "Finally Called\n",
      "Bye\n"
     ]
    }
   ],
   "source": [
    "from builtins import int\n",
    "while True:\n",
    "    try:\n",
    "        n=input(\"Enter the value : \")\n",
    "        n=int(n)\n",
    "        break\n",
    "    except Exception:\n",
    "        print(\"Invalid Input\")\n",
    "    finally:\n",
    "        print(\"Finally Called\")\n",
    "print(\"Bye\")"
   ]
  },
  {
   "cell_type": "code",
   "execution_count": 174,
   "id": "beae9b5b",
   "metadata": {},
   "outputs": [
    {
     "name": "stdout",
     "output_type": "stream",
     "text": [
      "12\n",
      "Hello user\n",
      "Finally block\n"
     ]
    }
   ],
   "source": [
    "try:\n",
    "   print(a)\n",
    "except NameError:\n",
    "   print(\"variable a is not defined\")\n",
    "except:\n",
    "   print(\"something else \")\n",
    "else:\n",
    "   print(\"Hello user\")\n",
    "finally:\n",
    "   print(\"Finally block\")"
   ]
  },
  {
   "cell_type": "code",
   "execution_count": 176,
   "id": "e003ef48",
   "metadata": {},
   "outputs": [
    {
     "name": "stdout",
     "output_type": "stream",
     "text": [
      "enter the value of X :13\n",
      "X: 13\n",
      "13 Is Odd number\n"
     ]
    }
   ],
   "source": [
    "\n",
    "class MyClass:\n",
    "    \n",
    "    x = 0\n",
    "    def __init__(self,x):\n",
    "        self.x=x \n",
    "    \n",
    "    def my_method(self):\n",
    "        print(\"X:\",self.x)\n",
    "    \n",
    "    \n",
    "    def OddEven(self):\n",
    "        if self.x%2==0:\n",
    "            print(self.x,\"Is even number\")\n",
    "        else:\n",
    "            print(self.x,\"Is Odd number\")\n",
    "            \n",
    "x=int(input(\"enter the value of X :\"))\n",
    "\n",
    "a=MyClass(x)\n",
    "a.my_method()\n",
    "a.OddEven()"
   ]
  },
  {
   "cell_type": "code",
   "execution_count": 179,
   "id": "b07a7911",
   "metadata": {},
   "outputs": [
    {
     "name": "stdout",
     "output_type": "stream",
     "text": [
      "Enter the Fname :qw\n",
      "qw\n",
      "Enter the Lname :df\n",
      "df\n",
      "Enter the Email : 4\n",
      "4\n",
      "Constructor Called\n",
      "Fname : None\n",
      "Lname : None\n",
      "Email : None\n"
     ]
    }
   ],
   "source": [
    "\n",
    "class Person:\n",
    "    \n",
    "    fname =\"\"\n",
    "    lname =\"\"\n",
    "    email =\"\"\n",
    "    \n",
    "    \n",
    "    def __init__(self,fname,lname,email):\n",
    "        \n",
    "        print(\"Constructor Called\")\n",
    "        self.fname = fname\n",
    "        self.lname = lname\n",
    "        self.email = email\n",
    "    \n",
    "    def showDetails(self):\n",
    "        print(\"Fname :\",self.fname)\n",
    "        print(\"Lname :\",self.lname)\n",
    "        print(\"Email :\",self.email)\n",
    "\n",
    "fname = print(input(\"Enter the Fname :\"))\n",
    "lname = print(input(\"Enter the Lname :\"))\n",
    "email = print(input(\"Enter the Email : \"))        \n",
    "p = Person(fname,lname,email)\n",
    "\n",
    "p.showDetails()"
   ]
  },
  {
   "cell_type": "code",
   "execution_count": 181,
   "id": "f7f1d109",
   "metadata": {},
   "outputs": [
    {
     "name": "stdout",
     "output_type": "stream",
     "text": [
      "First Name :  Sunit  And Last Name :  Jha\n",
      "Staff Number :  8\n"
     ]
    }
   ],
   "source": [
    "class Person():\n",
    "    fname=\"\"\n",
    "    lname=\"\"\n",
    "    def __init__(self,fname,lname):\n",
    "        self.fname=fname\n",
    "        self.lname=lname\n",
    "    def showName(self):\n",
    "        print(\"First Name : \",self.fname,\" And Last Name : \",self.lname)\n",
    "\n",
    "class Employee(Person):\n",
    "    \n",
    "    sno=0\n",
    "    def __init__(self,fname,lname,sno):\n",
    "        Person.__init__(self, fname, lname)\n",
    "        self.sno=sno\n",
    "        \n",
    "    def showEmployee(self):\n",
    "        self.showName()\n",
    "        print(\"Staff Number : \",self.sno)\n",
    "\n",
    "b=Person(\"Sunit\",\"Jha\")\n",
    "a=Employee(\"Sunit\",\"Jha\",8)\n",
    "#b.showName()\n",
    "a.showEmployee()\n"
   ]
  }
 ],
 "metadata": {
  "kernelspec": {
   "display_name": "Python 3 (ipykernel)",
   "language": "python",
   "name": "python3"
  },
  "language_info": {
   "codemirror_mode": {
    "name": "ipython",
    "version": 3
   },
   "file_extension": ".py",
   "mimetype": "text/x-python",
   "name": "python",
   "nbconvert_exporter": "python",
   "pygments_lexer": "ipython3",
   "version": "3.9.13"
  }
 },
 "nbformat": 4,
 "nbformat_minor": 5
}
