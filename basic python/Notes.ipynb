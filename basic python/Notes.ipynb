{
 "cells": [
  {
   "cell_type": "code",
   "execution_count": 58,
   "id": "4393fea5",
   "metadata": {},
   "outputs": [
    {
     "name": "stdout",
     "output_type": "stream",
     "text": [
      "hello worthgrthrtr95068904645609$%&^%*%rld\n"
     ]
    }
   ],
   "source": [
    "print(\"hello worthgrthrtr95068904645609$%&^%*%rld\")"
   ]
  },
  {
   "cell_type": "code",
   "execution_count": null,
   "id": "103e6321",
   "metadata": {},
   "outputs": [],
   "source": [
    "commnets in python are of two types\n",
    "single line comment #\n",
    "multiline comment  \"\"\"   \"\"\"    '''   '''"
   ]
  },
  {
   "cell_type": "code",
   "execution_count": 36,
   "id": "0f67dc5c",
   "metadata": {},
   "outputs": [
    {
     "name": "stdout",
     "output_type": "stream",
     "text": [
      "He\tloo\n",
      "jffk\b\b \n",
      "g' ' 'ei n jv\"h\tbkvb\n"
     ]
    }
   ],
   "source": [
    "print(\"He\\tloo\\njffk\\b\\b \\ng' ' 'ei n jv\\\"h\\tbkvb\")\n",
    "# n=\"rthrrth'rthrth'trhht\"rhrhrt\""
   ]
  },
  {
   "cell_type": "code",
   "execution_count": 40,
   "id": "00dedba1",
   "metadata": {},
   "outputs": [
    {
     "ename": "SyntaxError",
     "evalue": "invalid syntax (2680744492.py, line 1)",
     "output_type": "error",
     "traceback": [
      "\u001b[1;36m  Input \u001b[1;32mIn [40]\u001b[1;36m\u001b[0m\n\u001b[1;33m    print('rg'e\" g\"erg')\u001b[0m\n\u001b[1;37m              ^\u001b[0m\n\u001b[1;31mSyntaxError\u001b[0m\u001b[1;31m:\u001b[0m invalid syntax\n"
     ]
    }
   ],
   "source": [
    "print('rg'e\" g\"erg') "
   ]
  },
  {
   "cell_type": "code",
   "execution_count": null,
   "id": "053a3950",
   "metadata": {},
   "outputs": [],
   "source": [
    "\\n --newline character\n",
    "\\t  --tabsapce\n",
    "\\b ---delete one character\n",
    "\\\" ---double quote\n",
    "\\'  --single quote\n"
   ]
  },
  {
   "cell_type": "code",
   "execution_count": 59,
   "id": "c88e33b9",
   "metadata": {
    "id": "c88e33b9",
    "outputId": "3f48c38a-f4f6-436d-9582-0b110736442a"
   },
   "outputs": [
    {
     "name": "stdout",
     "output_type": "stream",
     "text": [
      "jufiuj\bh ehrvbh\n"
     ]
    }
   ],
   "source": [
    "print(\"jufiuj\\bh ehrvbh\")"
   ]
  },
  {
   "cell_type": "code",
   "execution_count": null,
   "id": "7716cce9",
   "metadata": {
    "id": "7716cce9",
    "outputId": "7c2885e6-bbfc-45cd-c474-89299ef07113"
   },
   "outputs": [
    {
     "name": "stdout",
     "output_type": "stream",
     "text": [
      "ergr egge\t3rg34g\n",
      " erg\b\bf\n"
     ]
    }
   ],
   "source": [
    "print(\"ergr egge\\t3rg34g\\n erg\\b\\bf\")"
   ]
  },
  {
   "cell_type": "markdown",
   "id": "47b87cf7",
   "metadata": {
    "id": "43854431"
   },
   "source": [
    "varaiblename = value\n",
    "\n",
    "# loosely type language\n",
    "\n",
    "# typeless langugae\n"
   ]
  },
  {
   "cell_type": "markdown",
   "id": "bd082766",
   "metadata": {
    "id": "5fb321d4"
   },
   "source": [
    "# datatype\n",
    "\n",
    "int --- 8 4 5 9 75 - 555 -866 -8945 \n",
    "float ---78.25 98 36-98 0.25 -89 -89.36\n",
    "string ---\"egerger\"  'ergfergerg'  \"\"\"erergergr\"\"\"  '''ergergeg'''\n",
    "boolean ---True False\n",
    "\n",
    "list =[]\n",
    "tuple =()\n",
    "set={}\n",
    "dictionary={key:value}"
   ]
  },
  {
   "cell_type": "markdown",
   "id": "4bbc04ea",
   "metadata": {
    "id": "cb27c5f2",
    "outputId": "6782354f-571a-481f-8e85-a57ca8b552e6"
   },
   "source": [
    "# Type Function\n"
   ]
  },
  {
   "cell_type": "code",
   "execution_count": 1,
   "id": "e5e8b877",
   "metadata": {},
   "outputs": [
    {
     "name": "stdout",
     "output_type": "stream",
     "text": [
      "58\n",
      "<class 'int'>\n"
     ]
    }
   ],
   "source": [
    "a=58\n",
    "b=\"wergtt\"\n",
    "print(a)\n",
    "#--type(variablename)\n",
    "print(type(a))"
   ]
  },
  {
   "cell_type": "markdown",
   "id": "cbfe6446",
   "metadata": {},
   "source": [
    "# id function"
   ]
  },
  {
   "cell_type": "code",
   "execution_count": 9,
   "id": "6c75e0fd",
   "metadata": {},
   "outputs": [
    {
     "name": "stdout",
     "output_type": "stream",
     "text": [
      "2448692826544\n"
     ]
    }
   ],
   "source": [
    "a=67\n",
    "print(id(a))"
   ]
  },
  {
   "cell_type": "markdown",
   "id": "278d3a9a",
   "metadata": {
    "id": "9dbeec8c"
   },
   "source": [
    "# user input the values--\n",
    "\n",
    "variable=input(\"Message\")"
   ]
  },
  {
   "cell_type": "code",
   "execution_count": 63,
   "id": "82447d57",
   "metadata": {
    "id": "82447d57",
    "outputId": "224cfeb9-1aa1-41b0-d9ef-77906e6883a6"
   },
   "outputs": [
    {
     "name": "stdout",
     "output_type": "stream",
     "text": [
      "Enter Somethingfchf\n"
     ]
    },
    {
     "ename": "ValueError",
     "evalue": "invalid literal for int() with base 10: 'fchf'",
     "output_type": "error",
     "traceback": [
      "\u001b[1;31m---------------------------------------------------------------------------\u001b[0m",
      "\u001b[1;31mValueError\u001b[0m                                Traceback (most recent call last)",
      "\u001b[1;32m~\\AppData\\Local\\Temp\\ipykernel_10588\\2288484312.py\u001b[0m in \u001b[0;36m<module>\u001b[1;34m\u001b[0m\n\u001b[1;32m----> 1\u001b[1;33m \u001b[0ma\u001b[0m\u001b[1;33m=\u001b[0m\u001b[0mint\u001b[0m\u001b[1;33m(\u001b[0m\u001b[0minput\u001b[0m\u001b[1;33m(\u001b[0m\u001b[1;34m\"Enter Something\"\u001b[0m\u001b[1;33m)\u001b[0m\u001b[1;33m)\u001b[0m\u001b[1;33m\u001b[0m\u001b[1;33m\u001b[0m\u001b[0m\n\u001b[0m\u001b[0;32m      2\u001b[0m \u001b[0mprint\u001b[0m\u001b[1;33m(\u001b[0m\u001b[0ma\u001b[0m\u001b[1;33m)\u001b[0m\u001b[1;33m\u001b[0m\u001b[1;33m\u001b[0m\u001b[0m\n\u001b[0;32m      3\u001b[0m \u001b[0mprint\u001b[0m\u001b[1;33m(\u001b[0m\u001b[0mtype\u001b[0m\u001b[1;33m(\u001b[0m\u001b[0ma\u001b[0m\u001b[1;33m)\u001b[0m\u001b[1;33m)\u001b[0m\u001b[1;33m\u001b[0m\u001b[1;33m\u001b[0m\u001b[0m\n",
      "\u001b[1;31mValueError\u001b[0m: invalid literal for int() with base 10: 'fchf'"
     ]
    }
   ],
   "source": [
    "a=int(input(\"Enter Something\"))\n",
    "print(a)\n",
    "print(type(a))"
   ]
  },
  {
   "cell_type": "code",
   "execution_count": 29,
   "id": "fe1ab627",
   "metadata": {
    "id": "fe1ab627",
    "outputId": "c624d8d3-b6c5-49f0-b312-6de1446d7803"
   },
   "outputs": [
    {
     "ename": "IndentationError",
     "evalue": "unexpected indent (3592841043.py, line 5)",
     "output_type": "error",
     "traceback": [
      "\u001b[1;36m  File \u001b[1;32m\"C:\\Users\\PINJAL\\AppData\\Local\\Temp\\ipykernel_20408\\3592841043.py\"\u001b[1;36m, line \u001b[1;32m5\u001b[0m\n\u001b[1;33m    a=str(a)\u001b[0m\n\u001b[1;37m    ^\u001b[0m\n\u001b[1;31mIndentationError\u001b[0m\u001b[1;31m:\u001b[0m unexpected indent\n"
     ]
    }
   ],
   "source": [
    "# typecast\n",
    "# implicit and explicit\n",
    "# datatype(variable)\n",
    "a=90\n",
    " =str(a)\n",
    "print(type(a))\n",
    "# if we will not maintain indentation in python then it will give indentation error"
   ]
  },
  {
   "cell_type": "code",
   "execution_count": null,
   "id": "35482ac0",
   "metadata": {
    "id": "35482ac0",
    "outputId": "dbd714d2-01db-424f-b22b-b8dca94158bc"
   },
   "outputs": [
    {
     "data": {
      "text/plain": [
       "137.26"
      ]
     },
     "execution_count": 24,
     "metadata": {},
     "output_type": "execute_result"
    }
   ],
   "source": [
    "(89.26+48)"
   ]
  },
  {
   "cell_type": "code",
   "execution_count": null,
   "id": "ee9e7006",
   "metadata": {
    "id": "ee9e7006",
    "outputId": "4da9a7e4-fd70-47c7-90bc-d7e25132f39d"
   },
   "outputs": [
    {
     "ename": "NameError",
     "evalue": "name 'z' is not defined",
     "output_type": "error",
     "traceback": [
      "\u001b[1;31m---------------------------------------------------------------------------\u001b[0m",
      "\u001b[1;31mNameError\u001b[0m                                 Traceback (most recent call last)",
      "Input \u001b[1;32mIn [31]\u001b[0m, in \u001b[0;36m<cell line: 1>\u001b[1;34m()\u001b[0m\n\u001b[1;32m----> 1\u001b[0m \u001b[38;5;28mprint\u001b[39m(\u001b[43mz\u001b[49m)\n",
      "\u001b[1;31mNameError\u001b[0m: name 'z' is not defined"
     ]
    }
   ],
   "source": [
    "print(z)\n",
    "# if we try to use variable which is not declared then it will give NameError"
   ]
  },
  {
   "cell_type": "markdown",
   "id": "fb66a497",
   "metadata": {
    "id": "2de0dd2c"
   },
   "source": [
    "# identifier rule\n",
    "\n",
    "%fgr $fg 8erg _wrgfer\n",
    "\n",
    "1)first letter a-z A-Z _\n",
    "2)remaing letter a-z A-Z _ 0-9 \n",
    "\n",
    "# suggestions\n",
    "space will not use\n",
    "keywords will not be used\n",
    "length will not be exceeded more than 255 characters\n",
    "logical name should be used\n",
    "\n",
    "camelcase"
   ]
  },
  {
   "cell_type": "markdown",
   "id": "951fa9c0",
   "metadata": {
    "id": "8a2e578c",
    "outputId": "ca907106-7d50-41d7-8caf-26460232304f"
   },
   "source": [
    "# formatted string"
   ]
  },
  {
   "cell_type": "code",
   "execution_count": null,
   "id": "4539c9f9",
   "metadata": {},
   "outputs": [],
   "source": [
    "age=48\n",
    "name=\"Ravi Kochar\"\n",
    "Adress=\"vesu Surat\"\n",
    "print(f\"Your Age is {age} your name is {name} and your address is {Adress} {name}   {age}\")\n",
    "# print(\"Your Age is {} your name is {} and your address is {}\".format(age,name,Adress))\n",
    "# Your Age is 48 your name is Ravi Kochar and your address is vesu surat"
   ]
  },
  {
   "cell_type": "code",
   "execution_count": null,
   "id": "3d16fa90",
   "metadata": {
    "id": "3d16fa90"
   },
   "outputs": [],
   "source": [
    "# Operators\n",
    "# operands --operators work on operands\n",
    "# + operator\n",
    "# expression\n",
    "89+36"
   ]
  },
  {
   "cell_type": "markdown",
   "id": "67b0807d",
   "metadata": {},
   "source": [
    "# Types of operators"
   ]
  },
  {
   "cell_type": "code",
   "execution_count": null,
   "id": "716fc7f6",
   "metadata": {
    "id": "716fc7f6"
   },
   "outputs": [],
   "source": [
    "arithmetic + - * / % ** //\n",
    "relational > < >= <= == !=\n",
    "logical AND(and) OR(or) NOt(not)\n",
    "assignement = += -= *= /= %= **= //= \n",
    "bitwise >> << & | ^\n",
    "identity is is not\n",
    "membership in not in\n",
    "# ternary operator ?:\n",
    "\n",
    "# conditional statements\n",
    "if simple if\n",
    "if else\n",
    "# if ..elif...elif..elif.....else  ladder if else\n",
    "nested if else\n",
    "\n",
    "switch case in not in python why?????"
   ]
  },
  {
   "cell_type": "markdown",
   "id": "ec34496b",
   "metadata": {},
   "source": [
    "# Arithmatic opeator:-"
   ]
  },
  {
   "cell_type": "code",
   "execution_count": 41,
   "id": "34553f5f",
   "metadata": {
    "id": "34553f5f"
   },
   "outputs": [
    {
     "name": "stdout",
     "output_type": "stream",
     "text": [
      "115\n",
      "144\n",
      "Addition of a and b is 144\n",
      "46\n",
      "1.5\n",
      "33.333333333333336\n",
      "1419.4399999999998\n",
      "8\n",
      "2\n",
      "3\n",
      "44\n"
     ]
    }
   ],
   "source": [
    "print(85+30)\n",
    "a=96\n",
    "b=48\n",
    "print(a+b)\n",
    "print(f\"Addition of a and b is {a+b}\")\n",
    "print(85-39)\n",
    "print(48/32)\n",
    "print(100/3)\n",
    "print(44*32.26)\n",
    "# ** power operator\n",
    "print(2**3)\n",
    "print(26%3) #modulo or modulus operator\n",
    "print(99%24)\n",
    "print(89//2)"
   ]
  },
  {
   "cell_type": "markdown",
   "id": "1dcd0cd1",
   "metadata": {},
   "source": [
    "# how to get ceiling value "
   ]
  },
  {
   "cell_type": "code",
   "execution_count": 40,
   "id": "9adc79c6",
   "metadata": {},
   "outputs": [
    {
     "name": "stdout",
     "output_type": "stream",
     "text": [
      "45.0\n",
      "300.18\n",
      "floor values is 300\n",
      "ceil values is 301\n",
      "floor values is 45\n",
      "ceil values is 46\n"
     ]
    }
   ],
   "source": [
    "x= 91.5//2\n",
    "math.ceil(x)\n",
    "x1=300.18\n",
    "math.floor(x1)\n",
    "print(x)\n",
    "print(x1)\n",
    "\n",
    "print(f\"floor values is {math.floor(300.18)}\")\n",
    "print(f\"ceil values is {math.ceil(300.18)}\")\n",
    "\n",
    "print(f\"floor values is {math.floor(91/2)}\")\n",
    "print(f\"ceil values is {math.ceil(91/2)}\")\n"
   ]
  },
  {
   "cell_type": "markdown",
   "id": "b519fc52",
   "metadata": {},
   "source": [
    "# how to control precision in float values in python"
   ]
  },
  {
   "cell_type": "code",
   "execution_count": 37,
   "id": "05eba2a1",
   "metadata": {},
   "outputs": [
    {
     "name": "stdout",
     "output_type": "stream",
     "text": [
      "33.333\n",
      "33.333\n",
      "33.33\n"
     ]
    }
   ],
   "source": [
    "print(round(100/3,3))\n",
    "print(\"{0:.3f}\".format(100/3))\n",
    "a=100/3\n",
    "print('%.2f'%a)\n"
   ]
  },
  {
   "cell_type": "markdown",
   "id": "a8cbc92c",
   "metadata": {},
   "source": [
    "# relational operator"
   ]
  },
  {
   "cell_type": "code",
   "execution_count": 36,
   "id": "0be82f70",
   "metadata": {},
   "outputs": [
    {
     "name": "stdout",
     "output_type": "stream",
     "text": [
      "False\n",
      "1.0\n",
      "True\n",
      "False\n",
      "False\n",
      "True\n",
      "False\n",
      "True\n",
      "False\n",
      "True\n"
     ]
    }
   ],
   "source": [
    "# 2=2\n",
    "print(48<26)\n",
    "print(float(84>65))\n",
    "print(84<=86)\n",
    "print(84==26)\n",
    "print(89!=89)\n",
    "\n",
    "print(29<32)\n",
    "print(44>57)\n",
    "print(48>24)\n",
    "print(29<32 and 44>57 and 48>24)\n",
    "print(29<32 or 44>57 and 48>24)\n"
   ]
  },
  {
   "cell_type": "code",
   "execution_count": 35,
   "id": "40daceef",
   "metadata": {},
   "outputs": [
    {
     "name": "stdout",
     "output_type": "stream",
     "text": [
      "-110502.25\n"
     ]
    }
   ],
   "source": [
    "print(89+36/48%24-48**3)\n",
    "# ()\tParentheses\n",
    "# **\tExponent\n",
    "# +x, -x, ~x\tUnary plus, Unary minus, Bitwise NOT\n",
    "# *, /, //, %\tMultiplication, Division, Floor division, Modulus\n",
    "# +, -\tAddition, Subtraction\n",
    "# <<, >>\tBitwise shift operators\n",
    "# &\tBitwise AND\n",
    "# ^\tBitwise XOR\n",
    "# |\tBitwise OR\n",
    "# ==, !=, >, >=, <, <=, is, is not, in, not in\tComparisons, Identity, Membership operators\n",
    "# not\tLogical NOT\n",
    "# and\tLogical AND\n",
    "# or\tLogical OR\n",
    "\n"
   ]
  },
  {
   "cell_type": "code",
   "execution_count": 33,
   "id": "73385b04",
   "metadata": {},
   "outputs": [
    {
     "name": "stdout",
     "output_type": "stream",
     "text": [
      "0.75\n",
      "0.75\n"
     ]
    }
   ],
   "source": [
    "print(36/48)\n",
    "print(0.75%24)"
   ]
  },
  {
   "cell_type": "markdown",
   "id": "ab090c00",
   "metadata": {},
   "source": [
    "# assignement operators"
   ]
  },
  {
   "cell_type": "code",
   "execution_count": 32,
   "id": "a541d713",
   "metadata": {},
   "outputs": [
    {
     "name": "stdout",
     "output_type": "stream",
     "text": [
      "48\n"
     ]
    }
   ],
   "source": [
    "a=48\n",
    "# a=a*2\n",
    "# a+=2 \n",
    "print(a)"
   ]
  },
  {
   "cell_type": "code",
   "execution_count": 31,
   "id": "4d2ea29c",
   "metadata": {},
   "outputs": [
    {
     "name": "stdout",
     "output_type": "stream",
     "text": [
      "59\n"
     ]
    }
   ],
   "source": [
    "a=89\n",
    "b=24\n",
    "a/=4\n",
    "a=a/4\n",
    "a=48+45\n",
    "a=b+35\n",
    "print(a)\n"
   ]
  },
  {
   "cell_type": "code",
   "execution_count": 30,
   "id": "be775668",
   "metadata": {},
   "outputs": [
    {
     "name": "stdout",
     "output_type": "stream",
     "text": [
      "8\n",
      "123\n",
      "81\n",
      "61\n",
      "14\n",
      "344\n",
      "104\n",
      "-83\n"
     ]
    }
   ],
   "source": [
    "print(89&42)\n",
    "print(89|42)\n",
    "print(93&81)\n",
    "print(56|45)\n",
    "print(58>>2)\n",
    "print(86<<2)\n",
    "print(80^56)\n",
    "print(~(82))"
   ]
  },
  {
   "cell_type": "code",
   "execution_count": null,
   "id": "304254f7",
   "metadata": {},
   "outputs": [],
   "source": [
    "# Conditional Statements\n",
    "# if simple if\n",
    "# if ...else  \n",
    "# if..elif..elif..elif..........else ladder if else\n",
    "# nested if else"
   ]
  },
  {
   "cell_type": "code",
   "execution_count": null,
   "id": "aca7042a",
   "metadata": {},
   "outputs": [],
   "source": [
    "# simple if\n",
    "\n",
    "\n",
    "if condition:\n",
    "    line of codes"
   ]
  },
  {
   "cell_type": "code",
   "execution_count": 3,
   "id": "28506c16",
   "metadata": {},
   "outputs": [
    {
     "name": "stdout",
     "output_type": "stream",
     "text": [
      "Enter Age: 12\n"
     ]
    }
   ],
   "source": [
    "# simple if\n",
    "age=int(input(\"Enter Age: \"))\n",
    "if age>18:\n",
    "    print(\"adult\")"
   ]
  },
  {
   "cell_type": "code",
   "execution_count": null,
   "id": "99ab97f4",
   "metadata": {},
   "outputs": [],
   "source": [
    "if else:\n",
    "    \n",
    "    \n",
    "if condition:\n",
    "    task performed\n",
    "    ger\n",
    "    ger\n",
    "    ger\n",
    "    g\n",
    "    r\n",
    "else:\n",
    "    gertgert\n",
    "    ger\n",
    "    ger\n",
    "    gge\n",
    "    r"
   ]
  },
  {
   "cell_type": "code",
   "execution_count": 5,
   "id": "ad88ec8d",
   "metadata": {},
   "outputs": [
    {
     "name": "stdout",
     "output_type": "stream",
     "text": [
      "Enter Age: 12\n",
      "Not an Adult\n"
     ]
    }
   ],
   "source": [
    "age=int(input(\"Enter Age: \"))\n",
    "if age>18:\n",
    "    print(\"adult\")\n",
    "else:\n",
    "    print(\"Not an Adult\")"
   ]
  },
  {
   "cell_type": "code",
   "execution_count": null,
   "id": "f5c8355c",
   "metadata": {},
   "outputs": [],
   "source": [
    "if condition:\n",
    "    body\n",
    "elif condition2:\n",
    "    body\n",
    "elif condition3:\n",
    "    boyd\n",
    "    ;\n",
    "    ;\n",
    "    ;\n",
    "[else:\n",
    "     body]\n"
   ]
  },
  {
   "cell_type": "code",
   "execution_count": 8,
   "id": "f9dc9644",
   "metadata": {},
   "outputs": [
    {
     "name": "stdout",
     "output_type": "stream",
     "text": [
      "Enter percentage: 120\n",
      "Fail\n"
     ]
    }
   ],
   "source": [
    "percentage=float(input(\"Enter percentage: \"))\n",
    "if percentage<100 and percentage>80:\n",
    "    print(\"Grade A\")\n",
    "elif percentage<=80 and percentage>70:\n",
    "    print(\"Grade B\")\n",
    "elif percentage<=70 and percentage>55:\n",
    "    print(\"Grade C\")\n",
    "elif percentage<=55 and percentage>33:\n",
    "    print(\"Grade D\")\n",
    "else:\n",
    "    print(\"Fail\")"
   ]
  },
  {
   "cell_type": "code",
   "execution_count": 10,
   "id": "875a2bb8",
   "metadata": {},
   "outputs": [
    {
     "name": "stdout",
     "output_type": "stream",
     "text": [
      "Enter nyumber: 10\n",
      "hello\n"
     ]
    }
   ],
   "source": [
    "num=int(input(\"Enter nyumber: \"))\n",
    "if num==10:\n",
    "    print(\"hello\")\n",
    "elif num==10:\n",
    "    print(\"gfwr\")\n",
    "elif num==10:\n",
    "    print(\"45\")\n",
    "wgfwg\n",
    "wefw\n",
    "fwe\n"
   ]
  },
  {
   "cell_type": "code",
   "execution_count": 12,
   "id": "a2b9ed1b",
   "metadata": {},
   "outputs": [
    {
     "name": "stdout",
     "output_type": "stream",
     "text": [
      "Enter number1: 48\n",
      "Enter number2: 85\n",
      "Enter number3: 23\n",
      "85 is greater\n"
     ]
    }
   ],
   "source": [
    "# nested if..else\n",
    "# greater of three number\n",
    "n1=int(input(\"Enter number1: \"))\n",
    "n2=int(input(\"Enter number2: \"))\n",
    "n3=int(input(\"Enter number3: \"))\n",
    "if n1>n2:\n",
    "    if n1>n3:\n",
    "        print(f\"{n1} is greater\")\n",
    "    else:\n",
    "        print(f\"{n3} is greater\")\n",
    "else:\n",
    "    if n2>n3:\n",
    "        print(f\"{n2} is greater\")\n",
    "    else:\n",
    "        print(f\"{n3} is greater\")"
   ]
  },
  {
   "cell_type": "markdown",
   "id": "7eb23baf",
   "metadata": {},
   "source": [
    "# for loop  sequence /collections /iterable \n",
    "    range()\n",
    "    string\n",
    "    list\n",
    "    tuple\n",
    "    set\n",
    "    dictionary\n",
    "\n",
    "# while loop\n",
    "\n",
    "    user defined condition"
   ]
  },
  {
   "cell_type": "code",
   "execution_count": null,
   "id": "36dd2547",
   "metadata": {},
   "outputs": [],
   "source": [
    "for iterating_variable in sequence:\n",
    "    body"
   ]
  },
  {
   "cell_type": "code",
   "execution_count": 14,
   "id": "d497f555",
   "metadata": {},
   "outputs": [
    {
     "name": "stdout",
     "output_type": "stream",
     "text": [
      "H\n",
      "e\n",
      "l\n",
      "l\n",
      "o\n",
      " \n",
      "W\n",
      "o\n",
      "l\n",
      "r\n",
      "d\n",
      "\n",
      "\n",
      "f\n",
      "g\n",
      "b\n",
      "e\n",
      "r\n"
     ]
    }
   ],
   "source": [
    "for i in \"Hello Wolrd\\nfgber\":\n",
    "    print(i)"
   ]
  },
  {
   "cell_type": "markdown",
   "id": "19333c15",
   "metadata": {},
   "source": [
    "# range()"
   ]
  },
  {
   "cell_type": "code",
   "execution_count": 15,
   "id": "44f76e63",
   "metadata": {},
   "outputs": [
    {
     "name": "stdout",
     "output_type": "stream",
     "text": [
      "range(0, 5)\n"
     ]
    }
   ],
   "source": [
    "# range([start],stop,[step])\n",
    "# range(10)\n",
    "# range(5,15)\n",
    "# range(1,28,2)\n",
    "# print(range(5))"
   ]
  },
  {
   "cell_type": "code",
   "execution_count": 16,
   "id": "5b729f17",
   "metadata": {},
   "outputs": [
    {
     "name": "stdout",
     "output_type": "stream",
     "text": [
      "1\n",
      "2\n",
      "3\n",
      "4\n",
      "5\n",
      "6\n",
      "7\n",
      "8\n",
      "9\n",
      "10\n"
     ]
    }
   ],
   "source": [
    "for i in range(1,11):\n",
    "    print(i)"
   ]
  },
  {
   "cell_type": "code",
   "execution_count": 17,
   "id": "79c4c424",
   "metadata": {},
   "outputs": [
    {
     "name": "stdout",
     "output_type": "stream",
     "text": [
      "Enter number:58\n",
      "58 X 1 = 58\n",
      "58 X 2 = 116\n",
      "58 X 3 = 174\n",
      "58 X 4 = 232\n",
      "58 X 5 = 290\n",
      "58 X 6 = 348\n",
      "58 X 7 = 406\n",
      "58 X 8 = 464\n",
      "58 X 9 = 522\n",
      "58 X 10 = 580\n"
     ]
    }
   ],
   "source": [
    "num=int(input(\"Enter number:\"))\n",
    "for i in range(1,11):\n",
    "    print(f\"{num} X {i} = {num*i}\")"
   ]
  },
  {
   "cell_type": "code",
   "execution_count": null,
   "id": "2d67de6d",
   "metadata": {},
   "outputs": [],
   "source": [
    "-8 -7 -6 -5 -3 -2 -1 0 1 2 3 4 5 6 7 8 9\n",
    "if we not give start value by default stars from 0\n",
    "if we not give stop value by default it give error beacuse it is compulsory\n",
    "if we not give step value by default it is 1\n",
    "range(1,5,1)\n",
    "range(-8,0)\n",
    "range(-1,-7,-1)\n",
    "when step value is positive direction is from left to right\n",
    "when step value is negative direction is from right to left\n"
   ]
  },
  {
   "cell_type": "code",
   "execution_count": 19,
   "id": "10036c75",
   "metadata": {},
   "outputs": [
    {
     "name": "stdout",
     "output_type": "stream",
     "text": [
      "30\n",
      "29\n",
      "28\n",
      "27\n",
      "26\n",
      "25\n",
      "24\n",
      "23\n",
      "22\n",
      "21\n"
     ]
    }
   ],
   "source": [
    "for i in range(30,20,-1):\n",
    "    print(i)"
   ]
  },
  {
   "cell_type": "code",
   "execution_count": 20,
   "id": "ac1261ce",
   "metadata": {},
   "outputs": [
    {
     "name": "stdout",
     "output_type": "stream",
     "text": [
      "2\n",
      "4\n",
      "6\n",
      "8\n",
      "10\n",
      "12\n",
      "14\n",
      "16\n",
      "18\n",
      "20\n",
      "22\n",
      "24\n",
      "26\n",
      "28\n",
      "30\n"
     ]
    }
   ],
   "source": [
    "for i in range(2,31,2):\n",
    "    print(i)"
   ]
  },
  {
   "cell_type": "markdown",
   "id": "96d951be",
   "metadata": {},
   "source": [
    "# while loop"
   ]
  },
  {
   "cell_type": "code",
   "execution_count": 23,
   "id": "e6b7ee68",
   "metadata": {},
   "outputs": [
    {
     "name": "stdout",
     "output_type": "stream",
     "text": [
      "1\n",
      "2\n",
      "3\n",
      "4\n",
      "5\n",
      "6\n",
      "7\n",
      "8\n",
      "9\n"
     ]
    }
   ],
   "source": [
    "n=1\n",
    "while n<10:\n",
    "    print(n)\n",
    "#     n=n+1\n",
    "    n+=1"
   ]
  },
  {
   "cell_type": "markdown",
   "id": "5db2db80",
   "metadata": {},
   "source": [
    "# string"
   ]
  },
  {
   "cell_type": "code",
   "execution_count": null,
   "id": "534401e2",
   "metadata": {},
   "outputs": [],
   "source": [
    "#string\n",
    "# string is represented in ' '  \" \"  \"\"\"  \"\"\"  '''  '''\n",
    "# string is immutable(changes not allowed)\n",
    "# string is oredered datatype\n",
    "# string has many functions and methods to work with"
   ]
  },
  {
   "cell_type": "code",
   "execution_count": 27,
   "id": "35e8ec39",
   "metadata": {},
   "outputs": [
    {
     "name": "stdout",
     "output_type": "stream",
     "text": [
      "hello\n",
      "wolrd\n",
      "ergergerrgege\n",
      "hrthrthrt\n",
      "hrthrthhrt\n",
      "h\n",
      "rthrth\n"
     ]
    }
   ],
   "source": [
    "a=\"hello\"\n",
    "print(a)\n",
    "b='wolrd'\n",
    "print(b)\n",
    "c=\"\"\"ergergerrgege\n",
    "hrthrthrt\n",
    "hrthrthhrt\n",
    "h\n",
    "rthrth\"\"\"\n",
    "print(c)"
   ]
  },
  {
   "cell_type": "code",
   "execution_count": 32,
   "id": "43e7efd2",
   "metadata": {},
   "outputs": [
    {
     "name": "stdout",
     "output_type": "stream",
     "text": [
      "r\n",
      "Great Warrior\n"
     ]
    }
   ],
   "source": [
    "a=\"Great Warrior\"\n",
    "print(a[1])\n",
    "# a[2]=\"p\"\n",
    "print(a)\n"
   ]
  },
  {
   "cell_type": "markdown",
   "id": "8e31341d",
   "metadata": {},
   "source": [
    "# string slicing"
   ]
  },
  {
   "cell_type": "code",
   "execution_count": 41,
   "id": "872562e5",
   "metadata": {},
   "outputs": [
    {
     "name": "stdout",
     "output_type": "stream",
     "text": [
      "w\n",
      "h\n",
      "a\n",
      "t\n",
      "what\n",
      "yad\n",
      "day\n",
      "sah ti yad lufrednow a tahw wow\n"
     ]
    }
   ],
   "source": [
    "a=\"wow what a wonderful day it has\"\n",
    "print(a[4])\n",
    "print(a[5])\n",
    "print(a[6])\n",
    "print(a[7])\n",
    "print(a[4:8])\n",
    "# positive indexing --  0 start of string\n",
    "# negative indexing -- -1  end of string\n",
    "print(a[-8:-11:-1])\n",
    "print(a[-10:-7])\n",
    "print(a[::-1])"
   ]
  },
  {
   "cell_type": "markdown",
   "id": "c6d23991",
   "metadata": {},
   "source": [
    "# string methods and function"
   ]
  },
  {
   "cell_type": "code",
   "execution_count": 1,
   "id": "abc7126c",
   "metadata": {},
   "outputs": [
    {
     "data": {
      "text/plain": [
       "['__add__',\n",
       " '__class__',\n",
       " '__contains__',\n",
       " '__delattr__',\n",
       " '__dir__',\n",
       " '__doc__',\n",
       " '__eq__',\n",
       " '__format__',\n",
       " '__ge__',\n",
       " '__getattribute__',\n",
       " '__getitem__',\n",
       " '__getnewargs__',\n",
       " '__gt__',\n",
       " '__hash__',\n",
       " '__init__',\n",
       " '__init_subclass__',\n",
       " '__iter__',\n",
       " '__le__',\n",
       " '__len__',\n",
       " '__lt__',\n",
       " '__mod__',\n",
       " '__mul__',\n",
       " '__ne__',\n",
       " '__new__',\n",
       " '__reduce__',\n",
       " '__reduce_ex__',\n",
       " '__repr__',\n",
       " '__rmod__',\n",
       " '__rmul__',\n",
       " '__setattr__',\n",
       " '__sizeof__',\n",
       " '__str__',\n",
       " '__subclasshook__',\n",
       " 'capitalize',\n",
       " 'casefold',\n",
       " 'center',\n",
       " 'count',\n",
       " 'encode',\n",
       " 'endswith',\n",
       " 'expandtabs',\n",
       " 'find',\n",
       " 'format',\n",
       " 'format_map',\n",
       " 'index',\n",
       " 'isalnum',\n",
       " 'isalpha',\n",
       " 'isascii',\n",
       " 'isdecimal',\n",
       " 'isdigit',\n",
       " 'isidentifier',\n",
       " 'islower',\n",
       " 'isnumeric',\n",
       " 'isprintable',\n",
       " 'isspace',\n",
       " 'istitle',\n",
       " 'isupper',\n",
       " 'join',\n",
       " 'ljust',\n",
       " 'lower',\n",
       " 'lstrip',\n",
       " 'maketrans',\n",
       " 'partition',\n",
       " 'removeprefix',\n",
       " 'removesuffix',\n",
       " 'replace',\n",
       " 'rfind',\n",
       " 'rindex',\n",
       " 'rjust',\n",
       " 'rpartition',\n",
       " 'rsplit',\n",
       " 'rstrip',\n",
       " 'split',\n",
       " 'splitlines',\n",
       " 'startswith',\n",
       " 'strip',\n",
       " 'swapcase',\n",
       " 'title',\n",
       " 'translate',\n",
       " 'upper',\n",
       " 'zfill']"
      ]
     },
     "execution_count": 1,
     "metadata": {},
     "output_type": "execute_result"
    }
   ],
   "source": [
    "dir(\"fef\")"
   ]
  },
  {
   "cell_type": "markdown",
   "id": "8b80bca6",
   "metadata": {},
   "source": [
    "# Capitaliza()"
   ]
  },
  {
   "cell_type": "code",
   "execution_count": 2,
   "id": "7b4800f6",
   "metadata": {},
   "outputs": [
    {
     "name": "stdout",
     "output_type": "stream",
     "text": [
      "Hello jkhfeujn jkvernjn jkzvbnjkrfn jkvgrjn\n"
     ]
    }
   ],
   "source": [
    "# Capitaliza method capitalize the first letter of the string and\n",
    "# lowercase the remaining letters\n",
    "str1=\"hello JKHFEujn jkvernjn JKZVbnjkrfn JKVgrjn\"\n",
    "print(str1.capitalize())"
   ]
  },
  {
   "cell_type": "markdown",
   "id": "1ee031a0",
   "metadata": {},
   "source": [
    "# title()"
   ]
  },
  {
   "cell_type": "code",
   "execution_count": 3,
   "id": "94f36d6e",
   "metadata": {},
   "outputs": [
    {
     "name": "stdout",
     "output_type": "stream",
     "text": [
      "Hello Jkhfeujn Jkvernjn Jkzvbnjkrfn Jkvgrjn\n"
     ]
    }
   ],
   "source": [
    "# title()---it will capitaize the first letter of every word and lowercase \n",
    "# the remaining lteer in words\n",
    "str1=\"hello JKHFEujn jkvernjn JKZVbnjkrfn JKVgrjn\"\n",
    "print(str1.title())"
   ]
  },
  {
   "cell_type": "markdown",
   "id": "eceeaf40",
   "metadata": {},
   "source": [
    "# casefold()"
   ]
  },
  {
   "cell_type": "code",
   "execution_count": 57,
   "id": "49984ac0",
   "metadata": {},
   "outputs": [
    {
     "name": "stdout",
     "output_type": "stream",
     "text": [
      "hello jkhfeujn jkverjergtjkghenjn  ss\n"
     ]
    }
   ],
   "source": [
    "# casefold---coverst whole string in lowercase\n",
    "str1=\"hello JKHFEujn jkverJERGTJKGHEnjn  ß\"\n",
    "print(str1.casefold())"
   ]
  },
  {
   "cell_type": "markdown",
   "id": "1ef80bd5",
   "metadata": {},
   "source": [
    "# Lower()"
   ]
  },
  {
   "cell_type": "code",
   "execution_count": 58,
   "id": "f57390e8",
   "metadata": {},
   "outputs": [
    {
     "name": "stdout",
     "output_type": "stream",
     "text": [
      "hello jkhfeujn jkverjergtjkgh ß\n"
     ]
    }
   ],
   "source": [
    "# lower---coverst whole string in lowercase\n",
    "str1=\"hello JKHFEujn jkverJERGTJKGH ß\"\n",
    "print(str1.lower())"
   ]
  },
  {
   "cell_type": "markdown",
   "id": "885b2254",
   "metadata": {},
   "source": [
    "# center()"
   ]
  },
  {
   "cell_type": "code",
   "execution_count": 10,
   "id": "44a25b1a",
   "metadata": {},
   "outputs": [
    {
     "name": "stdout",
     "output_type": "stream",
     "text": [
      "                      hello                       \n",
      "----------------------hello-----------------------\n"
     ]
    }
   ],
   "source": [
    "# center(width,[fillchar])\n",
    "str1=\"hello\"\n",
    "print(str1.center(50))\n",
    "print(str1.center(50,\"-\"))"
   ]
  },
  {
   "cell_type": "code",
   "execution_count": 28,
   "id": "847a927a",
   "metadata": {},
   "outputs": [
    {
     "name": "stdout",
     "output_type": "stream",
     "text": [
      "         *          \n",
      "        * *         \n",
      "       * * *        \n",
      "      * * * *       \n",
      "     * * * * *      \n",
      "    * * * * * *     \n",
      "   * * * * * * *    \n",
      "  * * * * * * * *   \n",
      " * * * * * * * * *  \n"
     ]
    }
   ],
   "source": [
    "for i in range(1,10):\n",
    "    str1=i*\"* \"\n",
    "    print(str1.center(20))"
   ]
  },
  {
   "cell_type": "markdown",
   "id": "a3f405a5",
   "metadata": {},
   "source": [
    "# count()"
   ]
  },
  {
   "cell_type": "code",
   "execution_count": 35,
   "id": "28b2c9cf",
   "metadata": {},
   "outputs": [
    {
     "name": "stdout",
     "output_type": "stream",
     "text": [
      "0\n",
      "4\n",
      "3\n",
      "1\n"
     ]
    }
   ],
   "source": [
    "# count(\"substring\",[start],[stop])\n",
    "str1=\"Hello kite is kflying in the ksky\"\n",
    "print(str1.count(\"Great\"))\n",
    "print(str1.count(\"k\"))\n",
    "print(str1.count(\"k\",10))\n",
    "print(str1.count(\"k\",10,20))"
   ]
  },
  {
   "cell_type": "markdown",
   "id": "5b20625b",
   "metadata": {},
   "source": [
    "# endwith()"
   ]
  },
  {
   "cell_type": "code",
   "execution_count": 41,
   "id": "e05e6858",
   "metadata": {},
   "outputs": [
    {
     "name": "stdout",
     "output_type": "stream",
     "text": [
      "True\n",
      "True\n",
      "False\n"
     ]
    }
   ],
   "source": [
    "# endswith(\"substring\",[start],[stop])\n",
    "str1=\"Hello kite is kflying in the ksky\"\n",
    "print(str1.endswith(\"sky\"))\n",
    "print(str1.endswith(\"sky\",5))\n",
    "print(str1.endswith(\"sky\",5,20))"
   ]
  },
  {
   "cell_type": "markdown",
   "id": "cd1ae822",
   "metadata": {},
   "source": [
    "# find()"
   ]
  },
  {
   "cell_type": "code",
   "execution_count": 47,
   "id": "a186043d",
   "metadata": {},
   "outputs": [
    {
     "name": "stdout",
     "output_type": "stream",
     "text": [
      "6\n",
      "39\n",
      "-1\n",
      "-1\n"
     ]
    }
   ],
   "source": [
    "# find(\"substring\",[start],[stop])\n",
    "str1=\"Hello sky kite is kflying kite in the ksky\"\n",
    "print(str1.find(\"sky\"))\n",
    "print(str1.find(\"sky\",16))\n",
    "print(str1.find(\"sky\",16,30))\n",
    "print(str1.find(\"Yellow\"))\n",
    "# if find method doesnt get substring then it gives -1"
   ]
  },
  {
   "cell_type": "markdown",
   "id": "209ed043",
   "metadata": {},
   "source": [
    "# index()"
   ]
  },
  {
   "cell_type": "code",
   "execution_count": 50,
   "id": "6fae8fb7",
   "metadata": {},
   "outputs": [
    {
     "name": "stdout",
     "output_type": "stream",
     "text": [
      "6\n",
      "39\n",
      "39\n"
     ]
    },
    {
     "ename": "ValueError",
     "evalue": "substring not found",
     "output_type": "error",
     "traceback": [
      "\u001b[1;31m---------------------------------------------------------------------------\u001b[0m",
      "\u001b[1;31mValueError\u001b[0m                                Traceback (most recent call last)",
      "Input \u001b[1;32mIn [50]\u001b[0m, in \u001b[0;36m<cell line: 6>\u001b[1;34m()\u001b[0m\n\u001b[0;32m      4\u001b[0m \u001b[38;5;28mprint\u001b[39m(str1\u001b[38;5;241m.\u001b[39mindex(\u001b[38;5;124m\"\u001b[39m\u001b[38;5;124msky\u001b[39m\u001b[38;5;124m\"\u001b[39m,\u001b[38;5;241m16\u001b[39m))\n\u001b[0;32m      5\u001b[0m \u001b[38;5;28mprint\u001b[39m(str1\u001b[38;5;241m.\u001b[39mindex(\u001b[38;5;124m\"\u001b[39m\u001b[38;5;124msky\u001b[39m\u001b[38;5;124m\"\u001b[39m,\u001b[38;5;241m16\u001b[39m,\u001b[38;5;241m45\u001b[39m))\n\u001b[1;32m----> 6\u001b[0m \u001b[38;5;28mprint\u001b[39m(\u001b[43mstr1\u001b[49m\u001b[38;5;241;43m.\u001b[39;49m\u001b[43mindex\u001b[49m\u001b[43m(\u001b[49m\u001b[38;5;124;43m\"\u001b[39;49m\u001b[38;5;124;43mYellow\u001b[39;49m\u001b[38;5;124;43m\"\u001b[39;49m\u001b[43m)\u001b[49m)\n",
      "\u001b[1;31mValueError\u001b[0m: substring not found"
     ]
    }
   ],
   "source": [
    "# index(\"substring\",[start],[stop])\n",
    "str1=\"Hello sky kite is kflying kite in the ksky\"\n",
    "print(str1.index(\"sky\"))\n",
    "print(str1.index(\"sky\",16))\n",
    "print(str1.index(\"sky\",16,45))\n",
    "print(str1.index(\"Yellow\"))"
   ]
  },
  {
   "cell_type": "markdown",
   "id": "20c9e1a4",
   "metadata": {},
   "source": [
    "# ljust()"
   ]
  },
  {
   "cell_type": "code",
   "execution_count": 3,
   "id": "a0af89bb",
   "metadata": {},
   "outputs": [
    {
     "name": "stdout",
     "output_type": "stream",
     "text": [
      "Hello                                             \n",
      "Hello,,,,,,,,,,,,,,,,,,,,,,,,,,,,,,,,,,,,,,,,,,,,,\n"
     ]
    }
   ],
   "source": [
    "# it justify conetnt in left with given width\n",
    "str1=\"Hello\"\n",
    "print(str1.ljust(50))\n",
    "print(str1.ljust(50,\",\"))"
   ]
  },
  {
   "cell_type": "markdown",
   "id": "d79a1576",
   "metadata": {},
   "source": [
    "# rjust()"
   ]
  },
  {
   "cell_type": "code",
   "execution_count": 61,
   "id": "7ff12d49",
   "metadata": {},
   "outputs": [
    {
     "name": "stdout",
     "output_type": "stream",
     "text": [
      "                                             Hello\n",
      "---------------------------------------------Hello\n"
     ]
    }
   ],
   "source": [
    "# it justify conetnt in right with given width\n",
    "str1=\"Hello\"\n",
    "print(str1.rjust(50))\n",
    "print(str1.rjust(50,\"-\"))"
   ]
  },
  {
   "cell_type": "markdown",
   "id": "79a08191",
   "metadata": {},
   "source": [
    "# center()"
   ]
  },
  {
   "cell_type": "code",
   "execution_count": 6,
   "id": "055ddde1",
   "metadata": {},
   "outputs": [
    {
     "name": "stdout",
     "output_type": "stream",
     "text": [
      ",,,,,,,,,,,,,,,,,,,,,,,,,,,,,,,,,,,,,,,,,,,,,,,,,,,,,,,,,,,,,,,,,,,,,,,,,,,fdughjk rjhbrtkn jkrtbhgrtkj gjkbhrtjb jgfn brtjkbfdn jkr  ,,,,,,,,,,,,,,,,,,,,,,,,,,,,,,,,,,,,,,,,,,,,,,,,,,,,,,,,,,,,,,,,,,,,,,,,,,,,\n"
     ]
    }
   ],
   "source": [
    "str1=\"fdughjk rjhbrtkn jkrtbhgrtkj gjkbhrtjb jgfn brtjkbfdn jkr  \"\n",
    "print(str1.center(210,\",\"))"
   ]
  },
  {
   "cell_type": "markdown",
   "id": "4ad922df",
   "metadata": {},
   "source": [
    "# parrtition()"
   ]
  },
  {
   "cell_type": "code",
   "execution_count": 1,
   "id": "1f676832",
   "metadata": {},
   "outputs": [
    {
     "name": "stdout",
     "output_type": "stream",
     "text": [
      "('Hello sky ', 'kite', ' is kflying kite in the ksky')\n",
      "('Hello sky kite is kflying kite in the ksky', '', '')\n"
     ]
    }
   ],
   "source": [
    "# parrtition(separator)\n",
    "# partition returns tuple of string having three 3 strings exact\n",
    "str1=\"Hello sky kite is kflying kite in the ksky\"\n",
    "print(str1.partition(\"kite\"))\n",
    "print(str1.partition(\"Mango\"))"
   ]
  },
  {
   "cell_type": "markdown",
   "id": "cfe8311d",
   "metadata": {},
   "source": [
    "# split"
   ]
  },
  {
   "cell_type": "code",
   "execution_count": 72,
   "id": "4c216f90",
   "metadata": {},
   "outputs": [
    {
     "name": "stdout",
     "output_type": "stream",
     "text": [
      "['Hello', 'sky', 'kite', 'is', 'kflying', 'kite', 'in', 'the', 'ksky']\n",
      "['Hello sky ', ' is kflying ', ' in the ksky']\n",
      "['Hello sky kite is kflying kite in the ksky']\n"
     ]
    }
   ],
   "source": [
    "# split return list of strings with splitted items of n numbers\n",
    "str1=\"Hello sky kite is kflying kite in the ksky\"\n",
    "print(str1.split(\" \"))\n",
    "print(str1.split(\"kite\"))\n",
    "print(str1.split(\"Mango\"))"
   ]
  },
  {
   "cell_type": "code",
   "execution_count": 74,
   "id": "fcc8cc77",
   "metadata": {},
   "outputs": [],
   "source": [
    "a=80\n",
    "b=65\n",
    "# a=80,b=65\n",
    "a,b=80,65"
   ]
  },
  {
   "cell_type": "code",
   "execution_count": 16,
   "id": "80ba7611",
   "metadata": {},
   "outputs": [
    {
     "name": "stdout",
     "output_type": "stream",
     "text": [
      "Enter Number12\n",
      "     *      \n",
      "    * *     \n",
      "   * * *    \n",
      "  * * * *   \n",
      " * * * * *  \n",
      "* * * * * * \n",
      " * * * * *  \n",
      "  * * * *   \n",
      "   * * *    \n",
      "    * *     \n",
      "     *      \n",
      "            \n"
     ]
    }
   ],
   "source": [
    "num=int(input(\"Enter Number\"))\n",
    "for i in range(1,num+1): #1 2 3 4 5 10-6 10-7 10-8 10-9 10-10\n",
    "    if i<=(num/2):\n",
    "        str1=\"* \"*i\n",
    "        print(str1.center(num))\n",
    "    else:\n",
    "        str1=\"* \"*(num-i)\n",
    "        print(str1.center(num))"
   ]
  },
  {
   "cell_type": "code",
   "execution_count": 4,
   "id": "93fa813e",
   "metadata": {},
   "outputs": [
    {
     "name": "stdout",
     "output_type": "stream",
     "text": [
      "efhbje25 hbvrjhv6896\n"
     ]
    }
   ],
   "source": [
    "\n",
    "a=25\n",
    "b=68\n",
    "str1=\"efhbje{} hbvrjhv{}{}\".format(a,b,8)\n",
    "# print(f\"Your string is {str1}\") #formatted string\n",
    "print(str1)"
   ]
  },
  {
   "cell_type": "code",
   "execution_count": 69,
   "id": "07f847b8",
   "metadata": {},
   "outputs": [
    {
     "name": "stdout",
     "output_type": "stream",
     "text": [
      "dkvcfhe98 erfjhvberfvbe45 jehfvb23\n"
     ]
    }
   ],
   "source": [
    "m={'x':98,'y':45,'z':23}\n",
    "str1=\"dkvcfhe{x} erfjhvberfvbe{y} jehfvb{z}\".format_map(m)\n",
    "print(str1)"
   ]
  },
  {
   "cell_type": "markdown",
   "id": "a11c4f75",
   "metadata": {},
   "source": [
    "# isalnum()"
   ]
  },
  {
   "cell_type": "code",
   "execution_count": 7,
   "id": "9457b992",
   "metadata": {},
   "outputs": [
    {
     "name": "stdout",
     "output_type": "stream",
     "text": [
      "False\n"
     ]
    }
   ],
   "source": [
    "str1=\"rfklgergnrhrt4564648ertge\"\n",
    "print(str1.isalnum())"
   ]
  },
  {
   "cell_type": "markdown",
   "id": "9c3a8351",
   "metadata": {},
   "source": [
    "# isalpha()"
   ]
  },
  {
   "cell_type": "code",
   "execution_count": 11,
   "id": "e76b8eef",
   "metadata": {},
   "outputs": [
    {
     "name": "stdout",
     "output_type": "stream",
     "text": [
      "False\n"
     ]
    }
   ],
   "source": [
    "str1=\"kushfkehvbe\"\n",
    "print(str1.isalpha())"
   ]
  },
  {
   "cell_type": "markdown",
   "id": "8fc7f933",
   "metadata": {},
   "source": [
    "# isidentifier()"
   ]
  },
  {
   "cell_type": "code",
   "execution_count": 19,
   "id": "ed159278",
   "metadata": {},
   "outputs": [
    {
     "name": "stdout",
     "output_type": "stream",
     "text": [
      "False\n"
     ]
    }
   ],
   "source": [
    "str1=\"rjfjf yh5\"\n",
    "print(str1.isidentifier())"
   ]
  },
  {
   "cell_type": "markdown",
   "id": "743ddacb",
   "metadata": {},
   "source": [
    "# isdecimal()\n",
    "\n",
    "# isdigit()\n",
    "\n",
    "# isnumeric()"
   ]
  },
  {
   "cell_type": "code",
   "execution_count": 2,
   "id": "229fc602",
   "metadata": {},
   "outputs": [
    {
     "name": "stdout",
     "output_type": "stream",
     "text": [
      "False\n",
      "False\n",
      "False\n"
     ]
    }
   ],
   "source": [
    "str1=\"897+89\"\n",
    "print(str1.isdecimal())\n",
    "print(str1.isdigit())\n",
    "print(str1.isnumeric())"
   ]
  },
  {
   "cell_type": "markdown",
   "id": "286d0a6d",
   "metadata": {},
   "source": [
    "# isascii()"
   ]
  },
  {
   "cell_type": "code",
   "execution_count": 30,
   "id": "8a4b4ff9",
   "metadata": {},
   "outputs": [
    {
     "name": "stdout",
     "output_type": "stream",
     "text": [
      "False\n"
     ]
    }
   ],
   "source": [
    "str1=\"rthrth₹hrhr\"\n",
    "print(str1.isascii())"
   ]
  },
  {
   "cell_type": "markdown",
   "id": "7a08a59c",
   "metadata": {},
   "source": [
    "# islower()"
   ]
  },
  {
   "cell_type": "code",
   "execution_count": 33,
   "id": "60c770e9",
   "metadata": {},
   "outputs": [
    {
     "name": "stdout",
     "output_type": "stream",
     "text": [
      "False\n"
     ]
    }
   ],
   "source": [
    "str1=\"rfwgGERGR$%^&4fwrgfw ever\"\n",
    "print(str1.islower())"
   ]
  },
  {
   "cell_type": "markdown",
   "id": "6181da77",
   "metadata": {},
   "source": [
    "# isprintable()"
   ]
  },
  {
   "cell_type": "code",
   "execution_count": 41,
   "id": "776503d2",
   "metadata": {},
   "outputs": [
    {
     "name": "stdout",
     "output_type": "stream",
     "text": [
      "True\n",
      "gerg $yrthyt   #^#^tjerlit\n"
     ]
    }
   ],
   "source": [
    "str1=\"gerg $yrthyt   #^#^tjerlit\"\n",
    "print(str1.isprintable())\n",
    "print(str1)"
   ]
  },
  {
   "cell_type": "markdown",
   "id": "3fc7183c",
   "metadata": {},
   "source": [
    "# isspace()"
   ]
  },
  {
   "cell_type": "code",
   "execution_count": 8,
   "id": "86bd96e4",
   "metadata": {},
   "outputs": [
    {
     "name": "stdout",
     "output_type": "stream",
     "text": [
      "True\n"
     ]
    }
   ],
   "source": [
    "str1=\"         \"\n",
    "print(str1.isspace())"
   ]
  },
  {
   "cell_type": "markdown",
   "id": "3a81ed94",
   "metadata": {},
   "source": [
    "# istitle()"
   ]
  },
  {
   "cell_type": "code",
   "execution_count": 10,
   "id": "0b839c20",
   "metadata": {},
   "outputs": [
    {
     "name": "stdout",
     "output_type": "stream",
     "text": [
      "True\n"
     ]
    }
   ],
   "source": [
    "str1=\"Erg Eetgert Qgfdgrtbrt\"\n",
    "print(str1.istitle())"
   ]
  },
  {
   "cell_type": "markdown",
   "id": "1cf72542",
   "metadata": {},
   "source": [
    "# join()"
   ]
  },
  {
   "cell_type": "code",
   "execution_count": 13,
   "id": "ccf051af",
   "metadata": {},
   "outputs": [
    {
     "name": "stdout",
     "output_type": "stream",
     "text": [
      "e*k*r*g*j\n"
     ]
    }
   ],
   "source": [
    "#string.join(iterable)\n",
    "str1=\"ekrgj\"\n",
    "#print(str1.join(\"*\"))\n",
    "print(\"*\".join(str1))\n",
    "\n",
    "#[1,2,3,4,5]"
   ]
  },
  {
   "cell_type": "code",
   "execution_count": 55,
   "id": "fd9a3590",
   "metadata": {},
   "outputs": [
    {
     "name": "stdout",
     "output_type": "stream",
     "text": [
      "h--e--l--l--o\n",
      "ergter--rtergt--eryterty\n"
     ]
    }
   ],
   "source": [
    "list1=[\"ergter\",\"rtergt\",\"eryterty\"]\n",
    "str2=\"hello\"\n",
    "print(\"--\".join(str2))\n",
    "print(\"--\".join(list1))"
   ]
  },
  {
   "cell_type": "markdown",
   "id": "fea9bb60",
   "metadata": {},
   "source": [
    "# lstrip()"
   ]
  },
  {
   "cell_type": "code",
   "execution_count": 58,
   "id": "1527269b",
   "metadata": {},
   "outputs": [
    {
     "name": "stdout",
     "output_type": "stream",
     "text": [
      "ergerg      \n",
      "     ergerg\n",
      "ergerg\n"
     ]
    }
   ],
   "source": [
    "str1=\"     ergerg      \"\n",
    "print(str1.lstrip())\n",
    "print(str1.rstrip())\n",
    "print(str1.strip())"
   ]
  },
  {
   "cell_type": "markdown",
   "id": "1ff57046",
   "metadata": {},
   "source": [
    "# splitlines()"
   ]
  },
  {
   "cell_type": "code",
   "execution_count": 61,
   "id": "852e7bd9",
   "metadata": {},
   "outputs": [
    {
     "name": "stdout",
     "output_type": "stream",
     "text": [
      "['ergerg   hgberthrte grbrthrt', 'wrtfwertr ', 'wetwt']\n",
      "['ertyrrtyrtyrtyrtyrty', 'rty  grthrthtr thrth', 'rtyrt vthrthg rhrtjy', 'yrt rthrtb rhytkiiylyjhrt']\n"
     ]
    }
   ],
   "source": [
    "str1=\"ergerg   hgberthrte grbrthrt\\nwrtfwertr \\nwetwt\"\n",
    "str2=\"\"\"ertyrrtyrtyrtyrtyrty\n",
    "rty  grthrthtr thrth\n",
    "rtyrt vthrthg rhrtjy\n",
    "yrt rthrtb rhytkiiylyjhrt\n",
    "\"\"\"\n",
    "print(str1.splitlines())\n",
    "print(str2.splitlines())"
   ]
  },
  {
   "cell_type": "markdown",
   "id": "c94cfe6b",
   "metadata": {},
   "source": [
    "# swapcase()"
   ]
  },
  {
   "cell_type": "code",
   "execution_count": 14,
   "id": "40d64884",
   "metadata": {},
   "outputs": [
    {
     "name": "stdout",
     "output_type": "stream",
     "text": [
      "EGVwER\n"
     ]
    }
   ],
   "source": [
    "str1=\"egvWer\"\n",
    "print(str1.swapcase())\n",
    "#print(str1.)"
   ]
  },
  {
   "cell_type": "markdown",
   "id": "c9233247",
   "metadata": {},
   "source": [
    "# Zfill()"
   ]
  },
  {
   "cell_type": "code",
   "execution_count": 15,
   "id": "d3f5bf1a",
   "metadata": {},
   "outputs": [
    {
     "name": "stdout",
     "output_type": "stream",
     "text": [
      "0000589.5986\n"
     ]
    }
   ],
   "source": [
    "str1=\"589.5986\"\n",
    "print(str1.zfill(12))"
   ]
  },
  {
   "cell_type": "markdown",
   "id": "8ec56389",
   "metadata": {},
   "source": [
    "# translate()"
   ]
  },
  {
   "cell_type": "code",
   "execution_count": 70,
   "id": "ae7502cf",
   "metadata": {},
   "outputs": [
    {
     "name": "stdout",
     "output_type": "stream",
     "text": [
      "YfC Ypple fanana\n"
     ]
    }
   ],
   "source": [
    "str1=\"ABC Apple Banana\"\n",
    "x={65:89,66:102}  \n",
    "print(str1.translate(x))"
   ]
  },
  {
   "cell_type": "code",
   "execution_count": null,
   "id": "8d0ec9c6",
   "metadata": {},
   "outputs": [],
   "source": [
    "hello world\n",
    "ehllo owrld"
   ]
  },
  {
   "cell_type": "code",
   "execution_count": 43,
   "id": "0b661264",
   "metadata": {},
   "outputs": [
    {
     "name": "stdout",
     "output_type": "stream",
     "text": [
      "Enter Number10\n",
      "    *     \n",
      "   * *    \n",
      "  * * *   \n",
      " * * * *  \n",
      "* * * * * \n",
      " * * * *  \n",
      "  * * *   \n",
      "   * *    \n",
      "    *     \n",
      "          \n"
     ]
    }
   ],
   "source": [
    "num=int(input(\"Enter Number\"))\n",
    "for i in range(1,num+1): #1 2 3 4 5 10-6 10-7 10-8 10-9 10-10\n",
    "    if i<=(num/2):\n",
    "        str1=\"* \"*i\n",
    "        print(str1.center(num))\n",
    "    else:\n",
    "        str1=\"* \"*(num-i)\n",
    "        print(str1.center(num))\n"
   ]
  },
  {
   "cell_type": "markdown",
   "id": "bf454986",
   "metadata": {},
   "source": [
    "# list[]"
   ]
  },
  {
   "cell_type": "code",
   "execution_count": null,
   "id": "34654686",
   "metadata": {},
   "outputs": [],
   "source": [
    "# List \n",
    "# List is a collection of elements of similar as well as different datatype\n",
    "# list is mutable(Changes allowed)\n",
    "# list id ordered every item in list is at proper index\n",
    "# list is defined in square brackets []\n",
    "# syntax:\n",
    "# listname = [value1,value2,value3.....valuen ]"
   ]
  },
  {
   "cell_type": "code",
   "execution_count": 3,
   "id": "b3b3c247",
   "metadata": {},
   "outputs": [
    {
     "name": "stdout",
     "output_type": "stream",
     "text": [
      "[48, 56, 98]\n",
      "['Hello Wolrd', True, [48, 56, 98], (24, 54), {69, 14}]\n",
      "[15, 69.23, 'Demo Version', True, [48, 56, 98], (24, 54), {69, 14}, {25: 'hello', 89: True}]\n"
     ]
    }
   ],
   "source": [
    "list1=[15,69.23,\"Hello Wolrd\",True,[48,56,98],(24,54),{14,69},{25:\"hello\",89:True}]\n",
    "# print(list1)\n",
    "\n",
    "print(list1[4])\n",
    "print(list1[2:7])\n",
    "list1[2]=\"Demo Version\"\n",
    "print(list1)"
   ]
  },
  {
   "cell_type": "code",
   "execution_count": null,
   "id": "b7ecb025",
   "metadata": {},
   "outputs": [],
   "source": [
    "# itearbles\n",
    "\n",
    "range()\n",
    "string\n",
    "list\n",
    "tuple\n",
    "set\n",
    "dictionary"
   ]
  },
  {
   "cell_type": "code",
   "execution_count": 47,
   "id": "f1ba6804",
   "metadata": {},
   "outputs": [
    {
     "name": "stdout",
     "output_type": "stream",
     "text": [
      "[1, 2, 1, 31, 61, 91, 8, 9]\n"
     ]
    }
   ],
   "source": [
    "list1=[1,2,3,4,5,6,7,8,9]\n",
    "list1[2:7]=range(1,100,30)\n",
    "print(list1)"
   ]
  },
  {
   "cell_type": "code",
   "execution_count": 11,
   "id": "8fec111d",
   "metadata": {},
   "outputs": [
    {
     "name": "stdout",
     "output_type": "stream",
     "text": [
      "[1, 2, 1058, 1061, 1064, 1067, 1070, 1073, 8, 9]\n"
     ]
    }
   ],
   "source": [
    "list1=[1,2,3,4,5,6,7,8,9]\n",
    "list1[2:7]=range(1058,1074,3)\n",
    "print(list1)"
   ]
  },
  {
   "cell_type": "code",
   "execution_count": 13,
   "id": "a9c08fbe",
   "metadata": {},
   "outputs": [
    {
     "name": "stdout",
     "output_type": "stream",
     "text": [
      "[7, 6, 5, 4, 3]\n"
     ]
    }
   ],
   "source": [
    "# negative indexing\n",
    "list1=[1,2,3,4,5,6,7,8,9]\n",
    "print(list1[-3:-8:-1])"
   ]
  },
  {
   "cell_type": "markdown",
   "id": "66ad568d",
   "metadata": {},
   "source": [
    "# list functions"
   ]
  },
  {
   "cell_type": "code",
   "execution_count": null,
   "id": "2a84fb23",
   "metadata": {},
   "outputs": [],
   "source": [
    "# list functions\n",
    "len()\n",
    "min()\n",
    "max()\n",
    "list()"
   ]
  },
  {
   "cell_type": "markdown",
   "id": "992911fd",
   "metadata": {},
   "source": [
    "# len()"
   ]
  },
  {
   "cell_type": "code",
   "execution_count": 15,
   "id": "26921ab4",
   "metadata": {},
   "outputs": [
    {
     "name": "stdout",
     "output_type": "stream",
     "text": [
      "8\n",
      "[1, 4, 5, 8, [8, 9, 85, 4], 14, 56, 978]\n"
     ]
    }
   ],
   "source": [
    "# len()---counting starts from 1 not 0\n",
    "list1=[1,4,5,8,[8,9,5,4],14,56,978]\n",
    "print(len(list1))\n",
    "list1[4][2]=85\n",
    "print(list1)"
   ]
  },
  {
   "cell_type": "markdown",
   "id": "525db407",
   "metadata": {},
   "source": [
    "# min()\n",
    "# max()"
   ]
  },
  {
   "cell_type": "code",
   "execution_count": 17,
   "id": "5fb3267f",
   "metadata": {},
   "outputs": [
    {
     "name": "stdout",
     "output_type": "stream",
     "text": [
      "14\n",
      "89\n"
     ]
    }
   ],
   "source": [
    "# min()---gives minimun elemnt\n",
    "# max()--gives maximum element\n",
    "list1=[47,89,65,47,52,14,58,63,21,23]\n",
    "print(min(list1))\n",
    "print(max(list1))"
   ]
  },
  {
   "cell_type": "code",
   "execution_count": 18,
   "id": "bf6ed4b4",
   "metadata": {},
   "outputs": [
    {
     "name": "stdout",
     "output_type": "stream",
     "text": [
      "TEyv vbe\n",
      "row hIUOHWEH\n"
     ]
    }
   ],
   "source": [
    "list1=[\"jwrfh\",\"eiuweqiu efhver\",\"TEyv vbe\",\"row hIUOHWEH\"]\n",
    "print(min(list1))\n",
    "print(max(list1))"
   ]
  },
  {
   "cell_type": "code",
   "execution_count": 19,
   "id": "53f3eaa8",
   "metadata": {},
   "outputs": [
    {
     "ename": "TypeError",
     "evalue": "'<' not supported between instances of 'int' and 'str'",
     "output_type": "error",
     "traceback": [
      "\u001b[1;31m---------------------------------------------------------------------------\u001b[0m",
      "\u001b[1;31mTypeError\u001b[0m                                 Traceback (most recent call last)",
      "Input \u001b[1;32mIn [19]\u001b[0m, in \u001b[0;36m<cell line: 2>\u001b[1;34m()\u001b[0m\n\u001b[0;32m      1\u001b[0m list1\u001b[38;5;241m=\u001b[39m[\u001b[38;5;124m\"\u001b[39m\u001b[38;5;124mthgt\u001b[39m\u001b[38;5;124m\"\u001b[39m,\u001b[38;5;241m89\u001b[39m,\u001b[38;5;124m\"\u001b[39m\u001b[38;5;124mrg\u001b[39m\u001b[38;5;124m\"\u001b[39m,\u001b[38;5;241m48\u001b[39m]\n\u001b[1;32m----> 2\u001b[0m \u001b[38;5;28mprint\u001b[39m(\u001b[38;5;28;43mmin\u001b[39;49m\u001b[43m(\u001b[49m\u001b[43mlist1\u001b[49m\u001b[43m)\u001b[49m)\n",
      "\u001b[1;31mTypeError\u001b[0m: '<' not supported between instances of 'int' and 'str'"
     ]
    }
   ],
   "source": [
    "list1=[\"thgt\",89,\"rg\",48]\n",
    "print(min(list1))"
   ]
  },
  {
   "cell_type": "code",
   "execution_count": 24,
   "id": "74ddd153",
   "metadata": {},
   "outputs": [
    {
     "name": "stdout",
     "output_type": "stream",
     "text": [
      "['H', 'e', 'l', 'l', 'o']\n",
      "[101, 106, 111, 116]\n",
      "[58]\n"
     ]
    }
   ],
   "source": [
    "# list()\n",
    "list1=list(\"Hello\")\n",
    "print(list1)\n",
    "list1=list(range(101,118,5))\n",
    "print(list1)\n",
    "list1=list((58,))\n",
    "print(list1)"
   ]
  },
  {
   "cell_type": "markdown",
   "id": "95e3e7cd",
   "metadata": {},
   "source": [
    "# list methods"
   ]
  },
  {
   "cell_type": "code",
   "execution_count": null,
   "id": "764c72dd",
   "metadata": {},
   "outputs": [],
   "source": [
    "# list methods\n",
    "# adding elemnts\n",
    "append()\n",
    "extend()\n",
    "insert()\n",
    "\n",
    "# removing elements\n",
    "pop()\n",
    "remove()\n",
    "\n",
    "# finding elements\n",
    "index()\n",
    "count()\n",
    "\n",
    "# changing list\n",
    "copy()\n",
    "sort()\n",
    "reverse()\n",
    "clear()\n"
   ]
  },
  {
   "cell_type": "markdown",
   "id": "0da417cc",
   "metadata": {},
   "source": [
    "# append()"
   ]
  },
  {
   "cell_type": "code",
   "execution_count": 27,
   "id": "1fa8bfe4",
   "metadata": {},
   "outputs": [
    {
     "name": "stdout",
     "output_type": "stream",
     "text": [
      "[45, 87, 96, 54, 8, 26]\n",
      "[45, 87, 96, 54, 8, 26, 'Hello']\n",
      "[45, 87, 96, 54, 8, 26, 'Hello', [45, 89, 65]]\n"
     ]
    }
   ],
   "source": [
    "# append(element)---add element at the last of the list as a single element\n",
    "list1=[45,87,96,54,8]\n",
    "list1.append(26)\n",
    "print(list1)\n",
    "list1.append(\"Hello\")\n",
    "print(list1)\n",
    "list1.append([45,89,65])\n",
    "print(list1)"
   ]
  },
  {
   "cell_type": "markdown",
   "id": "d1045bfc",
   "metadata": {},
   "source": [
    "# extend()"
   ]
  },
  {
   "cell_type": "code",
   "execution_count": 32,
   "id": "e0b2504a",
   "metadata": {},
   "outputs": [
    {
     "name": "stdout",
     "output_type": "stream",
     "text": [
      "[48, 58, 96, 54, 12, 36, 45, 'j', 'e', 'r', 'g', 'f', ' ', 'j', 'k', 'h', 'v']\n",
      "[48, 58, 96, 54, 12, 36, 45, 'j', 'e', 'r', 'g', 'f', ' ', 'j', 'k', 'h', 'v', 48, 56, 64, 72, 80, 88]\n",
      "[48, 58, 96, 54, 12, 36, 45, 'j', 'e', 'r', 'g', 'f', ' ', 'j', 'k', 'h', 'v', 48, 56, 64, 72, 80, 88, 45, 89, 65]\n"
     ]
    }
   ],
   "source": [
    "# extend(iterable)---add element at the last of the list but as an individual \n",
    "# elements\n",
    "list1=[48,58,96,54,12,36,45]\n",
    "list1.extend(\"jergf jkhv\")\n",
    "print(list1)\n",
    "list1.extend(range(48,96,8))\n",
    "print(list1)\n",
    "list1.extend([45,89,65])\n",
    "print(list1)"
   ]
  },
  {
   "cell_type": "markdown",
   "id": "fa6f188a",
   "metadata": {},
   "source": [
    "# insert()"
   ]
  },
  {
   "cell_type": "code",
   "execution_count": 33,
   "id": "0b107be7",
   "metadata": {},
   "outputs": [
    {
     "name": "stdout",
     "output_type": "stream",
     "text": [
      "[45, 89, 65, 23, 'Hello', 65, 78]\n"
     ]
    }
   ],
   "source": [
    "# insert(index,element)--add elemnts at the desired index\n",
    "list1=[45,89,65,23,65,78]\n",
    "list1.insert(4,\"Hello\")\n",
    "print(list1)"
   ]
  },
  {
   "cell_type": "markdown",
   "id": "f8ac370a",
   "metadata": {},
   "source": [
    "# pop()"
   ]
  },
  {
   "cell_type": "code",
   "execution_count": 38,
   "id": "5e7a18fc",
   "metadata": {},
   "outputs": [
    {
     "name": "stdout",
     "output_type": "stream",
     "text": [
      "[7, 89, 56, 85, 47]\n",
      "[7, 89, 56, 47]\n"
     ]
    },
    {
     "ename": "IndexError",
     "evalue": "pop index out of range",
     "output_type": "error",
     "traceback": [
      "\u001b[1;31m---------------------------------------------------------------------------\u001b[0m",
      "\u001b[1;31mIndexError\u001b[0m                                Traceback (most recent call last)",
      "Input \u001b[1;32mIn [38]\u001b[0m, in \u001b[0;36m<cell line: 9>\u001b[1;34m()\u001b[0m\n\u001b[0;32m      7\u001b[0m list1\u001b[38;5;241m.\u001b[39mpop(\u001b[38;5;241m3\u001b[39m)\n\u001b[0;32m      8\u001b[0m \u001b[38;5;28mprint\u001b[39m(list1)\n\u001b[1;32m----> 9\u001b[0m \u001b[43mlist1\u001b[49m\u001b[38;5;241;43m.\u001b[39;49m\u001b[43mpop\u001b[49m\u001b[43m(\u001b[49m\u001b[38;5;241;43m48\u001b[39;49m\u001b[43m)\u001b[49m\n\u001b[0;32m     10\u001b[0m \u001b[38;5;28mprint\u001b[39m(list1)\n",
      "\u001b[1;31mIndexError\u001b[0m: pop index out of range"
     ]
    }
   ],
   "source": [
    "# pop([index])--by default when index is not given then it removes last element\n",
    "# when index is given it removes element at that index\n",
    "# it gives index error when index is not in list\n",
    "list1=[7,89,56,85,47,94]\n",
    "list1.pop()\n",
    "print(list1)\n",
    "list1.pop(3)\n",
    "print(list1)\n",
    "list1.pop(48)\n",
    "print(list1)\n"
   ]
  },
  {
   "cell_type": "markdown",
   "id": "f637658d",
   "metadata": {},
   "source": [
    "# remove()"
   ]
  },
  {
   "cell_type": "code",
   "execution_count": 40,
   "id": "d1e8ff7c",
   "metadata": {},
   "outputs": [
    {
     "name": "stdout",
     "output_type": "stream",
     "text": [
      "[48, 96, 54, 48, 78, 12, 36, 56]\n"
     ]
    },
    {
     "ename": "ValueError",
     "evalue": "list.remove(x): x not in list",
     "output_type": "error",
     "traceback": [
      "\u001b[1;31m---------------------------------------------------------------------------\u001b[0m",
      "\u001b[1;31mValueError\u001b[0m                                Traceback (most recent call last)",
      "Input \u001b[1;32mIn [40]\u001b[0m, in \u001b[0;36m<cell line: 5>\u001b[1;34m()\u001b[0m\n\u001b[0;32m      3\u001b[0m list1\u001b[38;5;241m.\u001b[39mremove(\u001b[38;5;241m78\u001b[39m)\n\u001b[0;32m      4\u001b[0m \u001b[38;5;28mprint\u001b[39m(list1)\n\u001b[1;32m----> 5\u001b[0m \u001b[43mlist1\u001b[49m\u001b[38;5;241;43m.\u001b[39;49m\u001b[43mremove\u001b[49m\u001b[43m(\u001b[49m\u001b[38;5;241;43m943\u001b[39;49m\u001b[43m)\u001b[49m\n\u001b[0;32m      6\u001b[0m \u001b[38;5;28mprint\u001b[39m(list1)\n",
      "\u001b[1;31mValueError\u001b[0m: list.remove(x): x not in list"
     ]
    }
   ],
   "source": [
    "# remove(element)--remove first occurence of element but when element \n",
    "# is not in list then it gives value error\n",
    "list1=[48,78,96,54,48,78,12,36,56]\n",
    "list1.remove(78)\n",
    "print(list1)\n",
    "list1.remove(943)\n",
    "print(list1)"
   ]
  },
  {
   "cell_type": "markdown",
   "id": "2b063baa",
   "metadata": {},
   "source": [
    "# index()"
   ]
  },
  {
   "cell_type": "code",
   "execution_count": 52,
   "id": "baad2f52",
   "metadata": {},
   "outputs": [
    {
     "ename": "ValueError",
     "evalue": "96 is not in list",
     "output_type": "error",
     "traceback": [
      "\u001b[1;31m---------------------------------------------------------------------------\u001b[0m",
      "\u001b[1;31mValueError\u001b[0m                                Traceback (most recent call last)",
      "\u001b[1;32m~\\AppData\\Local\\Temp\\ipykernel_20408\\1209813261.py\u001b[0m in \u001b[0;36m<module>\u001b[1;34m\u001b[0m\n\u001b[0;32m      1\u001b[0m \u001b[1;31m# index(element[,start,stop])--gives index of first occurence of element\u001b[0m\u001b[1;33m\u001b[0m\u001b[1;33m\u001b[0m\u001b[0m\n\u001b[0;32m      2\u001b[0m \u001b[0mlist1\u001b[0m\u001b[1;33m=\u001b[0m\u001b[1;33m[\u001b[0m\u001b[1;36m48\u001b[0m\u001b[1;33m,\u001b[0m\u001b[1;36m56\u001b[0m\u001b[1;33m,\u001b[0m\u001b[1;36m96\u001b[0m\u001b[1;33m,\u001b[0m\u001b[1;36m58\u001b[0m\u001b[1;33m,\u001b[0m\u001b[1;36m47\u001b[0m\u001b[1;33m,\u001b[0m\u001b[1;36m65\u001b[0m\u001b[1;33m,\u001b[0m\u001b[1;36m89\u001b[0m\u001b[1;33m,\u001b[0m\u001b[1;36m96\u001b[0m\u001b[1;33m,\u001b[0m\u001b[1;36m54\u001b[0m\u001b[1;33m,\u001b[0m\u001b[1;36m56\u001b[0m\u001b[1;33m,\u001b[0m\u001b[1;36m47\u001b[0m\u001b[1;33m]\u001b[0m\u001b[1;33m\u001b[0m\u001b[1;33m\u001b[0m\u001b[0m\n\u001b[1;32m----> 3\u001b[1;33m \u001b[0mprint\u001b[0m\u001b[1;33m(\u001b[0m\u001b[0mlist1\u001b[0m\u001b[1;33m.\u001b[0m\u001b[0mindex\u001b[0m\u001b[1;33m(\u001b[0m\u001b[1;36m96\u001b[0m\u001b[1;33m,\u001b[0m\u001b[1;36m4\u001b[0m\u001b[1;33m,\u001b[0m\u001b[1;36m6\u001b[0m\u001b[1;33m)\u001b[0m\u001b[1;33m)\u001b[0m\u001b[1;33m\u001b[0m\u001b[1;33m\u001b[0m\u001b[0m\n\u001b[0m\u001b[0;32m      4\u001b[0m \u001b[0mprint\u001b[0m\u001b[1;33m(\u001b[0m\u001b[0mlist1\u001b[0m\u001b[1;33m.\u001b[0m\u001b[0mindex\u001b[0m\u001b[1;33m(\u001b[0m\u001b[1;36m1056\u001b[0m\u001b[1;33m)\u001b[0m\u001b[1;33m)\u001b[0m\u001b[1;33m\u001b[0m\u001b[1;33m\u001b[0m\u001b[0m\n",
      "\u001b[1;31mValueError\u001b[0m: 96 is not in list"
     ]
    }
   ],
   "source": [
    "# index(element[,start,stop])--gives index of first occurence of element\n",
    "list1=[48,56,96,58,47,65,89,96,54,56,47]\n",
    "print(list1.index(96,4,6))\n",
    "print(list1.index(1056))"
   ]
  },
  {
   "cell_type": "markdown",
   "id": "81132245",
   "metadata": {},
   "source": [
    "# count()"
   ]
  },
  {
   "cell_type": "code",
   "execution_count": 49,
   "id": "c718e24b",
   "metadata": {},
   "outputs": [
    {
     "name": "stdout",
     "output_type": "stream",
     "text": [
      "2\n",
      "0\n"
     ]
    }
   ],
   "source": [
    "# count(element)--it counts the total occurence of element in the list \n",
    "# if element is not in list then it gives 0\n",
    "list1=[48,56,96,58,47,65,89,96,54,56,47]\n",
    "print(list1.count(96))\n",
    "print(list1.count(1052))"
   ]
  },
  {
   "cell_type": "markdown",
   "id": "aa26f548",
   "metadata": {},
   "source": [
    "# sort()"
   ]
  },
  {
   "cell_type": "code",
   "execution_count": 51,
   "id": "8d5f7d95",
   "metadata": {},
   "outputs": [
    {
     "name": "stdout",
     "output_type": "stream",
     "text": [
      "[89, 87, 65, 45, 45, 8]\n"
     ]
    }
   ],
   "source": [
    "# sortelement[,start,stop])---it will sort the list in ascending order by default\n",
    "# but if we give reverse=True Then It will sort in descending order\n",
    "list1=[45,89,65,87,45,8]\n",
    "# list1.sort()\n",
    "list1.sort(reverse=True)\n",
    "print(list1)"
   ]
  },
  {
   "cell_type": "markdown",
   "id": "ab596e15",
   "metadata": {},
   "source": [
    "# reverse()"
   ]
  },
  {
   "cell_type": "code",
   "execution_count": 52,
   "id": "bb16ecb4",
   "metadata": {},
   "outputs": [
    {
     "name": "stdout",
     "output_type": "stream",
     "text": [
      "[8, 45, 87, 65, 89, 45]\n"
     ]
    }
   ],
   "source": [
    "# reverse()---it will reverse the list\n",
    "list1=[45,89,65,87,45,8]\n",
    "list1.reverse()\n",
    "print(list1)"
   ]
  },
  {
   "cell_type": "markdown",
   "id": "cce5e35a",
   "metadata": {},
   "source": [
    "# copy()"
   ]
  },
  {
   "cell_type": "code",
   "execution_count": 54,
   "id": "ae129248",
   "metadata": {},
   "outputs": [
    {
     "name": "stdout",
     "output_type": "stream",
     "text": [
      "[1, 2, 3, 5, 6, 89]\n",
      "[1, 2, 3, 5, 6, 89]\n",
      "[1, 2, 3, 48, 6, 89]\n",
      "[1, 2, 3, 48, 6, 89]\n"
     ]
    }
   ],
   "source": [
    "# copy()--copy one list to another\n",
    "list1=[1,2,3,5,6,89]\n",
    "list2=list1\n",
    "print(list1)\n",
    "print(list2)\n",
    "list1[3]=48\n",
    "print(list1)\n",
    "print(list2)"
   ]
  },
  {
   "cell_type": "code",
   "execution_count": 55,
   "id": "b9f1b85f",
   "metadata": {},
   "outputs": [
    {
     "name": "stdout",
     "output_type": "stream",
     "text": [
      "[1, 2, 3, 5, 6, 89]\n",
      "[1, 2, 3, 5, 6, 89]\n",
      "[1, 2, 3, 48, 6, 89]\n",
      "[1, 2, 3, 5, 6, 89]\n"
     ]
    }
   ],
   "source": [
    "list1=[1,2,3,5,6,89]\n",
    "list2=list1.copy()\n",
    "print(list1)\n",
    "print(list2)\n",
    "list1[3]=48\n",
    "print(list1)\n",
    "print(list2)"
   ]
  },
  {
   "cell_type": "markdown",
   "id": "178ea6b2",
   "metadata": {},
   "source": [
    "# clear()"
   ]
  },
  {
   "cell_type": "code",
   "execution_count": 57,
   "id": "b1cc763a",
   "metadata": {},
   "outputs": [
    {
     "name": "stdout",
     "output_type": "stream",
     "text": [
      "[45, 69, 87, 45, 896]\n",
      "[]\n"
     ]
    }
   ],
   "source": [
    "# clear()--it will clear whole list\n",
    "list1=[45,69,87,45,896]\n",
    "print(list1)\n",
    "list1.clear()\n",
    "print(list1)"
   ]
  },
  {
   "cell_type": "code",
   "execution_count": null,
   "id": "8176de48",
   "metadata": {},
   "outputs": [],
   "source": [
    "# 0 1 1 2 3 5 8 13 21 34  ---fibonacci series"
   ]
  },
  {
   "cell_type": "code",
   "execution_count": 10,
   "id": "1ecac2aa",
   "metadata": {},
   "outputs": [
    {
     "name": "stdout",
     "output_type": "stream",
     "text": [
      "Enter Your Email: sugandgupta.tops@gmail.com\n",
      "16\n",
      "Valid email\n"
     ]
    }
   ],
   "source": [
    "# gmail validation\n",
    "email=input(\"Enter Your Email: \")\n",
    "email=email.lower()\n",
    "ind=email.index('@')\n",
    "print(ind)\n",
    "if(email.endswith(\".com\")):\n",
    "    if '@' in email:\n",
    "        if (email[:ind].isalnum() or ('.' in email[:ind])):\n",
    "            print(\"Valid email\")\n",
    "        else:\n",
    "            print(\"Invalid email check your characters\")\n",
    "    else:\n",
    "        print(\"@ not in email invalid email\")\n",
    "else:\n",
    "    print(\"Not end with .com invalid email\")"
   ]
  },
  {
   "cell_type": "markdown",
   "id": "a745a96e",
   "metadata": {},
   "source": [
    "# tuple()"
   ]
  },
  {
   "cell_type": "code",
   "execution_count": null,
   "id": "f195eadc",
   "metadata": {},
   "outputs": [],
   "source": [
    "# Tuple\n",
    "# tuple is in ()\n",
    "# tuple also allowed duplicates\n",
    "# tuple is immutable\n",
    "# tuple is ordered collection bcz it has index positioning\n"
   ]
  },
  {
   "cell_type": "code",
   "execution_count": 4,
   "id": "4dafa849",
   "metadata": {},
   "outputs": [
    {
     "name": "stdout",
     "output_type": "stream",
     "text": [
      "(1, 12.34, True, 'Hello', [1, 2, 3], {2, 3}, {2: 34, 3: 45})\n"
     ]
    }
   ],
   "source": [
    "tup1=(1,12.34,True,\"Hello\",[1,2,3],{2,3},{2:34,3:45})\n",
    "print(tup1)"
   ]
  },
  {
   "cell_type": "code",
   "execution_count": 22,
   "id": "6072a8af",
   "metadata": {},
   "outputs": [
    {
     "name": "stdout",
     "output_type": "stream",
     "text": [
      "(45, 89.36, True, 'Hello', [14, 25, 36], (25, 36), {58, 29}, {1: 'hello', 2: 'World'})\n"
     ]
    },
    {
     "ename": "TypeError",
     "evalue": "'tuple' object does not support item assignment",
     "output_type": "error",
     "traceback": [
      "\u001b[1;31m---------------------------------------------------------------------------\u001b[0m",
      "\u001b[1;31mTypeError\u001b[0m                                 Traceback (most recent call last)",
      "Input \u001b[1;32mIn [22]\u001b[0m, in \u001b[0;36m<cell line: 3>\u001b[1;34m()\u001b[0m\n\u001b[0;32m      1\u001b[0m tup1\u001b[38;5;241m=\u001b[39m(\u001b[38;5;241m45\u001b[39m,\u001b[38;5;241m89.36\u001b[39m,\u001b[38;5;28;01mTrue\u001b[39;00m,\u001b[38;5;124m\"\u001b[39m\u001b[38;5;124mHello\u001b[39m\u001b[38;5;124m\"\u001b[39m,[\u001b[38;5;241m14\u001b[39m,\u001b[38;5;241m25\u001b[39m,\u001b[38;5;241m36\u001b[39m],(\u001b[38;5;241m25\u001b[39m,\u001b[38;5;241m36\u001b[39m),{\u001b[38;5;241m29\u001b[39m,\u001b[38;5;241m58\u001b[39m},{\u001b[38;5;241m1\u001b[39m:\u001b[38;5;124m\"\u001b[39m\u001b[38;5;124mhello\u001b[39m\u001b[38;5;124m\"\u001b[39m,\u001b[38;5;241m2\u001b[39m:\u001b[38;5;124m\"\u001b[39m\u001b[38;5;124mWorld\u001b[39m\u001b[38;5;124m\"\u001b[39m})\n\u001b[0;32m      2\u001b[0m \u001b[38;5;28mprint\u001b[39m(tup1)\n\u001b[1;32m----> 3\u001b[0m tup1[\u001b[38;5;241m0\u001b[39m]\u001b[38;5;241m=\u001b[39m\u001b[38;5;124m\"\u001b[39m\u001b[38;5;124mwow\u001b[39m\u001b[38;5;124m\"\u001b[39m\n\u001b[0;32m      4\u001b[0m tup1[\u001b[38;5;241m4\u001b[39m][\u001b[38;5;241m0\u001b[39m]\u001b[38;5;241m=\u001b[39m\u001b[38;5;124m\"\u001b[39m\u001b[38;5;124mgreat\u001b[39m\u001b[38;5;124m\"\u001b[39m\n\u001b[0;32m      5\u001b[0m \u001b[38;5;28mprint\u001b[39m(tup1)\n",
      "\u001b[1;31mTypeError\u001b[0m: 'tuple' object does not support item assignment"
     ]
    }
   ],
   "source": [
    "tup1=(45,89.36,True,\"Hello\",[14,25,36],(25,36),{29,58},{1:\"hello\",2:\"World\"})\n",
    "print(tup1)\n",
    "tup1[0]=\"wow\"\n",
    "tup1[4][0]=\"great\"\n",
    "print(tup1)"
   ]
  },
  {
   "cell_type": "markdown",
   "id": "51f29810",
   "metadata": {},
   "source": [
    "# tuple functions"
   ]
  },
  {
   "cell_type": "code",
   "execution_count": null,
   "id": "9d6ba708",
   "metadata": {},
   "outputs": [],
   "source": [
    "# tuple functions\n",
    "# min\n",
    "# max\n",
    "# len\n",
    "# tuple"
   ]
  },
  {
   "cell_type": "code",
   "execution_count": 18,
   "id": "724ec256",
   "metadata": {},
   "outputs": [
    {
     "name": "stdout",
     "output_type": "stream",
     "text": [
      "45\n",
      "89\n"
     ]
    },
    {
     "ename": "TypeError",
     "evalue": "'<' not supported between instances of 'str' and 'int'",
     "output_type": "error",
     "traceback": [
      "\u001b[1;31m---------------------------------------------------------------------------\u001b[0m",
      "\u001b[1;31mTypeError\u001b[0m                                 Traceback (most recent call last)",
      "Input \u001b[1;32mIn [18]\u001b[0m, in \u001b[0;36m<cell line: 5>\u001b[1;34m()\u001b[0m\n\u001b[0;32m      3\u001b[0m \u001b[38;5;28mprint\u001b[39m(\u001b[38;5;28mmax\u001b[39m(tup1))\n\u001b[0;32m      4\u001b[0m tup2\u001b[38;5;241m=\u001b[39m(\u001b[38;5;241m45\u001b[39m,\u001b[38;5;241m89\u001b[39m,\u001b[38;5;241m65\u001b[39m,\u001b[38;5;124m\"\u001b[39m\u001b[38;5;124mhello\u001b[39m\u001b[38;5;124m\"\u001b[39m,\u001b[38;5;241m45\u001b[39m,\u001b[38;5;241m89\u001b[39m)\n\u001b[1;32m----> 5\u001b[0m \u001b[38;5;28mprint\u001b[39m(\u001b[38;5;28;43mmin\u001b[39;49m\u001b[43m(\u001b[49m\u001b[43mtup2\u001b[49m\u001b[43m)\u001b[49m)\n",
      "\u001b[1;31mTypeError\u001b[0m: '<' not supported between instances of 'str' and 'int'"
     ]
    }
   ],
   "source": [
    "tup1=(45,89,65,48,45,89)\n",
    "print(min(tup1))\n",
    "print(max(tup1))\n",
    "tup2=(45,89,65,\"hello\",45,89)\n",
    "print(min(tup2))"
   ]
  },
  {
   "cell_type": "code",
   "execution_count": 20,
   "id": "3338811d",
   "metadata": {},
   "outputs": [
    {
     "name": "stdout",
     "output_type": "stream",
     "text": [
      "2\n",
      "0\n"
     ]
    }
   ],
   "source": [
    "# count\n",
    "tup1=(45,69,87,45,63,21,54,58,98,65,41,23,25)\n",
    "print(tup1.count(45))\n",
    "print(tup1.count(896))\n"
   ]
  },
  {
   "cell_type": "code",
   "execution_count": 21,
   "id": "05acff68",
   "metadata": {},
   "outputs": [
    {
     "name": "stdout",
     "output_type": "stream",
     "text": [
      "0\n"
     ]
    },
    {
     "ename": "ValueError",
     "evalue": "tuple.index(x): x not in tuple",
     "output_type": "error",
     "traceback": [
      "\u001b[1;31m---------------------------------------------------------------------------\u001b[0m",
      "\u001b[1;31mValueError\u001b[0m                                Traceback (most recent call last)",
      "Input \u001b[1;32mIn [21]\u001b[0m, in \u001b[0;36m<cell line: 4>\u001b[1;34m()\u001b[0m\n\u001b[0;32m      2\u001b[0m tup1\u001b[38;5;241m=\u001b[39m(\u001b[38;5;241m45\u001b[39m,\u001b[38;5;241m69\u001b[39m,\u001b[38;5;241m87\u001b[39m,\u001b[38;5;241m45\u001b[39m,\u001b[38;5;241m63\u001b[39m,\u001b[38;5;241m21\u001b[39m,\u001b[38;5;241m54\u001b[39m,\u001b[38;5;241m58\u001b[39m,\u001b[38;5;241m98\u001b[39m,\u001b[38;5;241m65\u001b[39m,\u001b[38;5;241m41\u001b[39m,\u001b[38;5;241m23\u001b[39m,\u001b[38;5;241m25\u001b[39m)\n\u001b[0;32m      3\u001b[0m \u001b[38;5;28mprint\u001b[39m(tup1\u001b[38;5;241m.\u001b[39mindex(\u001b[38;5;241m45\u001b[39m))\n\u001b[1;32m----> 4\u001b[0m \u001b[38;5;28mprint\u001b[39m(\u001b[43mtup1\u001b[49m\u001b[38;5;241;43m.\u001b[39;49m\u001b[43mindex\u001b[49m\u001b[43m(\u001b[49m\u001b[38;5;241;43m896\u001b[39;49m\u001b[43m)\u001b[49m)\n",
      "\u001b[1;31mValueError\u001b[0m: tuple.index(x): x not in tuple"
     ]
    }
   ],
   "source": [
    "# index\n",
    "tup1=(45,69,87,45,63,21,54,58,98,65,41,23,25)\n",
    "print(tup1.index(45))\n",
    "print(tup1.index(896))"
   ]
  },
  {
   "cell_type": "code",
   "execution_count": 31,
   "id": "cea014a9",
   "metadata": {},
   "outputs": [
    {
     "name": "stdout",
     "output_type": "stream",
     "text": [
      "<class 'list'>\n",
      "<class 'tuple'>\n",
      "<class 'set'>\n"
     ]
    }
   ],
   "source": [
    "list1=[58]\n",
    "print(type(list1))\n",
    "tuple1=(58,)\n",
    "print(type(tuple1))\n",
    "set1=set()\n",
    "print(type(set1))"
   ]
  },
  {
   "cell_type": "markdown",
   "id": "be2c3c57",
   "metadata": {},
   "source": [
    "# SET"
   ]
  },
  {
   "cell_type": "code",
   "execution_count": null,
   "id": "6ca7bc1e",
   "metadata": {},
   "outputs": [],
   "source": [
    "# SET\n",
    "# set is murtable\n",
    "# set is defined in {}\n",
    "# set is unordered datatype\n",
    "# set doesn't have indexes\n",
    "# set not allows duplicates"
   ]
  },
  {
   "cell_type": "code",
   "execution_count": 32,
   "id": "6abbf7b8",
   "metadata": {},
   "outputs": [
    {
     "name": "stdout",
     "output_type": "stream",
     "text": [
      "{1, 84, 5, 6, 8, 9}\n"
     ]
    }
   ],
   "source": [
    "set1={1,5,8,9,6,5,84}\n",
    "print(set1)"
   ]
  },
  {
   "cell_type": "markdown",
   "id": "7a78ba33",
   "metadata": {},
   "source": [
    "# set functions"
   ]
  },
  {
   "cell_type": "code",
   "execution_count": 39,
   "id": "cd5e1cf9",
   "metadata": {},
   "outputs": [
    {
     "name": "stdout",
     "output_type": "stream",
     "text": [
      "6\n",
      "1\n",
      "84\n",
      "{1, 6, 11, 16, 21}\n"
     ]
    }
   ],
   "source": [
    "# set functions\n",
    "set1={1,5,8,9,6,5,84}\n",
    "print(len(set1))\n",
    "print(min(set1))\n",
    "print(max(set1))\n",
    "\n",
    "list1=range(1,25,5)\n",
    "print(set(list1))"
   ]
  },
  {
   "cell_type": "markdown",
   "id": "2846b905",
   "metadata": {},
   "source": [
    "# set methods"
   ]
  },
  {
   "cell_type": "code",
   "execution_count": 18,
   "id": "7063469e",
   "metadata": {},
   "outputs": [
    {
     "name": "stdout",
     "output_type": "stream",
     "text": [
      "{96, 65, 414, 87, 89, 45, 78}\n",
      "{96, 65, 414, 87, 89, 45, 78}\n"
     ]
    },
    {
     "ename": "KeyError",
     "evalue": "896",
     "output_type": "error",
     "traceback": [
      "\u001b[1;31m---------------------------------------------------------------------------\u001b[0m",
      "\u001b[1;31mKeyError\u001b[0m                                  Traceback (most recent call last)",
      "\u001b[1;32m~\\AppData\\Local\\Temp\\ipykernel_18260\\2076341829.py\u001b[0m in \u001b[0;36m<module>\u001b[1;34m\u001b[0m\n\u001b[0;32m      8\u001b[0m \u001b[0mprint\u001b[0m\u001b[1;33m(\u001b[0m\u001b[0mset1\u001b[0m\u001b[1;33m)\u001b[0m\u001b[1;33m\u001b[0m\u001b[1;33m\u001b[0m\u001b[0m\n\u001b[0;32m      9\u001b[0m \u001b[0mset1\u001b[0m\u001b[1;33m.\u001b[0m\u001b[0mremove\u001b[0m\u001b[1;33m(\u001b[0m\u001b[1;36m87\u001b[0m\u001b[1;33m)\u001b[0m\u001b[1;31m#remove element from set\u001b[0m\u001b[1;33m\u001b[0m\u001b[1;33m\u001b[0m\u001b[0m\n\u001b[1;32m---> 10\u001b[1;33m \u001b[0mset1\u001b[0m\u001b[1;33m.\u001b[0m\u001b[0mremove\u001b[0m\u001b[1;33m(\u001b[0m\u001b[1;36m896\u001b[0m\u001b[1;33m)\u001b[0m \u001b[1;31m#if element is not in set then it gives key error\u001b[0m\u001b[1;33m\u001b[0m\u001b[1;33m\u001b[0m\u001b[0m\n\u001b[0m\u001b[0;32m     11\u001b[0m \u001b[0mprint\u001b[0m\u001b[1;33m(\u001b[0m\u001b[0mset1\u001b[0m\u001b[1;33m)\u001b[0m\u001b[1;33m\u001b[0m\u001b[1;33m\u001b[0m\u001b[0m\n",
      "\u001b[1;31mKeyError\u001b[0m: 896"
     ]
    }
   ],
   "source": [
    "# set methods\n",
    "set1={45,89,65,87,89,65,78,96}\n",
    "# dir(set1)\n",
    "set1.add(414) #add elemenst at random position\n",
    "print(set1)\n",
    "set1.discard(875) #remove element from set but if not prsent then nothing \n",
    "# is remove neither it gives error\n",
    "print(set1)\n",
    "set1.remove(87)#remove element from set\n",
    "set1.remove(896) #if element is not in set then it gives key error\n",
    "print(set1)"
   ]
  },
  {
   "cell_type": "code",
   "execution_count": 19,
   "id": "0f49a7dc",
   "metadata": {},
   "outputs": [
    {
     "name": "stdout",
     "output_type": "stream",
     "text": [
      "1856010273280\n"
     ]
    }
   ],
   "source": [
    "list1=[1,2,3,4,5,6]\n",
    "print(id(list1))\n"
   ]
  },
  {
   "cell_type": "code",
   "execution_count": 34,
   "id": "08453fc9",
   "metadata": {},
   "outputs": [
    {
     "name": "stdout",
     "output_type": "stream",
     "text": [
      "1856017265824\n"
     ]
    }
   ],
   "source": [
    "set1={48,56,98,96,56,98}\n",
    "print(id(set1))\n",
    "\n"
   ]
  },
  {
   "cell_type": "markdown",
   "id": "ed795c32",
   "metadata": {},
   "source": [
    "# pop"
   ]
  },
  {
   "cell_type": "code",
   "execution_count": 54,
   "id": "9d98f884",
   "metadata": {},
   "outputs": [
    {
     "name": "stdout",
     "output_type": "stream",
     "text": [
      "{1, 67, 233, 43, 45, 78, 23}\n",
      "{67, 233, 43, 45, 78, 23}\n"
     ]
    }
   ],
   "source": [
    "# pop()---it remove a random element from the set.\n",
    "set1={1,23,45,67,65,43,233,78}\n",
    "set1.pop()\n",
    "print(set1)\n",
    "set1.pop()\n",
    "print(set1)"
   ]
  },
  {
   "cell_type": "markdown",
   "id": "e74e00d2",
   "metadata": {},
   "source": [
    "# union()"
   ]
  },
  {
   "cell_type": "code",
   "execution_count": 55,
   "id": "7b951720",
   "metadata": {},
   "outputs": [
    {
     "name": "stdout",
     "output_type": "stream",
     "text": [
      "{1, 34, 67, 66, 2, 3, 4, 5, 6, 7, 8, 87}\n"
     ]
    }
   ],
   "source": [
    "# union()--it combines all elemnet of set.\n",
    "set1={1,34,67,87,66}\n",
    "set2={1,2,3,4,5,6,7,8}\n",
    "set3=set1.union(set2)\n",
    "print(set3)"
   ]
  },
  {
   "cell_type": "markdown",
   "id": "f7de04cd",
   "metadata": {},
   "source": [
    "# intersection()"
   ]
  },
  {
   "cell_type": "code",
   "execution_count": 57,
   "id": "8ac19599",
   "metadata": {},
   "outputs": [
    {
     "name": "stdout",
     "output_type": "stream",
     "text": [
      "{3, 4, 5}\n"
     ]
    }
   ],
   "source": [
    "# intersection()--gives comon of two set\n",
    "set1={1,2,3,4,5}\n",
    "set2={3,4,5,6,7,8,9}\n",
    "set3=set1.intersection(set2)\n",
    "print(set3)"
   ]
  },
  {
   "cell_type": "markdown",
   "id": "a246d965",
   "metadata": {},
   "source": [
    "# intersection_update()"
   ]
  },
  {
   "cell_type": "code",
   "execution_count": 20,
   "id": "4ac6863d",
   "metadata": {},
   "outputs": [
    {
     "name": "stdout",
     "output_type": "stream",
     "text": [
      "{1, 2, 3, 4, 5} {3, 4, 5, 6, 7, 8, 9}\n",
      "{3, 4, 5} {3, 4, 5, 6, 7, 8, 9}\n"
     ]
    }
   ],
   "source": [
    "#intersection_update()\n",
    "set1={1,2,3,4,5}\n",
    "set2={3,4,5,6,7,8,9}\n",
    "print(set1,set2)\n",
    "set1.intersection_update(set2)\n",
    "print(set1,set2)"
   ]
  },
  {
   "cell_type": "markdown",
   "id": "07923bca",
   "metadata": {},
   "source": [
    "# difference()"
   ]
  },
  {
   "cell_type": "code",
   "execution_count": 68,
   "id": "7ebca008",
   "metadata": {},
   "outputs": [
    {
     "name": "stdout",
     "output_type": "stream",
     "text": [
      "{8, 9, 6, 7}\n"
     ]
    }
   ],
   "source": [
    "#difference()---gives remaning element after intersection.\n",
    "set1={1,2,3,4,5}\n",
    "set2={3,4,5,6,7,8,9}\n",
    "set3=set2.difference(set1)\n",
    "print(set3)"
   ]
  },
  {
   "cell_type": "markdown",
   "id": "ac2b9471",
   "metadata": {},
   "source": [
    "# difference_update()"
   ]
  },
  {
   "cell_type": "code",
   "execution_count": 73,
   "id": "8c427c41",
   "metadata": {},
   "outputs": [
    {
     "name": "stdout",
     "output_type": "stream",
     "text": [
      "{6, 7, 8, 9}\n"
     ]
    }
   ],
   "source": [
    "set1={1,2,3,4,5}\n",
    "set2={3,4,5,6,7,8,9}\n",
    "set2.difference_update(set1)\n",
    "print(set2)"
   ]
  },
  {
   "cell_type": "markdown",
   "id": "cab8e6b6",
   "metadata": {},
   "source": [
    "# isdisjoin()\n"
   ]
  },
  {
   "cell_type": "code",
   "execution_count": 21,
   "id": "aa6290aa",
   "metadata": {},
   "outputs": [
    {
     "name": "stdout",
     "output_type": "stream",
     "text": [
      "True\n"
     ]
    }
   ],
   "source": [
    "# isdisjoin()---gives true when not a single  common element in a set..\n",
    "# return flase when a common element ...\n",
    "set1={1,2,3,4,5}\n",
    "set2={13,24,35,6,7,8,9}\n",
    "x=set1.isdisjoint(set2)\n",
    "print(x)"
   ]
  },
  {
   "cell_type": "markdown",
   "id": "05c0f7dd",
   "metadata": {},
   "source": [
    "# issubset()"
   ]
  },
  {
   "cell_type": "code",
   "execution_count": 83,
   "id": "a5b27e86",
   "metadata": {},
   "outputs": [
    {
     "name": "stdout",
     "output_type": "stream",
     "text": [
      "True\n"
     ]
    }
   ],
   "source": [
    "#issubset()\n",
    "set1={1,2,3}\n",
    "set2={1,2}\n",
    "x=set2.issubset(set1)\n",
    "print(x)"
   ]
  },
  {
   "cell_type": "markdown",
   "id": "310c13b3",
   "metadata": {},
   "source": [
    "# issuperset()"
   ]
  },
  {
   "cell_type": "code",
   "execution_count": 84,
   "id": "56da69f6",
   "metadata": {},
   "outputs": [
    {
     "name": "stdout",
     "output_type": "stream",
     "text": [
      "False\n"
     ]
    }
   ],
   "source": [
    "#issuperset()\n",
    "set1={1,2,3}\n",
    "set2={1,2}\n",
    "x=set2.issuperset(set1)\n",
    "print(x)"
   ]
  },
  {
   "cell_type": "markdown",
   "id": "ba4e6b2e",
   "metadata": {},
   "source": [
    "# symmetric_difference()"
   ]
  },
  {
   "cell_type": "markdown",
   "id": "09f15f82",
   "metadata": {},
   "source": [
    "#union-intersection---formula\n"
   ]
  },
  {
   "cell_type": "code",
   "execution_count": 89,
   "id": "1ba6efe5",
   "metadata": {},
   "outputs": [
    {
     "name": "stdout",
     "output_type": "stream",
     "text": [
      "{32, 3, 4, 5, 8, 45, 54, 23, 89}\n"
     ]
    }
   ],
   "source": [
    "# symmetric_difference()\n",
    "set1={1,2,3,4,5,6,7,8}\n",
    "set2={1,2,45,23,6,7,54,32,23,89}\n",
    "set3=set1.symmetric_difference(set2)\n",
    "print(set3)"
   ]
  },
  {
   "cell_type": "code",
   "execution_count": 88,
   "id": "2f762233",
   "metadata": {},
   "outputs": [
    {
     "name": "stdout",
     "output_type": "stream",
     "text": [
      "{32, 3, 4, 5, 8, 45, 54, 23, 89}\n"
     ]
    }
   ],
   "source": [
    "# symmetric_difference_update()\n",
    "set1={1,2,3,4,5,6,7,8}\n",
    "set2={1,2,45,23,6,7,54,32,23,89}\n",
    "set1.symmetric_difference_update(set2)\n",
    "print(set1)"
   ]
  },
  {
   "cell_type": "markdown",
   "id": "a0a5e625",
   "metadata": {},
   "source": [
    "# Dictonary"
   ]
  },
  {
   "cell_type": "code",
   "execution_count": 94,
   "id": "25691679",
   "metadata": {},
   "outputs": [],
   "source": [
    "# Dictonary()\n",
    "#dictonary is a collation of element of similar or diffrent data type having key,values pair.\n",
    "#dictonary is ordered data type but not with index but with key.\n",
    "# dictonary is also diffend in {}\n",
    "#dict={1:\"hello\",2:\"good\"}\n",
    "#list as a key not allowd.\n",
    "#set as a key not allowd.\n",
    "#dic as a key not allowd.\n",
    "# any mutable is not allowd as a key . key can be only and only inmutable.\n",
    "# value can be anything."
   ]
  },
  {
   "cell_type": "code",
   "execution_count": 101,
   "id": "d4695f18",
   "metadata": {},
   "outputs": [
    {
     "name": "stdout",
     "output_type": "stream",
     "text": [
      "{1: {1, 2}, 23.45: 56.65, 'string': 'hello', (23, 34): (34, 34), 23: {1: 38}}\n",
      "{1, 2}\n"
     ]
    }
   ],
   "source": [
    "dict={1:34,23.45:56.65,True:False,\"string\":\"hello\",1:[3,4],(23,34):(34,34),1:{1,2},23:{1:38}}\n",
    "print(dict)\n",
    "print(dict[True])"
   ]
  },
  {
   "cell_type": "code",
   "execution_count": 105,
   "id": "00d6b2a4",
   "metadata": {},
   "outputs": [
    {
     "name": "stdout",
     "output_type": "stream",
     "text": [
      "{1: 34, 2: range(1, 9)}\n"
     ]
    }
   ],
   "source": [
    "dict1={1:34,2:range(1,9)}\n",
    "print(dict1)"
   ]
  },
  {
   "cell_type": "code",
   "execution_count": 108,
   "id": "1526a1cf",
   "metadata": {},
   "outputs": [
    {
     "name": "stdout",
     "output_type": "stream",
     "text": [
      "range(1, 9)\n",
      "1\n",
      "2\n",
      "3\n",
      "4\n",
      "5\n",
      "6\n",
      "7\n",
      "8\n"
     ]
    }
   ],
   "source": [
    "dict1={1:34,2:range(1,9)}\n",
    "print(dict1[2])\n",
    "for i in dict1[2]:\n",
    "    print(i)"
   ]
  },
  {
   "cell_type": "code",
   "execution_count": 2,
   "id": "4dfc0bf4",
   "metadata": {},
   "outputs": [
    {
     "name": "stdout",
     "output_type": "stream",
     "text": [
      "{1, 2, 3, 4, 5, 6, 58}\n"
     ]
    }
   ],
   "source": [
    "#find a repitaed iteam for tuple.\n",
    "set1=set()\n",
    "tup1=(1,2,3,4,5,6,1,2,3,6,5,4,8,58,96,54,78,98,74,58)\n",
    "for i in tup1:\n",
    "    if tup1.count(i)>1:\n",
    "        set1.add(i)       \n",
    "print(set1)"
   ]
  },
  {
   "cell_type": "markdown",
   "id": "76a7d255",
   "metadata": {},
   "source": [
    "# Dictionary MEthods\n"
   ]
  },
  {
   "cell_type": "markdown",
   "id": "123406de",
   "metadata": {},
   "source": [
    "# values()"
   ]
  },
  {
   "cell_type": "code",
   "execution_count": 1,
   "id": "2bdf1722",
   "metadata": {},
   "outputs": [
    {
     "name": "stdout",
     "output_type": "stream",
     "text": [
      "dict_values([2, 48, 125, 45])\n"
     ]
    }
   ],
   "source": [
    "# Values() ---give list of values from the dictionary\n",
    "dict1={1:2,56:48,89:125,36:45}\n",
    "print(dict1.values())"
   ]
  },
  {
   "cell_type": "markdown",
   "id": "fd86005b",
   "metadata": {},
   "source": [
    "# keys()"
   ]
  },
  {
   "cell_type": "code",
   "execution_count": 2,
   "id": "74eba7a6",
   "metadata": {},
   "outputs": [
    {
     "name": "stdout",
     "output_type": "stream",
     "text": [
      "dict_keys([1, 56, 89, 36])\n"
     ]
    }
   ],
   "source": [
    "# Keys()--give list of keys from the dictionary\n",
    "dict1={1:2,56:48,89:125,36:45}\n",
    "print(dict1.keys())"
   ]
  },
  {
   "cell_type": "markdown",
   "id": "8b06f764",
   "metadata": {},
   "source": [
    "# Items()"
   ]
  },
  {
   "cell_type": "code",
   "execution_count": 3,
   "id": "2780aa82",
   "metadata": {},
   "outputs": [
    {
     "name": "stdout",
     "output_type": "stream",
     "text": [
      "dict_items([(1, 2), (56, 48), (89, 125), (36, 45)])\n"
     ]
    }
   ],
   "source": [
    "# Items()---gives list of tuples and one tuple have only two values one is key\n",
    "# another is value\n",
    "dict1={1:2,56:48,89:125,36:45}\n",
    "print(dict1.items())"
   ]
  },
  {
   "cell_type": "markdown",
   "id": "4b4a6fbd",
   "metadata": {},
   "source": [
    "# pop()\n",
    "\n",
    "# popitem()"
   ]
  },
  {
   "cell_type": "code",
   "execution_count": 5,
   "id": "53919fba",
   "metadata": {},
   "outputs": [
    {
     "name": "stdout",
     "output_type": "stream",
     "text": [
      "{1: 2, 56: 48, 36: 45}\n",
      "{1: 2, 56: 48}\n"
     ]
    }
   ],
   "source": [
    "# pop(key)---remove the element of specified key\n",
    "# popitem()---remove last pair which has been inserted\n",
    "\n",
    "dict1={1:2,56:48,89:125,36:45}\n",
    "dict1.pop(89)\n",
    "print(dict1)\n",
    "dict1.popitem()\n",
    "print(dict1)"
   ]
  },
  {
   "cell_type": "markdown",
   "id": "77714f8a",
   "metadata": {},
   "source": [
    "# get()"
   ]
  },
  {
   "cell_type": "code",
   "execution_count": 23,
   "id": "55c90219",
   "metadata": {},
   "outputs": [
    {
     "name": "stdout",
     "output_type": "stream",
     "text": [
      "None\n",
      "value not found\n",
      "{1: 2, 56: 48, 89: 125, 36: 45}\n"
     ]
    }
   ],
   "source": [
    "# get(key[,value])--it gives the vlaue of the key but if the key is not in \n",
    "# dictionary then it returns none when thers is no second argument of value\n",
    "# and if key is not found and second values is given then that value will be \n",
    "# given\n",
    "\n",
    "dict1={1:2,56:48,89:125,36:45}\n",
    "print(dict1.get(12))\n",
    "print(dict1.get(145,\"value not found\"))\n",
    "print(dict1)"
   ]
  },
  {
   "cell_type": "markdown",
   "id": "90294ce6",
   "metadata": {},
   "source": [
    "# setdefault()"
   ]
  },
  {
   "cell_type": "code",
   "execution_count": 25,
   "id": "d9545d25",
   "metadata": {},
   "outputs": [
    {
     "name": "stdout",
     "output_type": "stream",
     "text": [
      "None\n",
      "{1: 2, 56: 48, 89: 125, 36: 45, 'q': 'hello', 'hello': None}\n"
     ]
    }
   ],
   "source": [
    "# setdefault(key,value)--it gives the vlaue of the key but if the key is not in \n",
    "# dictionary then it returns none when thers is no second argument of value \n",
    "# and also add that key and value in the dictionary \n",
    "# and if key is not found and second values is given then that value will be \n",
    "# given\n",
    "dict1={1:2,56:48,89:125,36:45,\"q\":\"hello\"}\n",
    "print(dict1.setdefault(\"hello\"))\n",
    "print(dict1)"
   ]
  },
  {
   "cell_type": "markdown",
   "id": "eb41d267",
   "metadata": {},
   "source": [
    "# update()"
   ]
  },
  {
   "cell_type": "code",
   "execution_count": 17,
   "id": "f18f96da",
   "metadata": {},
   "outputs": [
    {
     "name": "stdout",
     "output_type": "stream",
     "text": [
      "{1: 2, 56: 48, 89: 125, 36: 45, 698: 'hello', 45: 'wow'}\n"
     ]
    }
   ],
   "source": [
    "# update(dictionary)--it update the dictiionary\n",
    "dict1={1:2,56:48,89:125,36:45}\n",
    "dict1.update({698:\"hello\",45:\"wow\"})\n",
    "print(dict1)"
   ]
  },
  {
   "cell_type": "markdown",
   "id": "877ed117",
   "metadata": {},
   "source": [
    "# fromkeys()"
   ]
  },
  {
   "cell_type": "code",
   "execution_count": 6,
   "id": "0d6815f8",
   "metadata": {},
   "outputs": [
    {
     "name": "stdout",
     "output_type": "stream",
     "text": [
      "{1: [1, 2], 2: [1, 2], 3: [1, 2], 4: [1, 2], 5: [1, 2], 6: [1, 2]}\n"
     ]
    }
   ],
   "source": [
    "# fromkeys(iterable,value)\n",
    "list1=[1,2,3,4,5,6]\n",
    "val=[1,2]\n",
    "dict1=dict.fromkeys(list1,val)\n",
    "print(dict1)"
   ]
  },
  {
   "cell_type": "markdown",
   "id": "4697d37b",
   "metadata": {},
   "source": [
    "# function in python"
   ]
  },
  {
   "cell_type": "code",
   "execution_count": null,
   "id": "f08f8bc7",
   "metadata": {},
   "outputs": [],
   "source": [
    "def functionanme([parameters]):\n",
    "    body of the function\n",
    "    [return value]"
   ]
  },
  {
   "cell_type": "code",
   "execution_count": 9,
   "id": "99063ffb",
   "metadata": {},
   "outputs": [],
   "source": [
    "def greeting():\n",
    "    a=58\n",
    "    for i in range(1,11):\n",
    "        print(\"good Morning\")"
   ]
  },
  {
   "cell_type": "code",
   "execution_count": 11,
   "id": "2bb71278",
   "metadata": {},
   "outputs": [
    {
     "name": "stdout",
     "output_type": "stream",
     "text": [
      "good Morning\n",
      "good Morning\n",
      "good Morning\n",
      "good Morning\n",
      "good Morning\n",
      "good Morning\n",
      "good Morning\n",
      "good Morning\n",
      "good Morning\n",
      "good Morning\n"
     ]
    }
   ],
   "source": [
    "greeting()"
   ]
  },
  {
   "cell_type": "code",
   "execution_count": 50,
   "id": "6581bd2c",
   "metadata": {},
   "outputs": [
    {
     "ename": "NameError",
     "evalue": "name 'a' is not defined",
     "output_type": "error",
     "traceback": [
      "\u001b[1;31m---------------------------------------------------------------------------\u001b[0m",
      "\u001b[1;31mNameError\u001b[0m                                 Traceback (most recent call last)",
      "Input \u001b[1;32mIn [50]\u001b[0m, in \u001b[0;36m<cell line: 1>\u001b[1;34m()\u001b[0m\n\u001b[1;32m----> 1\u001b[0m \u001b[38;5;28mprint\u001b[39m(\u001b[43ma\u001b[49m)\n",
      "\u001b[1;31mNameError\u001b[0m: name 'a' is not defined"
     ]
    }
   ],
   "source": [
    "print(a)"
   ]
  },
  {
   "cell_type": "code",
   "execution_count": 62,
   "id": "59ba808b",
   "metadata": {},
   "outputs": [],
   "source": [
    "def addition(x,y):\n",
    "    answer=x+y\n",
    "    print(answer)"
   ]
  },
  {
   "cell_type": "code",
   "execution_count": 64,
   "id": "8a73ae81",
   "metadata": {},
   "outputs": [
    {
     "name": "stdout",
     "output_type": "stream",
     "text": [
      "60\n",
      "73\n"
     ]
    }
   ],
   "source": [
    "addition(45,15)\n",
    "addition(48,25)"
   ]
  },
  {
   "cell_type": "markdown",
   "id": "e1b5fdf4",
   "metadata": {},
   "source": [
    "# types of arguments"
   ]
  },
  {
   "cell_type": "code",
   "execution_count": null,
   "id": "6460efb8",
   "metadata": {},
   "outputs": [],
   "source": [
    "# types of arguments\n",
    "positional argument\n",
    "keyword argument\n",
    "default argument\n",
    "arbitrary agrument\n",
    "arbirary keyword argument"
   ]
  },
  {
   "cell_type": "markdown",
   "id": "0ac3f327",
   "metadata": {},
   "source": [
    "# positional argument"
   ]
  },
  {
   "cell_type": "code",
   "execution_count": 15,
   "id": "e7ebf48d",
   "metadata": {},
   "outputs": [],
   "source": [
    "def fun1(x,y,z):\n",
    "    print(x,y,z)\n",
    "    "
   ]
  },
  {
   "cell_type": "code",
   "execution_count": 16,
   "id": "401243f7",
   "metadata": {},
   "outputs": [
    {
     "ename": "TypeError",
     "evalue": "fun1() missing 1 required positional argument: 'z'",
     "output_type": "error",
     "traceback": [
      "\u001b[1;31m---------------------------------------------------------------------------\u001b[0m",
      "\u001b[1;31mTypeError\u001b[0m                                 Traceback (most recent call last)",
      "\u001b[1;32m~\\AppData\\Local\\Temp\\ipykernel_20596\\179555232.py\u001b[0m in \u001b[0;36m<module>\u001b[1;34m\u001b[0m\n\u001b[1;32m----> 1\u001b[1;33m \u001b[0mfun1\u001b[0m\u001b[1;33m(\u001b[0m\u001b[1;36m14\u001b[0m\u001b[1;33m,\u001b[0m\u001b[1;34m\"Hello\"\u001b[0m\u001b[1;33m)\u001b[0m\u001b[1;33m\u001b[0m\u001b[1;33m\u001b[0m\u001b[0m\n\u001b[0m",
      "\u001b[1;31mTypeError\u001b[0m: fun1() missing 1 required positional argument: 'z'"
     ]
    }
   ],
   "source": [
    "fun1(14,\"Hello\")"
   ]
  },
  {
   "cell_type": "markdown",
   "id": "bc770d0a",
   "metadata": {},
   "source": [
    "# Keyword Argument"
   ]
  },
  {
   "cell_type": "code",
   "execution_count": 1,
   "id": "cef77e46",
   "metadata": {},
   "outputs": [
    {
     "name": "stdout",
     "output_type": "stream",
     "text": [
      "45 89 85\n"
     ]
    },
    {
     "ename": "TypeError",
     "evalue": "fun1() got multiple values for argument 'x'",
     "output_type": "error",
     "traceback": [
      "\u001b[1;31m---------------------------------------------------------------------------\u001b[0m",
      "\u001b[1;31mTypeError\u001b[0m                                 Traceback (most recent call last)",
      "\u001b[1;32m~\\AppData\\Local\\Temp\\ipykernel_15288\\2342544634.py\u001b[0m in \u001b[0;36m<module>\u001b[1;34m\u001b[0m\n\u001b[0;32m      5\u001b[0m \u001b[1;31m# fun1(z=85,y=23,x=48)\u001b[0m\u001b[1;33m\u001b[0m\u001b[1;33m\u001b[0m\u001b[0m\n\u001b[0;32m      6\u001b[0m \u001b[0mfun1\u001b[0m\u001b[1;33m(\u001b[0m\u001b[1;36m45\u001b[0m\u001b[1;33m,\u001b[0m\u001b[0mz\u001b[0m\u001b[1;33m=\u001b[0m\u001b[1;36m85\u001b[0m\u001b[1;33m,\u001b[0m\u001b[0my\u001b[0m\u001b[1;33m=\u001b[0m\u001b[1;36m89\u001b[0m\u001b[1;33m)\u001b[0m\u001b[1;33m\u001b[0m\u001b[1;33m\u001b[0m\u001b[0m\n\u001b[1;32m----> 7\u001b[1;33m \u001b[0mfun1\u001b[0m\u001b[1;33m(\u001b[0m\u001b[1;36m58\u001b[0m\u001b[1;33m,\u001b[0m\u001b[0mx\u001b[0m\u001b[1;33m=\u001b[0m\u001b[1;36m89\u001b[0m\u001b[1;33m,\u001b[0m\u001b[0mz\u001b[0m\u001b[1;33m=\u001b[0m\u001b[1;36m48\u001b[0m\u001b[1;33m)\u001b[0m\u001b[1;33m\u001b[0m\u001b[1;33m\u001b[0m\u001b[0m\n\u001b[0m",
      "\u001b[1;31mTypeError\u001b[0m: fun1() got multiple values for argument 'x'"
     ]
    }
   ],
   "source": [
    "# Keyword Argument\n",
    "def fun1(x,y,z):\n",
    "    print(x,y,z)\n",
    "    \n",
    "# fun1(z=85,y=23,x=48)\n",
    "fun1(45,z=85,y=89)\n",
    "fun1(58,x=89,z=48)\n"
   ]
  },
  {
   "cell_type": "markdown",
   "id": "ca4ef930",
   "metadata": {},
   "source": [
    "# default argument"
   ]
  },
  {
   "cell_type": "code",
   "execution_count": 1,
   "id": "db176db9",
   "metadata": {},
   "outputs": [
    {
     "name": "stdout",
     "output_type": "stream",
     "text": [
      "x=48 y=25 z=47\n"
     ]
    }
   ],
   "source": [
    "# default argument\n",
    "def fun1(x,y,z=47):\n",
    "    print(f\"x={x} y={y} z={z}\")\n",
    "\n",
    "fun1(48,25)"
   ]
  },
  {
   "cell_type": "code",
   "execution_count": 2,
   "id": "71dce4b6",
   "metadata": {},
   "outputs": [
    {
     "ename": "TypeError",
     "evalue": "fun1() missing 1 required positional argument: 'z'",
     "output_type": "error",
     "traceback": [
      "\u001b[1;31m---------------------------------------------------------------------------\u001b[0m",
      "\u001b[1;31mTypeError\u001b[0m                                 Traceback (most recent call last)",
      "\u001b[1;32m~\\AppData\\Local\\Temp\\ipykernel_15288\\2190976891.py\u001b[0m in \u001b[0;36m<module>\u001b[1;34m\u001b[0m\n\u001b[0;32m      3\u001b[0m     \u001b[0mprint\u001b[0m\u001b[1;33m(\u001b[0m\u001b[1;34mf\"x={x} y={y} z={z}\"\u001b[0m\u001b[1;33m)\u001b[0m\u001b[1;33m\u001b[0m\u001b[1;33m\u001b[0m\u001b[0m\n\u001b[0;32m      4\u001b[0m \u001b[1;33m\u001b[0m\u001b[0m\n\u001b[1;32m----> 5\u001b[1;33m \u001b[0mfun1\u001b[0m\u001b[1;33m(\u001b[0m\u001b[1;36m48\u001b[0m\u001b[1;33m,\u001b[0m\u001b[1;36m25\u001b[0m\u001b[1;33m)\u001b[0m\u001b[1;33m\u001b[0m\u001b[1;33m\u001b[0m\u001b[0m\n\u001b[0m",
      "\u001b[1;31mTypeError\u001b[0m: fun1() missing 1 required positional argument: 'z'"
     ]
    }
   ],
   "source": [
    "# default argument\n",
    "def fun1(x,y,z):\n",
    "    print(f\"x={x} y={y} z={z}\")\n",
    "\n",
    "fun1(48,25)"
   ]
  },
  {
   "cell_type": "markdown",
   "id": "77a1c847",
   "metadata": {},
   "source": [
    "# aribtrary positional argument"
   ]
  },
  {
   "cell_type": "markdown",
   "id": "7a09be49",
   "metadata": {},
   "source": [
    "# * tuple"
   ]
  },
  {
   "cell_type": "code",
   "execution_count": 2,
   "id": "dfc5a1e7",
   "metadata": {},
   "outputs": [
    {
     "name": "stdout",
     "output_type": "stream",
     "text": [
      "x=48 y=25 z=102 m=(45, 89, 65, 21, 4, 89, 90) 89\n"
     ]
    }
   ],
   "source": [
    "#aribtrary positional argument\n",
    "\n",
    "# * tuple\n",
    "\n",
    "def fun1(x,y,z,*m):\n",
    "    print(f\"x={x} y={y} z={z} m={m} {m[1]}\")\n",
    "\n",
    "fun1(48,25,102,45,89,65,21,4,89,90)"
   ]
  },
  {
   "cell_type": "markdown",
   "id": "26711ab5",
   "metadata": {},
   "source": [
    "# **dictionary"
   ]
  },
  {
   "cell_type": "code",
   "execution_count": 27,
   "id": "83a3495f",
   "metadata": {},
   "outputs": [
    {
     "name": "stdout",
     "output_type": "stream",
     "text": [
      "x=85 y=25 z=102 m={'m': 48, 'j': 'hello', 'k': 26}\n"
     ]
    }
   ],
   "source": [
    "#aribtrary keyword argument\n",
    "\n",
    "# ** dictionary\n",
    "\n",
    "def fun1(x,y,z,**m):\n",
    "    print(f\"x={x} y={y} z={z} m={m}\")\n",
    "\n",
    "fun1(x=85,z=102,y=25,m=48,j=\"hello\",k=26)"
   ]
  },
  {
   "cell_type": "code",
   "execution_count": 18,
   "id": "a6190891",
   "metadata": {},
   "outputs": [],
   "source": [
    "def palindrome(num):\n",
    "    temp=num\n",
    "    rev=0\n",
    "    while num!=0:\n",
    "        rem=num%10\n",
    "        rev=rev*10+rem\n",
    "        num=num//10\n",
    "        \n",
    "    if temp==rev:\n",
    "        print(\"Palindrome\")\n",
    "    else:\n",
    "        print(\"Not Plaindrome\")\n",
    "        "
   ]
  },
  {
   "cell_type": "code",
   "execution_count": 19,
   "id": "6f91d7a9",
   "metadata": {},
   "outputs": [
    {
     "name": "stdout",
     "output_type": "stream",
     "text": [
      "Not Plaindrome\n"
     ]
    }
   ],
   "source": [
    "palindrome(1431)\n"
   ]
  },
  {
   "cell_type": "code",
   "execution_count": null,
   "id": "203f2e75",
   "metadata": {},
   "outputs": [],
   "source": [
    "# import modulename\n",
    "# from modulename import things"
   ]
  },
  {
   "cell_type": "code",
   "execution_count": 28,
   "id": "f90a456b",
   "metadata": {},
   "outputs": [
    {
     "ename": "SyntaxError",
     "evalue": "invalid syntax (259061897.py, line 4)",
     "output_type": "error",
     "traceback": [
      "\u001b[1;36m  Input \u001b[1;32mIn [28]\u001b[1;36m\u001b[0m\n\u001b[1;33m    pip install pillow\u001b[0m\n\u001b[1;37m        ^\u001b[0m\n\u001b[1;31mSyntaxError\u001b[0m\u001b[1;31m:\u001b[0m invalid syntax\n"
     ]
    }
   ],
   "source": [
    "# random module\n",
    "# import pillow\n",
    "# pip install modulename\n",
    "# pip install pillow"
   ]
  },
  {
   "cell_type": "code",
   "execution_count": 63,
   "id": "60f458ab",
   "metadata": {},
   "outputs": [
    {
     "ename": "TypeError",
     "evalue": "'set' object is not subscriptable",
     "output_type": "error",
     "traceback": [
      "\u001b[1;31m---------------------------------------------------------------------------\u001b[0m",
      "\u001b[1;31mTypeError\u001b[0m                                 Traceback (most recent call last)",
      "\u001b[1;32m~\\AppData\\Local\\Temp\\ipykernel_20596\\2566802393.py\u001b[0m in \u001b[0;36m<module>\u001b[1;34m\u001b[0m\n\u001b[0;32m      5\u001b[0m \u001b[1;31m#random.choice(\"ebvfjehrvber jhbe vjhre\")\u001b[0m\u001b[1;33m\u001b[0m\u001b[1;33m\u001b[0m\u001b[0m\n\u001b[0;32m      6\u001b[0m \u001b[1;31m#random.choice([1,2,3,4,5,6])\u001b[0m\u001b[1;33m\u001b[0m\u001b[1;33m\u001b[0m\u001b[0m\n\u001b[1;32m----> 7\u001b[1;33m \u001b[0mrandom\u001b[0m\u001b[1;33m.\u001b[0m\u001b[0mchoice\u001b[0m\u001b[1;33m(\u001b[0m\u001b[1;33m{\u001b[0m\u001b[1;36m1\u001b[0m\u001b[1;33m,\u001b[0m\u001b[1;36m2\u001b[0m\u001b[1;33m,\u001b[0m\u001b[1;36m4\u001b[0m\u001b[1;33m,\u001b[0m\u001b[1;36m5\u001b[0m\u001b[1;33m,\u001b[0m\u001b[1;36m8\u001b[0m\u001b[1;33m,\u001b[0m\u001b[1;36m7\u001b[0m\u001b[1;33m,\u001b[0m\u001b[1;36m9\u001b[0m\u001b[1;33m,\u001b[0m\u001b[1;36m8\u001b[0m\u001b[1;33m,\u001b[0m\u001b[1;36m6\u001b[0m\u001b[1;33m,\u001b[0m\u001b[1;36m15\u001b[0m\u001b[1;33m,\u001b[0m\u001b[1;36m4\u001b[0m\u001b[1;33m,\u001b[0m\u001b[1;36m52\u001b[0m\u001b[1;33m,\u001b[0m\u001b[1;36m15\u001b[0m\u001b[1;33m}\u001b[0m\u001b[1;33m)\u001b[0m\u001b[1;33m\u001b[0m\u001b[1;33m\u001b[0m\u001b[0m\n\u001b[0m\u001b[0;32m      8\u001b[0m \u001b[1;31m#random.random() # 0 to 1 between random number given\u001b[0m\u001b[1;33m\u001b[0m\u001b[1;33m\u001b[0m\u001b[0m\n",
      "\u001b[1;32m~\\anaconda3\\lib\\random.py\u001b[0m in \u001b[0;36mchoice\u001b[1;34m(self, seq)\u001b[0m\n\u001b[0;32m    344\u001b[0m         \u001b[1;34m\"\"\"Choose a random element from a non-empty sequence.\"\"\"\u001b[0m\u001b[1;33m\u001b[0m\u001b[1;33m\u001b[0m\u001b[0m\n\u001b[0;32m    345\u001b[0m         \u001b[1;31m# raises IndexError if seq is empty\u001b[0m\u001b[1;33m\u001b[0m\u001b[1;33m\u001b[0m\u001b[0m\n\u001b[1;32m--> 346\u001b[1;33m         \u001b[1;32mreturn\u001b[0m \u001b[0mseq\u001b[0m\u001b[1;33m[\u001b[0m\u001b[0mself\u001b[0m\u001b[1;33m.\u001b[0m\u001b[0m_randbelow\u001b[0m\u001b[1;33m(\u001b[0m\u001b[0mlen\u001b[0m\u001b[1;33m(\u001b[0m\u001b[0mseq\u001b[0m\u001b[1;33m)\u001b[0m\u001b[1;33m)\u001b[0m\u001b[1;33m]\u001b[0m\u001b[1;33m\u001b[0m\u001b[1;33m\u001b[0m\u001b[0m\n\u001b[0m\u001b[0;32m    347\u001b[0m \u001b[1;33m\u001b[0m\u001b[0m\n\u001b[0;32m    348\u001b[0m     \u001b[1;32mdef\u001b[0m \u001b[0mshuffle\u001b[0m\u001b[1;33m(\u001b[0m\u001b[0mself\u001b[0m\u001b[1;33m,\u001b[0m \u001b[0mx\u001b[0m\u001b[1;33m,\u001b[0m \u001b[0mrandom\u001b[0m\u001b[1;33m=\u001b[0m\u001b[1;32mNone\u001b[0m\u001b[1;33m)\u001b[0m\u001b[1;33m:\u001b[0m\u001b[1;33m\u001b[0m\u001b[1;33m\u001b[0m\u001b[0m\n",
      "\u001b[1;31mTypeError\u001b[0m: 'set' object is not subscriptable"
     ]
    }
   ],
   "source": [
    "import random\n",
    "#dir(random)\n",
    "#random.randrange(1,25,5)\n",
    "#random.randint(45,459)\n",
    "#random.choice(\"ebvfjehrvber jhbe vjhre\")\n",
    "#random.choice([1,2,3,4,5,6])\n",
    "random.choice({1,2,4,5,8,7,9,8,6,15,4,52,15})\n",
    "#random.random() # 0 to 1 between random number given"
   ]
  },
  {
   "cell_type": "code",
   "execution_count": null,
   "id": "25de7e7f",
   "metadata": {},
   "outputs": [],
   "source": [
    "#---itreable=set count...\n",
    "#---sequence=set not count..."
   ]
  },
  {
   "cell_type": "code",
   "execution_count": 8,
   "id": "009075f3",
   "metadata": {},
   "outputs": [
    {
     "name": "stdout",
     "output_type": "stream",
     "text": [
      "270\n",
      "540\n"
     ]
    }
   ],
   "source": [
    "import math\n",
    "# math.ceil(5.36)\n",
    "# math.floor(5.36)\n",
    "# math.factorial(5)\n",
    "x=math.prod({1,2,3,45,2})\n",
    "print(x)\n",
    "y=math.prod([1,2,3,45,2])\n",
    "print(y)\n"
   ]
  },
  {
   "cell_type": "markdown",
   "id": "fe9c35ad",
   "metadata": {},
   "source": [
    "# file handling "
   ]
  },
  {
   "cell_type": "markdown",
   "id": "b31d27c3",
   "metadata": {},
   "source": [
    "# file open\n",
    "\n",
    "# file working\n",
    "\n",
    "# file close"
   ]
  },
  {
   "cell_type": "markdown",
   "id": "17ef870b",
   "metadata": {},
   "source": [
    "# file open\n",
    "filepointername=open(\"FIlename\",\"mode\")\n",
    "fp=open(\"demo.txt\",\"w\")\n",
    "\n",
    "mode----\n",
    "read---r---if file eixist then it will be open for reading purpose but if not exist then \n",
    "it gives error\n",
    "\n",
    "write---w---if file exist then it will be open for writing purpose and all its\n",
    "old content will be deleted and if file not exists then it will create a new one but it will not\n",
    "give error\n",
    "\n",
    "append----a---if file exist then it will be open for append purpose and all its\n",
    "old content will not be deleted and if file not exists then it will create a new one but it will not\n",
    "give error\n"
   ]
  },
  {
   "cell_type": "code",
   "execution_count": null,
   "id": "a28ade85",
   "metadata": {},
   "outputs": [],
   "source": [
    "# file closing\n",
    "filepointername.close()"
   ]
  },
  {
   "cell_type": "code",
   "execution_count": 1,
   "id": "e4a93c0c",
   "metadata": {},
   "outputs": [
    {
     "ename": "FileNotFoundError",
     "evalue": "[Errno 2] No such file or directory: 'demo.txt'",
     "output_type": "error",
     "traceback": [
      "\u001b[1;31m---------------------------------------------------------------------------\u001b[0m",
      "\u001b[1;31mFileNotFoundError\u001b[0m                         Traceback (most recent call last)",
      "Input \u001b[1;32mIn [1]\u001b[0m, in \u001b[0;36m<cell line: 1>\u001b[1;34m()\u001b[0m\n\u001b[1;32m----> 1\u001b[0m fp\u001b[38;5;241m=\u001b[39m\u001b[38;5;28;43mopen\u001b[39;49m\u001b[43m(\u001b[49m\u001b[38;5;124;43m\"\u001b[39;49m\u001b[38;5;124;43mdemo.txt\u001b[39;49m\u001b[38;5;124;43m\"\u001b[39;49m\u001b[43m,\u001b[49m\u001b[38;5;124;43m\"\u001b[39;49m\u001b[38;5;124;43mr\u001b[39;49m\u001b[38;5;124;43m\"\u001b[39;49m\u001b[43m)\u001b[49m\n\u001b[0;32m      2\u001b[0m fp\u001b[38;5;241m.\u001b[39mclose()\n",
      "\u001b[1;31mFileNotFoundError\u001b[0m: [Errno 2] No such file or directory: 'demo.txt'"
     ]
    }
   ],
   "source": [
    "fp=open(\"demo.txt\",\"r\")\n",
    "fp.close()"
   ]
  },
  {
   "cell_type": "code",
   "execution_count": 3,
   "id": "e458a636",
   "metadata": {},
   "outputs": [],
   "source": [
    "# data writing inside file\n",
    "fp=open(\"demo.txt\",\"w\")\n",
    "fp.write(\"Hello all How are you\")\n",
    "fp.close()"
   ]
  },
  {
   "cell_type": "code",
   "execution_count": 2,
   "id": "6adfdce4",
   "metadata": {},
   "outputs": [],
   "source": [
    "# data appending inside file\n",
    "fp=open(\"demo.txt\",\"a\")\n",
    "for i in range(1,10):  \n",
    "    fp.write(f\"This is something new {i}\\n\")\n",
    "fp.close()"
   ]
  },
  {
   "cell_type": "code",
   "execution_count": 33,
   "id": "ffb5bbf0",
   "metadata": {},
   "outputs": [
    {
     "name": "stdout",
     "output_type": "stream",
     "text": [
      "This is something new 1\n",
      "\n",
      "This is something new 2\n",
      "\n"
     ]
    }
   ],
   "source": [
    "# opening file for reading purpose\n",
    "fp=open(\"demo.txt\",\"r\")\n",
    "# print(fp.read())\n",
    "# print(fp.read(55))\n",
    "print(fp.readline())\n",
    "print(fp.readline())\n",
    "fp.close()"
   ]
  },
  {
   "cell_type": "code",
   "execution_count": 34,
   "id": "44fb5286",
   "metadata": {},
   "outputs": [
    {
     "name": "stdout",
     "output_type": "stream",
     "text": [
      "ENter number of students: 3\n",
      "ENter Name: Sugandh\n",
      "Enter Age: 45\n",
      "ENter mobile: 46546\n",
      "ENter Name: Rahul\n",
      "Enter Age: 89\n",
      "ENter mobile: 63546\n",
      "ENter Name: Robin\n",
      "Enter Age: 487\n",
      "ENter mobile: 1235\n"
     ]
    }
   ],
   "source": [
    "num=int(input(\"ENter number of students: \"))\n",
    "for i in range(1,num+1):\n",
    "    fname=input(\"ENter Name: \")\n",
    "    age=int(input(\"Enter Age: \"))\n",
    "    mobile=int(input(\"ENter mobile: \"))\n",
    "    file=open(\"Students.txt\",\"a\")\n",
    "    file.write(\"*******************************************************************\\n\")\n",
    "    file.write(f\"\\t\\t{fname}\\t\\t|\\t{age}\\t\\t|\\t{mobile}\\n\")\n",
    "    file.close()"
   ]
  },
  {
   "cell_type": "markdown",
   "id": "206b01fa",
   "metadata": {},
   "source": [
    "# exception handling\n"
   ]
  },
  {
   "cell_type": "code",
   "execution_count": 36,
   "id": "5c52b4a5",
   "metadata": {},
   "outputs": [
    {
     "name": "stdout",
     "output_type": "stream",
     "text": [
      "ENter Number: rg34rg3\n"
     ]
    },
    {
     "ename": "ValueError",
     "evalue": "invalid literal for int() with base 10: 'rg34rg3'",
     "output_type": "error",
     "traceback": [
      "\u001b[1;31m---------------------------------------------------------------------------\u001b[0m",
      "\u001b[1;31mValueError\u001b[0m                                Traceback (most recent call last)",
      "Input \u001b[1;32mIn [36]\u001b[0m, in \u001b[0;36m<cell line: 1>\u001b[1;34m()\u001b[0m\n\u001b[1;32m----> 1\u001b[0m a\u001b[38;5;241m=\u001b[39m\u001b[38;5;28;43mint\u001b[39;49m\u001b[43m(\u001b[49m\u001b[38;5;28;43minput\u001b[39;49m\u001b[43m(\u001b[49m\u001b[38;5;124;43m\"\u001b[39;49m\u001b[38;5;124;43mENter Number: \u001b[39;49m\u001b[38;5;124;43m\"\u001b[39;49m\u001b[43m)\u001b[49m\u001b[43m)\u001b[49m\n",
      "\u001b[1;31mValueError\u001b[0m: invalid literal for int() with base 10: 'rg34rg3'"
     ]
    }
   ],
   "source": [
    "a=int(input(\"ENter Number: \"))"
   ]
  },
  {
   "cell_type": "code",
   "execution_count": null,
   "id": "64e4df49",
   "metadata": {},
   "outputs": [],
   "source": [
    "# try\n",
    "# except\n",
    "# finally\n",
    "# else"
   ]
  },
  {
   "cell_type": "code",
   "execution_count": 32,
   "id": "a1b57b03",
   "metadata": {},
   "outputs": [
    {
     "name": "stdout",
     "output_type": "stream",
     "text": [
      "ENter Number: pinjal\n",
      "Invalid value only numbers allowed\n"
     ]
    }
   ],
   "source": [
    "try:\n",
    "    a=int(input(\"ENter Number: \"))\n",
    "    print(a)\n",
    "except:\n",
    "    print(\"Invalid value only numbers allowed\")\n",
    "    "
   ]
  },
  {
   "cell_type": "code",
   "execution_count": 44,
   "id": "8fd9dee0",
   "metadata": {},
   "outputs": [
    {
     "ename": "TypeError",
     "evalue": "unsupported operand type(s) for +: 'int' and 'str'",
     "output_type": "error",
     "traceback": [
      "\u001b[1;31m---------------------------------------------------------------------------\u001b[0m",
      "\u001b[1;31mTypeError\u001b[0m                                 Traceback (most recent call last)",
      "Input \u001b[1;32mIn [44]\u001b[0m, in \u001b[0;36m<cell line: 3>\u001b[1;34m()\u001b[0m\n\u001b[0;32m      1\u001b[0m a\u001b[38;5;241m=\u001b[39m\u001b[38;5;241m45\u001b[39m\n\u001b[0;32m      2\u001b[0m b\u001b[38;5;241m=\u001b[39m\u001b[38;5;124m\"\u001b[39m\u001b[38;5;124mhello\u001b[39m\u001b[38;5;124m\"\u001b[39m\n\u001b[1;32m----> 3\u001b[0m \u001b[38;5;28mprint\u001b[39m(\u001b[43ma\u001b[49m\u001b[38;5;241;43m+\u001b[39;49m\u001b[43mb\u001b[49m)\n",
      "\u001b[1;31mTypeError\u001b[0m: unsupported operand type(s) for +: 'int' and 'str'"
     ]
    }
   ],
   "source": [
    "a=45\n",
    "b=\"hello\"\n",
    "print(a+b)\n",
    "# print(c)\n",
    "# print(10/0)"
   ]
  },
  {
   "cell_type": "code",
   "execution_count": 34,
   "id": "404eb3f3",
   "metadata": {},
   "outputs": [
    {
     "name": "stdout",
     "output_type": "stream",
     "text": [
      "VAriable trying to use is not defined\n"
     ]
    }
   ],
   "source": [
    "try:\n",
    "    a=45\n",
    "    b=\"hello\"\n",
    "    #print(a+b)\n",
    "    print(c)\n",
    "    print(10/0)\n",
    "except TypeError as t:\n",
    "    print(t)\n",
    "except NameError:\n",
    "    print(\"VAriable trying to use is not defined\")\n",
    "except ZeroDivisionError:\n",
    "    print(\"Zero division error denominator cannot be zero\")\n",
    "except:\n",
    "    print(\"Unknown error occured\")"
   ]
  },
  {
   "cell_type": "code",
   "execution_count": 38,
   "id": "5079ac2a",
   "metadata": {},
   "outputs": [],
   "source": [
    "fp=open(\"Demo45.txt\",\"w\")\n",
    "for i in range(1,11):\n",
    "    fp.write(f\"Hello, How are you {i} \\n\")\n",
    "fp.close()\n",
    "\n"
   ]
  },
  {
   "cell_type": "markdown",
   "id": "89a35bc4",
   "metadata": {},
   "source": [
    "# list comperhension"
   ]
  },
  {
   "cell_type": "code",
   "execution_count": 1,
   "id": "29e8a388",
   "metadata": {},
   "outputs": [
    {
     "name": "stdout",
     "output_type": "stream",
     "text": [
      "[2, 4, 6, 8, 10, 12, 14, 16, 18, 20, 22, 24, 26, 28, 30, 32, 34, 36, 38, 40, 42, 44, 46, 48, 50]\n"
     ]
    }
   ],
   "source": [
    "# listname=[appendingelemnet for i in iterable if condition]\n",
    "list2=[i for i in range(1,51) if i%2==0]\n",
    "print(list2)"
   ]
  },
  {
   "cell_type": "code",
   "execution_count": 10,
   "id": "bb13bfab",
   "metadata": {},
   "outputs": [
    {
     "name": "stdout",
     "output_type": "stream",
     "text": [
      "Hello World\n",
      "<class 'function'>\n"
     ]
    }
   ],
   "source": [
    "# lambda function\n",
    "# variablename=lambda parameters : body of the lambda function\n",
    "\n",
    "a=lambda : print(\"Hello World\")\n",
    "\n",
    "a()\n",
    "print(type(a))"
   ]
  },
  {
   "cell_type": "code",
   "execution_count": 16,
   "id": "594aa390",
   "metadata": {},
   "outputs": [
    {
     "name": "stdout",
     "output_type": "stream",
     "text": [
      "625 68921 279841\n"
     ]
    }
   ],
   "source": [
    "square=lambda y,z,m:print(y**2,z**3,m**4)\n",
    "square(25,41,23)"
   ]
  },
  {
   "cell_type": "code",
   "execution_count": 17,
   "id": "487ea8d1",
   "metadata": {},
   "outputs": [
    {
     "name": "stdout",
     "output_type": "stream",
     "text": [
      "(1, 6)\n",
      "(2, 7)\n",
      "(3, 8)\n",
      "(4, 9)\n",
      "(5, 10)\n"
     ]
    }
   ],
   "source": [
    "# zip()\n",
    "a=[1,2,3,4,5,54,89,65,87]\n",
    "b=[6,7,8,9,10]\n",
    "x=zip(a,b)\n",
    "# print(x)\n",
    "# print(range(1,10))\n",
    "for i in x:\n",
    "    print(i)"
   ]
  },
  {
   "cell_type": "code",
   "execution_count": 18,
   "id": "5035ac3d",
   "metadata": {},
   "outputs": [
    {
     "data": {
      "text/plain": [
       "'helloworld'"
      ]
     },
     "execution_count": 18,
     "metadata": {},
     "output_type": "execute_result"
    }
   ],
   "source": [
    "# OOPS\n",
    "\n",
    "# class\n",
    "# objects\n",
    "\n",
    "# encapsulation\n",
    "# constructor\n",
    "# inheritance\n",
    "# polymorphism\n",
    "\n",
    "89+36\n",
    "\n",
    "\"hello\"+\"world\""
   ]
  },
  {
   "cell_type": "code",
   "execution_count": null,
   "id": "c27f5ba7",
   "metadata": {},
   "outputs": [],
   "source": [
    "for i in range(1,4):\n",
    "    print(i)\n",
    "    student_name = input(\"enter your name:\")\n",
    "    age=int(input(\"enter the age:\"))\n",
    "    ss=int(input(\"enter the marks of ss :\"))\n",
    "    sci=int(input(\"enter the marks os science:\"))\n",
    "    math=int(input(\"enter the marks of math:\"))\n",
    "\n",
    "n=int(input(\"student roll number\"))\n",
    "    if n==i:\n",
    "        print(ss+sci+math)"
   ]
  },
  {
   "cell_type": "code",
   "execution_count": null,
   "id": "c3d4ae4d",
   "metadata": {},
   "outputs": [],
   "source": [
    "a=10\n",
    "a=\"hello\"\n",
    "print(a)"
   ]
  },
  {
   "cell_type": "code",
   "execution_count": null,
   "id": "b3f46ede",
   "metadata": {},
   "outputs": [],
   "source": [
    "class classname:\n",
    "    variables---data members\n",
    "    functions---member function or methods"
   ]
  },
  {
   "cell_type": "code",
   "execution_count": 19,
   "id": "df9e5448",
   "metadata": {},
   "outputs": [
    {
     "name": "stdout",
     "output_type": "stream",
     "text": [
      "<class 'list'>\n"
     ]
    }
   ],
   "source": [
    "l1=[1,2,3,4,5]\n",
    "print(type(l1))\n"
   ]
  },
  {
   "cell_type": "code",
   "execution_count": 39,
   "id": "53df8933",
   "metadata": {},
   "outputs": [
    {
     "name": "stdout",
     "output_type": "stream",
     "text": [
      "1926709337968\n",
      "1926709337968\n",
      "1926709336240\n",
      "1926709336240\n"
     ]
    }
   ],
   "source": [
    "class student:\n",
    "    \n",
    "    def __init__(self):\n",
    "        self.name=\"\"\n",
    "        self.age=\"\"\n",
    "        print(id(self))\n",
    "        \n",
    "    def getdata(self):\n",
    "        self.name=input(\"ENter NAme: \")\n",
    "        self.age=int(input(\"ENter Age\"))\n",
    "        \n",
    "# objetcname=classname()\n",
    "\n",
    "s1=student()\n",
    "print(id(s1))\n",
    "s2=student()\n",
    "print(id(s2))\n",
    "s1.getdata()\n",
    "print(s1.marks1+s1.marks2)\n",
    "\n"
   ]
  },
  {
   "cell_type": "code",
   "execution_count": null,
   "id": "83d12796",
   "metadata": {},
   "outputs": [],
   "source": []
  },
  {
   "cell_type": "code",
   "execution_count": null,
   "id": "4dd1ce76",
   "metadata": {},
   "outputs": [],
   "source": []
  },
  {
   "cell_type": "code",
   "execution_count": null,
   "id": "ce8c0277",
   "metadata": {},
   "outputs": [],
   "source": []
  }
 ],
 "metadata": {
  "kernelspec": {
   "display_name": "Python 3 (ipykernel)",
   "language": "python",
   "name": "python3"
  },
  "language_info": {
   "codemirror_mode": {
    "name": "ipython",
    "version": 3
   },
   "file_extension": ".py",
   "mimetype": "text/x-python",
   "name": "python",
   "nbconvert_exporter": "python",
   "pygments_lexer": "ipython3",
   "version": "3.9.13"
  }
 },
 "nbformat": 4,
 "nbformat_minor": 5
}
